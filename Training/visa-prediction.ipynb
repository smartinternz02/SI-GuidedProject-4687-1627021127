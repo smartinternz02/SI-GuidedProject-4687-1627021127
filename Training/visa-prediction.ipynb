{
 "cells": [
  {
   "cell_type": "markdown",
   "metadata": {},
   "source": [
    "# Visa Approval Prediction"
   ]
  },
  {
   "cell_type": "raw",
   "metadata": {},
   "source": [
    "18BIS0032\n",
    "ASHWATH A"
   ]
  },
  {
   "cell_type": "markdown",
   "metadata": {},
   "source": [
    "# Import Libraries"
   ]
  },
  {
   "cell_type": "code",
   "execution_count": 2,
   "metadata": {
    "_cell_guid": "b1076dfc-b9ad-4769-8c92-a6c4dae69d19",
    "_uuid": "8f2839f25d086af736a60e9eeb907d3b93b6e0e5",
    "execution": {
     "iopub.execute_input": "2021-07-29T12:42:44.032682Z",
     "iopub.status.busy": "2021-07-29T12:42:44.032249Z",
     "iopub.status.idle": "2021-07-29T12:42:44.052833Z",
     "shell.execute_reply": "2021-07-29T12:42:44.051307Z",
     "shell.execute_reply.started": "2021-07-29T12:42:44.032639Z"
    }
   },
   "outputs": [
    {
     "name": "stdout",
     "output_type": "stream",
     "text": [
      "/kaggle/input/h-1b-visa/h1b_kaggle.csv\n"
     ]
    }
   ],
   "source": [
    "import numpy as np # linear algebra\n",
    "import pandas as pd # data processing\n",
    "import os"
   ]
  },
  {
   "cell_type": "markdown",
   "metadata": {},
   "source": [
    "# Read Dataset"
   ]
  },
  {
   "cell_type": "code",
   "execution_count": 3,
   "metadata": {
    "execution": {
     "iopub.execute_input": "2021-07-29T12:42:44.255534Z",
     "iopub.status.busy": "2021-07-29T12:42:44.255160Z",
     "iopub.status.idle": "2021-07-29T12:42:56.190734Z",
     "shell.execute_reply": "2021-07-29T12:42:56.189720Z",
     "shell.execute_reply.started": "2021-07-29T12:42:44.255503Z"
    }
   },
   "outputs": [],
   "source": [
    "df = pd.read_csv(\"../input/h-1b-visa/h1b_kaggle.csv\")"
   ]
  },
  {
   "cell_type": "code",
   "execution_count": 4,
   "metadata": {
    "execution": {
     "iopub.execute_input": "2021-07-29T12:42:56.192591Z",
     "iopub.status.busy": "2021-07-29T12:42:56.192281Z",
     "iopub.status.idle": "2021-07-29T12:42:56.201189Z",
     "shell.execute_reply": "2021-07-29T12:42:56.200149Z",
     "shell.execute_reply.started": "2021-07-29T12:42:56.192560Z"
    }
   },
   "outputs": [
    {
     "data": {
      "text/plain": [
       "(3002458, 11)"
      ]
     },
     "execution_count": 4,
     "metadata": {},
     "output_type": "execute_result"
    }
   ],
   "source": [
    "df.shape"
   ]
  },
  {
   "cell_type": "code",
   "execution_count": 5,
   "metadata": {
    "execution": {
     "iopub.execute_input": "2021-07-29T12:42:56.202961Z",
     "iopub.status.busy": "2021-07-29T12:42:56.202691Z",
     "iopub.status.idle": "2021-07-29T12:42:56.240986Z",
     "shell.execute_reply": "2021-07-29T12:42:56.240268Z",
     "shell.execute_reply.started": "2021-07-29T12:42:56.202936Z"
    }
   },
   "outputs": [
    {
     "data": {
      "text/html": [
       "<div>\n",
       "<style scoped>\n",
       "    .dataframe tbody tr th:only-of-type {\n",
       "        vertical-align: middle;\n",
       "    }\n",
       "\n",
       "    .dataframe tbody tr th {\n",
       "        vertical-align: top;\n",
       "    }\n",
       "\n",
       "    .dataframe thead th {\n",
       "        text-align: right;\n",
       "    }\n",
       "</style>\n",
       "<table border=\"1\" class=\"dataframe\">\n",
       "  <thead>\n",
       "    <tr style=\"text-align: right;\">\n",
       "      <th></th>\n",
       "      <th>Unnamed: 0</th>\n",
       "      <th>CASE_STATUS</th>\n",
       "      <th>EMPLOYER_NAME</th>\n",
       "      <th>SOC_NAME</th>\n",
       "      <th>JOB_TITLE</th>\n",
       "      <th>FULL_TIME_POSITION</th>\n",
       "      <th>PREVAILING_WAGE</th>\n",
       "      <th>YEAR</th>\n",
       "      <th>WORKSITE</th>\n",
       "      <th>lon</th>\n",
       "      <th>lat</th>\n",
       "    </tr>\n",
       "  </thead>\n",
       "  <tbody>\n",
       "    <tr>\n",
       "      <th>0</th>\n",
       "      <td>1</td>\n",
       "      <td>CERTIFIED-WITHDRAWN</td>\n",
       "      <td>UNIVERSITY OF MICHIGAN</td>\n",
       "      <td>BIOCHEMISTS AND BIOPHYSICISTS</td>\n",
       "      <td>POSTDOCTORAL RESEARCH FELLOW</td>\n",
       "      <td>N</td>\n",
       "      <td>36067.0</td>\n",
       "      <td>2016.0</td>\n",
       "      <td>ANN ARBOR, MICHIGAN</td>\n",
       "      <td>-83.743038</td>\n",
       "      <td>42.280826</td>\n",
       "    </tr>\n",
       "    <tr>\n",
       "      <th>1</th>\n",
       "      <td>2</td>\n",
       "      <td>CERTIFIED-WITHDRAWN</td>\n",
       "      <td>GOODMAN NETWORKS, INC.</td>\n",
       "      <td>CHIEF EXECUTIVES</td>\n",
       "      <td>CHIEF OPERATING OFFICER</td>\n",
       "      <td>Y</td>\n",
       "      <td>242674.0</td>\n",
       "      <td>2016.0</td>\n",
       "      <td>PLANO, TEXAS</td>\n",
       "      <td>-96.698886</td>\n",
       "      <td>33.019843</td>\n",
       "    </tr>\n",
       "    <tr>\n",
       "      <th>2</th>\n",
       "      <td>3</td>\n",
       "      <td>CERTIFIED-WITHDRAWN</td>\n",
       "      <td>PORTS AMERICA GROUP, INC.</td>\n",
       "      <td>CHIEF EXECUTIVES</td>\n",
       "      <td>CHIEF PROCESS OFFICER</td>\n",
       "      <td>Y</td>\n",
       "      <td>193066.0</td>\n",
       "      <td>2016.0</td>\n",
       "      <td>JERSEY CITY, NEW JERSEY</td>\n",
       "      <td>-74.077642</td>\n",
       "      <td>40.728158</td>\n",
       "    </tr>\n",
       "    <tr>\n",
       "      <th>3</th>\n",
       "      <td>4</td>\n",
       "      <td>CERTIFIED-WITHDRAWN</td>\n",
       "      <td>GATES CORPORATION, A WHOLLY-OWNED SUBSIDIARY O...</td>\n",
       "      <td>CHIEF EXECUTIVES</td>\n",
       "      <td>REGIONAL PRESIDEN, AMERICAS</td>\n",
       "      <td>Y</td>\n",
       "      <td>220314.0</td>\n",
       "      <td>2016.0</td>\n",
       "      <td>DENVER, COLORADO</td>\n",
       "      <td>-104.990251</td>\n",
       "      <td>39.739236</td>\n",
       "    </tr>\n",
       "    <tr>\n",
       "      <th>4</th>\n",
       "      <td>5</td>\n",
       "      <td>WITHDRAWN</td>\n",
       "      <td>PEABODY INVESTMENTS CORP.</td>\n",
       "      <td>CHIEF EXECUTIVES</td>\n",
       "      <td>PRESIDENT MONGOLIA AND INDIA</td>\n",
       "      <td>Y</td>\n",
       "      <td>157518.4</td>\n",
       "      <td>2016.0</td>\n",
       "      <td>ST. LOUIS, MISSOURI</td>\n",
       "      <td>-90.199404</td>\n",
       "      <td>38.627003</td>\n",
       "    </tr>\n",
       "  </tbody>\n",
       "</table>\n",
       "</div>"
      ],
      "text/plain": [
       "   Unnamed: 0          CASE_STATUS  \\\n",
       "0           1  CERTIFIED-WITHDRAWN   \n",
       "1           2  CERTIFIED-WITHDRAWN   \n",
       "2           3  CERTIFIED-WITHDRAWN   \n",
       "3           4  CERTIFIED-WITHDRAWN   \n",
       "4           5            WITHDRAWN   \n",
       "\n",
       "                                       EMPLOYER_NAME  \\\n",
       "0                             UNIVERSITY OF MICHIGAN   \n",
       "1                             GOODMAN NETWORKS, INC.   \n",
       "2                          PORTS AMERICA GROUP, INC.   \n",
       "3  GATES CORPORATION, A WHOLLY-OWNED SUBSIDIARY O...   \n",
       "4                          PEABODY INVESTMENTS CORP.   \n",
       "\n",
       "                        SOC_NAME                     JOB_TITLE  \\\n",
       "0  BIOCHEMISTS AND BIOPHYSICISTS  POSTDOCTORAL RESEARCH FELLOW   \n",
       "1               CHIEF EXECUTIVES       CHIEF OPERATING OFFICER   \n",
       "2               CHIEF EXECUTIVES         CHIEF PROCESS OFFICER   \n",
       "3               CHIEF EXECUTIVES   REGIONAL PRESIDEN, AMERICAS   \n",
       "4               CHIEF EXECUTIVES  PRESIDENT MONGOLIA AND INDIA   \n",
       "\n",
       "  FULL_TIME_POSITION  PREVAILING_WAGE    YEAR                 WORKSITE  \\\n",
       "0                  N          36067.0  2016.0      ANN ARBOR, MICHIGAN   \n",
       "1                  Y         242674.0  2016.0             PLANO, TEXAS   \n",
       "2                  Y         193066.0  2016.0  JERSEY CITY, NEW JERSEY   \n",
       "3                  Y         220314.0  2016.0         DENVER, COLORADO   \n",
       "4                  Y         157518.4  2016.0      ST. LOUIS, MISSOURI   \n",
       "\n",
       "          lon        lat  \n",
       "0  -83.743038  42.280826  \n",
       "1  -96.698886  33.019843  \n",
       "2  -74.077642  40.728158  \n",
       "3 -104.990251  39.739236  \n",
       "4  -90.199404  38.627003  "
      ]
     },
     "execution_count": 5,
     "metadata": {},
     "output_type": "execute_result"
    }
   ],
   "source": [
    "df.head()"
   ]
  },
  {
   "cell_type": "markdown",
   "metadata": {},
   "source": [
    "# Handle Missing Values"
   ]
  },
  {
   "cell_type": "code",
   "execution_count": 6,
   "metadata": {
    "execution": {
     "iopub.execute_input": "2021-07-29T12:42:56.242319Z",
     "iopub.status.busy": "2021-07-29T12:42:56.242010Z",
     "iopub.status.idle": "2021-07-29T12:42:57.999987Z",
     "shell.execute_reply": "2021-07-29T12:42:57.998843Z",
     "shell.execute_reply.started": "2021-07-29T12:42:56.242292Z"
    }
   },
   "outputs": [
    {
     "data": {
      "text/plain": [
       "Unnamed: 0            False\n",
       "CASE_STATUS            True\n",
       "EMPLOYER_NAME          True\n",
       "SOC_NAME               True\n",
       "JOB_TITLE              True\n",
       "FULL_TIME_POSITION     True\n",
       "PREVAILING_WAGE        True\n",
       "YEAR                   True\n",
       "WORKSITE              False\n",
       "lon                    True\n",
       "lat                    True\n",
       "dtype: bool"
      ]
     },
     "execution_count": 6,
     "metadata": {},
     "output_type": "execute_result"
    }
   ],
   "source": [
    "df.isnull().any()"
   ]
  },
  {
   "cell_type": "code",
   "execution_count": 7,
   "metadata": {
    "execution": {
     "iopub.execute_input": "2021-07-29T12:43:02.835471Z",
     "iopub.status.busy": "2021-07-29T12:43:02.835064Z",
     "iopub.status.idle": "2021-07-29T12:43:04.598535Z",
     "shell.execute_reply": "2021-07-29T12:43:04.597506Z",
     "shell.execute_reply.started": "2021-07-29T12:43:02.835439Z"
    }
   },
   "outputs": [
    {
     "data": {
      "text/plain": [
       "Unnamed: 0                 0\n",
       "CASE_STATUS               13\n",
       "EMPLOYER_NAME             59\n",
       "SOC_NAME               17734\n",
       "JOB_TITLE                 43\n",
       "FULL_TIME_POSITION        15\n",
       "PREVAILING_WAGE           85\n",
       "YEAR                      13\n",
       "WORKSITE                   0\n",
       "lon                   107242\n",
       "lat                   107242\n",
       "dtype: int64"
      ]
     },
     "execution_count": 7,
     "metadata": {},
     "output_type": "execute_result"
    }
   ],
   "source": [
    "df.isnull().sum()"
   ]
  },
  {
   "cell_type": "code",
   "execution_count": 8,
   "metadata": {
    "execution": {
     "iopub.execute_input": "2021-07-29T12:43:04.600350Z",
     "iopub.status.busy": "2021-07-29T12:43:04.599928Z",
     "iopub.status.idle": "2021-07-29T12:43:05.249868Z",
     "shell.execute_reply": "2021-07-29T12:43:05.248982Z",
     "shell.execute_reply.started": "2021-07-29T12:43:04.600307Z"
    }
   },
   "outputs": [],
   "source": [
    "df = df.dropna(axis=0, subset=['CASE_STATUS'])"
   ]
  },
  {
   "cell_type": "code",
   "execution_count": 9,
   "metadata": {
    "execution": {
     "iopub.execute_input": "2021-07-29T12:43:05.251541Z",
     "iopub.status.busy": "2021-07-29T12:43:05.251263Z",
     "iopub.status.idle": "2021-07-29T12:43:05.377683Z",
     "shell.execute_reply": "2021-07-29T12:43:05.376703Z",
     "shell.execute_reply.started": "2021-07-29T12:43:05.251514Z"
    }
   },
   "outputs": [],
   "source": [
    "df = df.drop(['Unnamed: 0', 'EMPLOYER_NAME', 'JOB_TITLE','WORKSITE', 'lon','lat'], axis = 1)"
   ]
  },
  {
   "cell_type": "code",
   "execution_count": 10,
   "metadata": {
    "execution": {
     "iopub.execute_input": "2021-07-29T12:43:05.755527Z",
     "iopub.status.busy": "2021-07-29T12:43:05.755149Z",
     "iopub.status.idle": "2021-07-29T12:43:06.553015Z",
     "shell.execute_reply": "2021-07-29T12:43:06.552054Z",
     "shell.execute_reply.started": "2021-07-29T12:43:05.755497Z"
    }
   },
   "outputs": [],
   "source": [
    "df['SOC_NAME'] = df['SOC_NAME'].fillna(df['SOC_NAME'].mode()[0])"
   ]
  },
  {
   "cell_type": "code",
   "execution_count": 11,
   "metadata": {
    "execution": {
     "iopub.execute_input": "2021-07-29T12:43:06.554924Z",
     "iopub.status.busy": "2021-07-29T12:43:06.554640Z",
     "iopub.status.idle": "2021-07-29T12:43:07.267450Z",
     "shell.execute_reply": "2021-07-29T12:43:07.266440Z",
     "shell.execute_reply.started": "2021-07-29T12:43:06.554897Z"
    }
   },
   "outputs": [],
   "source": [
    "df['FULL_TIME_POSITION'] = df['FULL_TIME_POSITION'].fillna(df['FULL_TIME_POSITION'].mode()[0])"
   ]
  },
  {
   "cell_type": "code",
   "execution_count": 12,
   "metadata": {
    "execution": {
     "iopub.execute_input": "2021-07-29T12:43:07.269375Z",
     "iopub.status.busy": "2021-07-29T12:43:07.269052Z",
     "iopub.status.idle": "2021-07-29T12:43:07.405499Z",
     "shell.execute_reply": "2021-07-29T12:43:07.404491Z",
     "shell.execute_reply.started": "2021-07-29T12:43:07.269346Z"
    }
   },
   "outputs": [],
   "source": [
    "df['PREVAILING_WAGE'] = df['PREVAILING_WAGE'].fillna(df['PREVAILING_WAGE'].mode()[0])"
   ]
  },
  {
   "cell_type": "code",
   "execution_count": 13,
   "metadata": {
    "execution": {
     "iopub.execute_input": "2021-07-29T12:43:08.805493Z",
     "iopub.status.busy": "2021-07-29T12:43:08.805126Z",
     "iopub.status.idle": "2021-07-29T12:43:09.692364Z",
     "shell.execute_reply": "2021-07-29T12:43:09.691367Z",
     "shell.execute_reply.started": "2021-07-29T12:43:08.805463Z"
    }
   },
   "outputs": [
    {
     "data": {
      "text/plain": [
       "CASE_STATUS           0\n",
       "SOC_NAME              0\n",
       "FULL_TIME_POSITION    0\n",
       "PREVAILING_WAGE       0\n",
       "YEAR                  0\n",
       "dtype: int64"
      ]
     },
     "execution_count": 13,
     "metadata": {},
     "output_type": "execute_result"
    }
   ],
   "source": [
    "df.isnull().sum()"
   ]
  },
  {
   "cell_type": "code",
   "execution_count": 14,
   "metadata": {
    "execution": {
     "iopub.execute_input": "2021-07-29T12:43:10.225810Z",
     "iopub.status.busy": "2021-07-29T12:43:10.225450Z",
     "iopub.status.idle": "2021-07-29T12:43:10.388050Z",
     "shell.execute_reply": "2021-07-29T12:43:10.387102Z",
     "shell.execute_reply.started": "2021-07-29T12:43:10.225779Z"
    }
   },
   "outputs": [],
   "source": [
    "df = df[df['PREVAILING_WAGE'] <= 500000]"
   ]
  },
  {
   "cell_type": "code",
   "execution_count": 15,
   "metadata": {
    "execution": {
     "iopub.execute_input": "2021-07-29T12:43:11.020667Z",
     "iopub.status.busy": "2021-07-29T12:43:11.020150Z",
     "iopub.status.idle": "2021-07-29T12:43:11.744063Z",
     "shell.execute_reply": "2021-07-29T12:43:11.743357Z",
     "shell.execute_reply.started": "2021-07-29T12:43:11.020634Z"
    }
   },
   "outputs": [
    {
     "data": {
      "text/plain": [
       "CERTIFIED                                             2615530\n",
       "CERTIFIED-WITHDRAWN                                    202650\n",
       "DENIED                                                  92202\n",
       "WITHDRAWN                                               89584\n",
       "PENDING QUALITY AND COMPLIANCE REVIEW - UNASSIGNED         15\n",
       "REJECTED                                                    2\n",
       "INVALIDATED                                                 1\n",
       "Name: CASE_STATUS, dtype: int64"
      ]
     },
     "execution_count": 15,
     "metadata": {},
     "output_type": "execute_result"
    }
   ],
   "source": [
    "df.CASE_STATUS.value_counts() "
   ]
  },
  {
   "cell_type": "code",
   "execution_count": 16,
   "metadata": {
    "execution": {
     "iopub.execute_input": "2021-07-29T12:43:12.760610Z",
     "iopub.status.busy": "2021-07-29T12:43:12.760113Z",
     "iopub.status.idle": "2021-07-29T12:43:12.773516Z",
     "shell.execute_reply": "2021-07-29T12:43:12.772475Z",
     "shell.execute_reply.started": "2021-07-29T12:43:12.760578Z"
    }
   },
   "outputs": [
    {
     "data": {
      "text/html": [
       "<div>\n",
       "<style scoped>\n",
       "    .dataframe tbody tr th:only-of-type {\n",
       "        vertical-align: middle;\n",
       "    }\n",
       "\n",
       "    .dataframe tbody tr th {\n",
       "        vertical-align: top;\n",
       "    }\n",
       "\n",
       "    .dataframe thead th {\n",
       "        text-align: right;\n",
       "    }\n",
       "</style>\n",
       "<table border=\"1\" class=\"dataframe\">\n",
       "  <thead>\n",
       "    <tr style=\"text-align: right;\">\n",
       "      <th></th>\n",
       "      <th>CASE_STATUS</th>\n",
       "      <th>SOC_NAME</th>\n",
       "      <th>FULL_TIME_POSITION</th>\n",
       "      <th>PREVAILING_WAGE</th>\n",
       "      <th>YEAR</th>\n",
       "    </tr>\n",
       "  </thead>\n",
       "  <tbody>\n",
       "    <tr>\n",
       "      <th>0</th>\n",
       "      <td>CERTIFIED-WITHDRAWN</td>\n",
       "      <td>BIOCHEMISTS AND BIOPHYSICISTS</td>\n",
       "      <td>N</td>\n",
       "      <td>36067.0</td>\n",
       "      <td>2016.0</td>\n",
       "    </tr>\n",
       "    <tr>\n",
       "      <th>1</th>\n",
       "      <td>CERTIFIED-WITHDRAWN</td>\n",
       "      <td>CHIEF EXECUTIVES</td>\n",
       "      <td>Y</td>\n",
       "      <td>242674.0</td>\n",
       "      <td>2016.0</td>\n",
       "    </tr>\n",
       "    <tr>\n",
       "      <th>2</th>\n",
       "      <td>CERTIFIED-WITHDRAWN</td>\n",
       "      <td>CHIEF EXECUTIVES</td>\n",
       "      <td>Y</td>\n",
       "      <td>193066.0</td>\n",
       "      <td>2016.0</td>\n",
       "    </tr>\n",
       "    <tr>\n",
       "      <th>3</th>\n",
       "      <td>CERTIFIED-WITHDRAWN</td>\n",
       "      <td>CHIEF EXECUTIVES</td>\n",
       "      <td>Y</td>\n",
       "      <td>220314.0</td>\n",
       "      <td>2016.0</td>\n",
       "    </tr>\n",
       "    <tr>\n",
       "      <th>4</th>\n",
       "      <td>WITHDRAWN</td>\n",
       "      <td>CHIEF EXECUTIVES</td>\n",
       "      <td>Y</td>\n",
       "      <td>157518.4</td>\n",
       "      <td>2016.0</td>\n",
       "    </tr>\n",
       "  </tbody>\n",
       "</table>\n",
       "</div>"
      ],
      "text/plain": [
       "           CASE_STATUS                       SOC_NAME FULL_TIME_POSITION  \\\n",
       "0  CERTIFIED-WITHDRAWN  BIOCHEMISTS AND BIOPHYSICISTS                  N   \n",
       "1  CERTIFIED-WITHDRAWN               CHIEF EXECUTIVES                  Y   \n",
       "2  CERTIFIED-WITHDRAWN               CHIEF EXECUTIVES                  Y   \n",
       "3  CERTIFIED-WITHDRAWN               CHIEF EXECUTIVES                  Y   \n",
       "4            WITHDRAWN               CHIEF EXECUTIVES                  Y   \n",
       "\n",
       "   PREVAILING_WAGE    YEAR  \n",
       "0          36067.0  2016.0  \n",
       "1         242674.0  2016.0  \n",
       "2         193066.0  2016.0  \n",
       "3         220314.0  2016.0  \n",
       "4         157518.4  2016.0  "
      ]
     },
     "execution_count": 16,
     "metadata": {},
     "output_type": "execute_result"
    }
   ],
   "source": [
    "df.head()"
   ]
  },
  {
   "cell_type": "code",
   "execution_count": 17,
   "metadata": {
    "execution": {
     "iopub.execute_input": "2021-07-29T12:43:16.080470Z",
     "iopub.status.busy": "2021-07-29T12:43:16.080086Z",
     "iopub.status.idle": "2021-07-29T12:43:16.086566Z",
     "shell.execute_reply": "2021-07-29T12:43:16.085494Z",
     "shell.execute_reply.started": "2021-07-29T12:43:16.080440Z"
    },
    "scrolled": true
   },
   "outputs": [
    {
     "data": {
      "text/plain": [
       "(2999984, 5)"
      ]
     },
     "execution_count": 17,
     "metadata": {},
     "output_type": "execute_result"
    }
   ],
   "source": [
    "df.shape"
   ]
  },
  {
   "cell_type": "markdown",
   "metadata": {},
   "source": [
    "# Sampling"
   ]
  },
  {
   "cell_type": "code",
   "execution_count": 18,
   "metadata": {
    "execution": {
     "iopub.execute_input": "2021-07-29T12:43:19.960632Z",
     "iopub.status.busy": "2021-07-29T12:43:19.960268Z",
     "iopub.status.idle": "2021-07-29T12:43:22.161766Z",
     "shell.execute_reply": "2021-07-29T12:43:22.160714Z",
     "shell.execute_reply.started": "2021-07-29T12:43:19.960603Z"
    }
   },
   "outputs": [],
   "source": [
    "s0 = df.CASE_STATUS[df.CASE_STATUS.eq(\"CERTIFIED\")].sample(85000).index\n",
    "s1 = df.CASE_STATUS[df.CASE_STATUS.eq(\"CERTIFIED-WITHDRAWN\")].sample(85000).index \n",
    "s2 = df.CASE_STATUS[df.CASE_STATUS.eq(\"DENIED\")].sample(85000).index\n",
    "s3 = df.CASE_STATUS[df.CASE_STATUS.eq(\"WITHDRAWN\")].sample(85000).index \n",
    "# s4 = df.CASE_STATUS[df.CASE_STATUS.eq(\"PENDING QUALITY AND COMPLIANCE REVIEW - UNASSIGNED\")].sample(15).index \n",
    "# s5 = df.CASE_STATUS[df.CASE_STATUS.eq(\"REJECTED\")].sample(2).index \n",
    "# s6 = df.CASE_STATUS[df.CASE_STATUS.eq(\"INVALIDATED\")].sample(1).index \n",
    "# samp = df.loc[s0.union(s1).union(s2).union(s3).union(s4).union(s5).union(s6)]\n",
    "samp = df.loc[s0.union(s1).union(s2).union(s3)]"
   ]
  },
  {
   "cell_type": "code",
   "execution_count": 19,
   "metadata": {
    "execution": {
     "iopub.execute_input": "2021-07-29T12:43:24.605340Z",
     "iopub.status.busy": "2021-07-29T12:43:24.604984Z",
     "iopub.status.idle": "2021-07-29T12:43:24.611650Z",
     "shell.execute_reply": "2021-07-29T12:43:24.610464Z",
     "shell.execute_reply.started": "2021-07-29T12:43:24.605310Z"
    }
   },
   "outputs": [
    {
     "data": {
      "text/plain": [
       "(340000, 5)"
      ]
     },
     "execution_count": 19,
     "metadata": {},
     "output_type": "execute_result"
    }
   ],
   "source": [
    "samp.shape"
   ]
  },
  {
   "cell_type": "code",
   "execution_count": 20,
   "metadata": {
    "execution": {
     "iopub.execute_input": "2021-07-29T12:43:25.375537Z",
     "iopub.status.busy": "2021-07-29T12:43:25.375162Z",
     "iopub.status.idle": "2021-07-29T12:43:25.389961Z",
     "shell.execute_reply": "2021-07-29T12:43:25.388895Z",
     "shell.execute_reply.started": "2021-07-29T12:43:25.375505Z"
    }
   },
   "outputs": [
    {
     "data": {
      "text/html": [
       "<div>\n",
       "<style scoped>\n",
       "    .dataframe tbody tr th:only-of-type {\n",
       "        vertical-align: middle;\n",
       "    }\n",
       "\n",
       "    .dataframe tbody tr th {\n",
       "        vertical-align: top;\n",
       "    }\n",
       "\n",
       "    .dataframe thead th {\n",
       "        text-align: right;\n",
       "    }\n",
       "</style>\n",
       "<table border=\"1\" class=\"dataframe\">\n",
       "  <thead>\n",
       "    <tr style=\"text-align: right;\">\n",
       "      <th></th>\n",
       "      <th>CASE_STATUS</th>\n",
       "      <th>SOC_NAME</th>\n",
       "      <th>FULL_TIME_POSITION</th>\n",
       "      <th>PREVAILING_WAGE</th>\n",
       "      <th>YEAR</th>\n",
       "    </tr>\n",
       "  </thead>\n",
       "  <tbody>\n",
       "    <tr>\n",
       "      <th>1</th>\n",
       "      <td>CERTIFIED-WITHDRAWN</td>\n",
       "      <td>CHIEF EXECUTIVES</td>\n",
       "      <td>Y</td>\n",
       "      <td>242674.0</td>\n",
       "      <td>2016.0</td>\n",
       "    </tr>\n",
       "    <tr>\n",
       "      <th>3</th>\n",
       "      <td>CERTIFIED-WITHDRAWN</td>\n",
       "      <td>CHIEF EXECUTIVES</td>\n",
       "      <td>Y</td>\n",
       "      <td>220314.0</td>\n",
       "      <td>2016.0</td>\n",
       "    </tr>\n",
       "    <tr>\n",
       "      <th>4</th>\n",
       "      <td>WITHDRAWN</td>\n",
       "      <td>CHIEF EXECUTIVES</td>\n",
       "      <td>Y</td>\n",
       "      <td>157518.4</td>\n",
       "      <td>2016.0</td>\n",
       "    </tr>\n",
       "    <tr>\n",
       "      <th>11</th>\n",
       "      <td>CERTIFIED-WITHDRAWN</td>\n",
       "      <td>CHIEF EXECUTIVES</td>\n",
       "      <td>Y</td>\n",
       "      <td>163717.0</td>\n",
       "      <td>2016.0</td>\n",
       "    </tr>\n",
       "    <tr>\n",
       "      <th>12</th>\n",
       "      <td>CERTIFIED-WITHDRAWN</td>\n",
       "      <td>CHIEF EXECUTIVES</td>\n",
       "      <td>Y</td>\n",
       "      <td>203860.8</td>\n",
       "      <td>2016.0</td>\n",
       "    </tr>\n",
       "  </tbody>\n",
       "</table>\n",
       "</div>"
      ],
      "text/plain": [
       "            CASE_STATUS          SOC_NAME FULL_TIME_POSITION  PREVAILING_WAGE  \\\n",
       "1   CERTIFIED-WITHDRAWN  CHIEF EXECUTIVES                  Y         242674.0   \n",
       "3   CERTIFIED-WITHDRAWN  CHIEF EXECUTIVES                  Y         220314.0   \n",
       "4             WITHDRAWN  CHIEF EXECUTIVES                  Y         157518.4   \n",
       "11  CERTIFIED-WITHDRAWN  CHIEF EXECUTIVES                  Y         163717.0   \n",
       "12  CERTIFIED-WITHDRAWN  CHIEF EXECUTIVES                  Y         203860.8   \n",
       "\n",
       "      YEAR  \n",
       "1   2016.0  \n",
       "3   2016.0  \n",
       "4   2016.0  \n",
       "11  2016.0  \n",
       "12  2016.0  "
      ]
     },
     "execution_count": 20,
     "metadata": {},
     "output_type": "execute_result"
    }
   ],
   "source": [
    "samp.head()"
   ]
  },
  {
   "cell_type": "code",
   "execution_count": 21,
   "metadata": {
    "execution": {
     "iopub.execute_input": "2021-07-29T12:43:29.020600Z",
     "iopub.status.busy": "2021-07-29T12:43:29.020230Z",
     "iopub.status.idle": "2021-07-29T12:43:29.111563Z",
     "shell.execute_reply": "2021-07-29T12:43:29.110816Z",
     "shell.execute_reply.started": "2021-07-29T12:43:29.020569Z"
    }
   },
   "outputs": [
    {
     "data": {
      "text/plain": [
       "DENIED                 85000\n",
       "WITHDRAWN              85000\n",
       "CERTIFIED              85000\n",
       "CERTIFIED-WITHDRAWN    85000\n",
       "Name: CASE_STATUS, dtype: int64"
      ]
     },
     "execution_count": 21,
     "metadata": {},
     "output_type": "execute_result"
    }
   ],
   "source": [
    "samp.CASE_STATUS.value_counts() "
   ]
  },
  {
   "cell_type": "code",
   "execution_count": 22,
   "metadata": {
    "execution": {
     "iopub.execute_input": "2021-07-29T12:43:33.520649Z",
     "iopub.status.busy": "2021-07-29T12:43:33.520118Z",
     "iopub.status.idle": "2021-07-29T12:43:33.524383Z",
     "shell.execute_reply": "2021-07-29T12:43:33.523324Z",
     "shell.execute_reply.started": "2021-07-29T12:43:33.520616Z"
    }
   },
   "outputs": [],
   "source": [
    "df = samp"
   ]
  },
  {
   "cell_type": "code",
   "execution_count": 23,
   "metadata": {
    "execution": {
     "iopub.execute_input": "2021-07-29T12:43:39.411415Z",
     "iopub.status.busy": "2021-07-29T12:43:39.410818Z",
     "iopub.status.idle": "2021-07-29T12:43:41.291374Z",
     "shell.execute_reply": "2021-07-29T12:43:41.289440Z",
     "shell.execute_reply.started": "2021-07-29T12:43:39.411367Z"
    }
   },
   "outputs": [
    {
     "name": "stderr",
     "output_type": "stream",
     "text": [
      "/opt/conda/lib/python3.7/site-packages/ipykernel_launcher.py:3: SettingWithCopyWarning: \n",
      "A value is trying to be set on a copy of a slice from a DataFrame\n",
      "\n",
      "See the caveats in the documentation: https://pandas.pydata.org/pandas-docs/stable/user_guide/indexing.html#returning-a-view-versus-a-copy\n",
      "  This is separate from the ipykernel package so we can avoid doing imports until\n",
      "/opt/conda/lib/python3.7/site-packages/ipykernel_launcher.py:4: SettingWithCopyWarning: \n",
      "A value is trying to be set on a copy of a slice from a DataFrame\n",
      "\n",
      "See the caveats in the documentation: https://pandas.pydata.org/pandas-docs/stable/user_guide/indexing.html#returning-a-view-versus-a-copy\n",
      "  after removing the cwd from sys.path.\n",
      "/opt/conda/lib/python3.7/site-packages/ipykernel_launcher.py:5: SettingWithCopyWarning: \n",
      "A value is trying to be set on a copy of a slice from a DataFrame\n",
      "\n",
      "See the caveats in the documentation: https://pandas.pydata.org/pandas-docs/stable/user_guide/indexing.html#returning-a-view-versus-a-copy\n",
      "  \"\"\"\n",
      "/opt/conda/lib/python3.7/site-packages/ipykernel_launcher.py:6: SettingWithCopyWarning: \n",
      "A value is trying to be set on a copy of a slice from a DataFrame\n",
      "\n",
      "See the caveats in the documentation: https://pandas.pydata.org/pandas-docs/stable/user_guide/indexing.html#returning-a-view-versus-a-copy\n",
      "  \n",
      "/opt/conda/lib/python3.7/site-packages/ipykernel_launcher.py:7: SettingWithCopyWarning: \n",
      "A value is trying to be set on a copy of a slice from a DataFrame\n",
      "\n",
      "See the caveats in the documentation: https://pandas.pydata.org/pandas-docs/stable/user_guide/indexing.html#returning-a-view-versus-a-copy\n",
      "  import sys\n",
      "/opt/conda/lib/python3.7/site-packages/ipykernel_launcher.py:8: SettingWithCopyWarning: \n",
      "A value is trying to be set on a copy of a slice from a DataFrame\n",
      "\n",
      "See the caveats in the documentation: https://pandas.pydata.org/pandas-docs/stable/user_guide/indexing.html#returning-a-view-versus-a-copy\n",
      "  \n",
      "/opt/conda/lib/python3.7/site-packages/ipykernel_launcher.py:9: SettingWithCopyWarning: \n",
      "A value is trying to be set on a copy of a slice from a DataFrame\n",
      "\n",
      "See the caveats in the documentation: https://pandas.pydata.org/pandas-docs/stable/user_guide/indexing.html#returning-a-view-versus-a-copy\n",
      "  if __name__ == '__main__':\n",
      "/opt/conda/lib/python3.7/site-packages/ipykernel_launcher.py:10: SettingWithCopyWarning: \n",
      "A value is trying to be set on a copy of a slice from a DataFrame\n",
      "\n",
      "See the caveats in the documentation: https://pandas.pydata.org/pandas-docs/stable/user_guide/indexing.html#returning-a-view-versus-a-copy\n",
      "  # Remove the CWD from sys.path while we load stuff.\n",
      "/opt/conda/lib/python3.7/site-packages/ipykernel_launcher.py:11: SettingWithCopyWarning: \n",
      "A value is trying to be set on a copy of a slice from a DataFrame\n",
      "\n",
      "See the caveats in the documentation: https://pandas.pydata.org/pandas-docs/stable/user_guide/indexing.html#returning-a-view-versus-a-copy\n",
      "  # This is added back by InteractiveShellApp.init_path()\n",
      "/opt/conda/lib/python3.7/site-packages/ipykernel_launcher.py:12: SettingWithCopyWarning: \n",
      "A value is trying to be set on a copy of a slice from a DataFrame\n",
      "\n",
      "See the caveats in the documentation: https://pandas.pydata.org/pandas-docs/stable/user_guide/indexing.html#returning-a-view-versus-a-copy\n",
      "  if sys.path[0] == '':\n"
     ]
    },
    {
     "ename": "TypeError",
     "evalue": "unsupported operand type(s) for &: 'str' and 'int'",
     "output_type": "error",
     "traceback": [
      "\u001b[0;31m---------------------------------------------------------------------------\u001b[0m",
      "\u001b[0;31mTypeError\u001b[0m                                 Traceback (most recent call last)",
      "\u001b[0;32m<ipython-input-23-8bd0fded7bf0>\u001b[0m in \u001b[0;36m<module>\u001b[0;34m\u001b[0m\n\u001b[1;32m     11\u001b[0m \u001b[0mdf\u001b[0m\u001b[0;34m[\u001b[0m\u001b[0;34m'SOC_NAME1'\u001b[0m\u001b[0;34m]\u001b[0m\u001b[0;34m[\u001b[0m\u001b[0mdf\u001b[0m\u001b[0;34m[\u001b[0m\u001b[0;34m'SOC_NAME'\u001b[0m\u001b[0;34m]\u001b[0m\u001b[0;34m.\u001b[0m\u001b[0mstr\u001b[0m\u001b[0;34m.\u001b[0m\u001b[0mcontains\u001b[0m\u001b[0;34m(\u001b[0m\u001b[0;34m'AUDITORS'\u001b[0m\u001b[0;34m,\u001b[0m\u001b[0;34m'COMPLIANCE'\u001b[0m\u001b[0;34m)\u001b[0m\u001b[0;34m]\u001b[0m \u001b[0;34m=\u001b[0m \u001b[0;34m'audit'\u001b[0m\u001b[0;34m\u001b[0m\u001b[0;34m\u001b[0m\u001b[0m\n\u001b[1;32m     12\u001b[0m \u001b[0mdf\u001b[0m\u001b[0;34m[\u001b[0m\u001b[0;34m'SOC_NAME1'\u001b[0m\u001b[0;34m]\u001b[0m\u001b[0;34m[\u001b[0m\u001b[0mdf\u001b[0m\u001b[0;34m[\u001b[0m\u001b[0;34m'SOC_NAME'\u001b[0m\u001b[0;34m]\u001b[0m\u001b[0;34m.\u001b[0m\u001b[0mstr\u001b[0m\u001b[0;34m.\u001b[0m\u001b[0mcontains\u001b[0m\u001b[0;34m(\u001b[0m\u001b[0;34m'DISTRIBUTION'\u001b[0m\u001b[0;34m,\u001b[0m\u001b[0;34m'LOGISTICS'\u001b[0m\u001b[0;34m)\u001b[0m\u001b[0;34m]\u001b[0m \u001b[0;34m=\u001b[0m \u001b[0;34m'scm'\u001b[0m\u001b[0;34m\u001b[0m\u001b[0;34m\u001b[0m\u001b[0m\n\u001b[0;32m---> 13\u001b[0;31m \u001b[0mdf\u001b[0m\u001b[0;34m[\u001b[0m\u001b[0;34m'SOC_NAME1'\u001b[0m\u001b[0;34m]\u001b[0m\u001b[0;34m[\u001b[0m\u001b[0mdf\u001b[0m\u001b[0;34m[\u001b[0m\u001b[0;34m'SOC_NAME'\u001b[0m\u001b[0;34m]\u001b[0m\u001b[0;34m.\u001b[0m\u001b[0mstr\u001b[0m\u001b[0;34m.\u001b[0m\u001b[0mcontains\u001b[0m\u001b[0;34m(\u001b[0m\u001b[0;34m'RECRUITERS'\u001b[0m\u001b[0;34m,\u001b[0m\u001b[0;34m'HUMAN'\u001b[0m\u001b[0;34m,\u001b[0m\u001b[0;34m'human'\u001b[0m\u001b[0;34m,\u001b[0m\u001b[0;34m'recruiters'\u001b[0m\u001b[0;34m)\u001b[0m\u001b[0;34m]\u001b[0m \u001b[0;34m=\u001b[0m \u001b[0;34m'hr'\u001b[0m\u001b[0;34m\u001b[0m\u001b[0;34m\u001b[0m\u001b[0m\n\u001b[0m\u001b[1;32m     14\u001b[0m \u001b[0mdf\u001b[0m\u001b[0;34m[\u001b[0m\u001b[0;34m'SOC_NAME1'\u001b[0m\u001b[0;34m]\u001b[0m\u001b[0;34m[\u001b[0m\u001b[0mdf\u001b[0m\u001b[0;34m[\u001b[0m\u001b[0;34m'SOC_NAME'\u001b[0m\u001b[0;34m]\u001b[0m\u001b[0;34m.\u001b[0m\u001b[0mstr\u001b[0m\u001b[0;34m.\u001b[0m\u001b[0mcontains\u001b[0m\u001b[0;34m(\u001b[0m\u001b[0;34m'AGRICULTURAL'\u001b[0m\u001b[0;34m,\u001b[0m\u001b[0;34m'FARM'\u001b[0m\u001b[0;34m)\u001b[0m\u001b[0;34m]\u001b[0m \u001b[0;34m=\u001b[0m \u001b[0;34m'agri'\u001b[0m\u001b[0;34m\u001b[0m\u001b[0;34m\u001b[0m\u001b[0m\n\u001b[1;32m     15\u001b[0m \u001b[0mdf\u001b[0m\u001b[0;34m[\u001b[0m\u001b[0;34m'SOC_NAME1'\u001b[0m\u001b[0;34m]\u001b[0m\u001b[0;34m[\u001b[0m\u001b[0mdf\u001b[0m\u001b[0;34m[\u001b[0m\u001b[0;34m'SOC_NAME'\u001b[0m\u001b[0;34m]\u001b[0m\u001b[0;34m.\u001b[0m\u001b[0mstr\u001b[0m\u001b[0;34m.\u001b[0m\u001b[0mcontains\u001b[0m\u001b[0;34m(\u001b[0m\u001b[0;34m'CONSTRUCTION'\u001b[0m\u001b[0;34m,\u001b[0m\u001b[0;34m'ARCHITECTURAL'\u001b[0m\u001b[0;34m)\u001b[0m\u001b[0;34m]\u001b[0m \u001b[0;34m=\u001b[0m \u001b[0;34m'estate'\u001b[0m\u001b[0;34m\u001b[0m\u001b[0;34m\u001b[0m\u001b[0m\n",
      "\u001b[0;32m/opt/conda/lib/python3.7/site-packages/pandas/core/strings/accessor.py\u001b[0m in \u001b[0;36mwrapper\u001b[0;34m(self, *args, **kwargs)\u001b[0m\n\u001b[1;32m     99\u001b[0m                 )\n\u001b[1;32m    100\u001b[0m                 \u001b[0;32mraise\u001b[0m \u001b[0mTypeError\u001b[0m\u001b[0;34m(\u001b[0m\u001b[0mmsg\u001b[0m\u001b[0;34m)\u001b[0m\u001b[0;34m\u001b[0m\u001b[0;34m\u001b[0m\u001b[0m\n\u001b[0;32m--> 101\u001b[0;31m             \u001b[0;32mreturn\u001b[0m \u001b[0mfunc\u001b[0m\u001b[0;34m(\u001b[0m\u001b[0mself\u001b[0m\u001b[0;34m,\u001b[0m \u001b[0;34m*\u001b[0m\u001b[0margs\u001b[0m\u001b[0;34m,\u001b[0m \u001b[0;34m**\u001b[0m\u001b[0mkwargs\u001b[0m\u001b[0;34m)\u001b[0m\u001b[0;34m\u001b[0m\u001b[0;34m\u001b[0m\u001b[0m\n\u001b[0m\u001b[1;32m    102\u001b[0m \u001b[0;34m\u001b[0m\u001b[0m\n\u001b[1;32m    103\u001b[0m         \u001b[0mwrapper\u001b[0m\u001b[0;34m.\u001b[0m\u001b[0m__name__\u001b[0m \u001b[0;34m=\u001b[0m \u001b[0mfunc_name\u001b[0m\u001b[0;34m\u001b[0m\u001b[0;34m\u001b[0m\u001b[0m\n",
      "\u001b[0;32m/opt/conda/lib/python3.7/site-packages/pandas/core/strings/accessor.py\u001b[0m in \u001b[0;36mcontains\u001b[0;34m(self, pat, case, flags, na, regex)\u001b[0m\n\u001b[1;32m   1108\u001b[0m         \u001b[0mdtype\u001b[0m\u001b[0;34m:\u001b[0m \u001b[0mbool\u001b[0m\u001b[0;34m\u001b[0m\u001b[0;34m\u001b[0m\u001b[0m\n\u001b[1;32m   1109\u001b[0m         \"\"\"\n\u001b[0;32m-> 1110\u001b[0;31m         \u001b[0mresult\u001b[0m \u001b[0;34m=\u001b[0m \u001b[0mself\u001b[0m\u001b[0;34m.\u001b[0m\u001b[0m_data\u001b[0m\u001b[0;34m.\u001b[0m\u001b[0marray\u001b[0m\u001b[0;34m.\u001b[0m\u001b[0m_str_contains\u001b[0m\u001b[0;34m(\u001b[0m\u001b[0mpat\u001b[0m\u001b[0;34m,\u001b[0m \u001b[0mcase\u001b[0m\u001b[0;34m,\u001b[0m \u001b[0mflags\u001b[0m\u001b[0;34m,\u001b[0m \u001b[0mna\u001b[0m\u001b[0;34m,\u001b[0m \u001b[0mregex\u001b[0m\u001b[0;34m)\u001b[0m\u001b[0;34m\u001b[0m\u001b[0;34m\u001b[0m\u001b[0m\n\u001b[0m\u001b[1;32m   1111\u001b[0m         \u001b[0;32mreturn\u001b[0m \u001b[0mself\u001b[0m\u001b[0;34m.\u001b[0m\u001b[0m_wrap_result\u001b[0m\u001b[0;34m(\u001b[0m\u001b[0mresult\u001b[0m\u001b[0;34m,\u001b[0m \u001b[0mfill_value\u001b[0m\u001b[0;34m=\u001b[0m\u001b[0mna\u001b[0m\u001b[0;34m,\u001b[0m \u001b[0mreturns_string\u001b[0m\u001b[0;34m=\u001b[0m\u001b[0;32mFalse\u001b[0m\u001b[0;34m)\u001b[0m\u001b[0;34m\u001b[0m\u001b[0;34m\u001b[0m\u001b[0m\n\u001b[1;32m   1112\u001b[0m \u001b[0;34m\u001b[0m\u001b[0m\n",
      "\u001b[0;32m/opt/conda/lib/python3.7/site-packages/pandas/core/strings/object_array.py\u001b[0m in \u001b[0;36m_str_contains\u001b[0;34m(self, pat, case, flags, na, regex)\u001b[0m\n\u001b[1;32m    108\u001b[0m                 \u001b[0mflags\u001b[0m \u001b[0;34m|=\u001b[0m \u001b[0mre\u001b[0m\u001b[0;34m.\u001b[0m\u001b[0mIGNORECASE\u001b[0m\u001b[0;34m\u001b[0m\u001b[0;34m\u001b[0m\u001b[0m\n\u001b[1;32m    109\u001b[0m \u001b[0;34m\u001b[0m\u001b[0m\n\u001b[0;32m--> 110\u001b[0;31m             \u001b[0mregex\u001b[0m \u001b[0;34m=\u001b[0m \u001b[0mre\u001b[0m\u001b[0;34m.\u001b[0m\u001b[0mcompile\u001b[0m\u001b[0;34m(\u001b[0m\u001b[0mpat\u001b[0m\u001b[0;34m,\u001b[0m \u001b[0mflags\u001b[0m\u001b[0;34m=\u001b[0m\u001b[0mflags\u001b[0m\u001b[0;34m)\u001b[0m\u001b[0;34m\u001b[0m\u001b[0;34m\u001b[0m\u001b[0m\n\u001b[0m\u001b[1;32m    111\u001b[0m \u001b[0;34m\u001b[0m\u001b[0m\n\u001b[1;32m    112\u001b[0m             \u001b[0;32mif\u001b[0m \u001b[0mregex\u001b[0m\u001b[0;34m.\u001b[0m\u001b[0mgroups\u001b[0m \u001b[0;34m>\u001b[0m \u001b[0;36m0\u001b[0m\u001b[0;34m:\u001b[0m\u001b[0;34m\u001b[0m\u001b[0;34m\u001b[0m\u001b[0m\n",
      "\u001b[0;32m/opt/conda/lib/python3.7/re.py\u001b[0m in \u001b[0;36mcompile\u001b[0;34m(pattern, flags)\u001b[0m\n\u001b[1;32m    234\u001b[0m \u001b[0;32mdef\u001b[0m \u001b[0mcompile\u001b[0m\u001b[0;34m(\u001b[0m\u001b[0mpattern\u001b[0m\u001b[0;34m,\u001b[0m \u001b[0mflags\u001b[0m\u001b[0;34m=\u001b[0m\u001b[0;36m0\u001b[0m\u001b[0;34m)\u001b[0m\u001b[0;34m:\u001b[0m\u001b[0;34m\u001b[0m\u001b[0;34m\u001b[0m\u001b[0m\n\u001b[1;32m    235\u001b[0m     \u001b[0;34m\"Compile a regular expression pattern, returning a Pattern object.\"\u001b[0m\u001b[0;34m\u001b[0m\u001b[0;34m\u001b[0m\u001b[0m\n\u001b[0;32m--> 236\u001b[0;31m     \u001b[0;32mreturn\u001b[0m \u001b[0m_compile\u001b[0m\u001b[0;34m(\u001b[0m\u001b[0mpattern\u001b[0m\u001b[0;34m,\u001b[0m \u001b[0mflags\u001b[0m\u001b[0;34m)\u001b[0m\u001b[0;34m\u001b[0m\u001b[0;34m\u001b[0m\u001b[0m\n\u001b[0m\u001b[1;32m    237\u001b[0m \u001b[0;34m\u001b[0m\u001b[0m\n\u001b[1;32m    238\u001b[0m \u001b[0;32mdef\u001b[0m \u001b[0mpurge\u001b[0m\u001b[0;34m(\u001b[0m\u001b[0;34m)\u001b[0m\u001b[0;34m:\u001b[0m\u001b[0;34m\u001b[0m\u001b[0;34m\u001b[0m\u001b[0m\n",
      "\u001b[0;32m/opt/conda/lib/python3.7/re.py\u001b[0m in \u001b[0;36m_compile\u001b[0;34m(pattern, flags)\u001b[0m\n\u001b[1;32m    286\u001b[0m     \u001b[0;32mif\u001b[0m \u001b[0;32mnot\u001b[0m \u001b[0msre_compile\u001b[0m\u001b[0;34m.\u001b[0m\u001b[0misstring\u001b[0m\u001b[0;34m(\u001b[0m\u001b[0mpattern\u001b[0m\u001b[0;34m)\u001b[0m\u001b[0;34m:\u001b[0m\u001b[0;34m\u001b[0m\u001b[0;34m\u001b[0m\u001b[0m\n\u001b[1;32m    287\u001b[0m         \u001b[0;32mraise\u001b[0m \u001b[0mTypeError\u001b[0m\u001b[0;34m(\u001b[0m\u001b[0;34m\"first argument must be string or compiled pattern\"\u001b[0m\u001b[0;34m)\u001b[0m\u001b[0;34m\u001b[0m\u001b[0;34m\u001b[0m\u001b[0m\n\u001b[0;32m--> 288\u001b[0;31m     \u001b[0mp\u001b[0m \u001b[0;34m=\u001b[0m \u001b[0msre_compile\u001b[0m\u001b[0;34m.\u001b[0m\u001b[0mcompile\u001b[0m\u001b[0;34m(\u001b[0m\u001b[0mpattern\u001b[0m\u001b[0;34m,\u001b[0m \u001b[0mflags\u001b[0m\u001b[0;34m)\u001b[0m\u001b[0;34m\u001b[0m\u001b[0;34m\u001b[0m\u001b[0m\n\u001b[0m\u001b[1;32m    289\u001b[0m     \u001b[0;32mif\u001b[0m \u001b[0;32mnot\u001b[0m \u001b[0;34m(\u001b[0m\u001b[0mflags\u001b[0m \u001b[0;34m&\u001b[0m \u001b[0mDEBUG\u001b[0m\u001b[0;34m)\u001b[0m\u001b[0;34m:\u001b[0m\u001b[0;34m\u001b[0m\u001b[0;34m\u001b[0m\u001b[0m\n\u001b[1;32m    290\u001b[0m         \u001b[0;32mif\u001b[0m \u001b[0mlen\u001b[0m\u001b[0;34m(\u001b[0m\u001b[0m_cache\u001b[0m\u001b[0;34m)\u001b[0m \u001b[0;34m>=\u001b[0m \u001b[0m_MAXCACHE\u001b[0m\u001b[0;34m:\u001b[0m\u001b[0;34m\u001b[0m\u001b[0;34m\u001b[0m\u001b[0m\n",
      "\u001b[0;32m/opt/conda/lib/python3.7/sre_compile.py\u001b[0m in \u001b[0;36mcompile\u001b[0;34m(p, flags)\u001b[0m\n\u001b[1;32m    762\u001b[0m     \u001b[0;32mif\u001b[0m \u001b[0misstring\u001b[0m\u001b[0;34m(\u001b[0m\u001b[0mp\u001b[0m\u001b[0;34m)\u001b[0m\u001b[0;34m:\u001b[0m\u001b[0;34m\u001b[0m\u001b[0;34m\u001b[0m\u001b[0m\n\u001b[1;32m    763\u001b[0m         \u001b[0mpattern\u001b[0m \u001b[0;34m=\u001b[0m \u001b[0mp\u001b[0m\u001b[0;34m\u001b[0m\u001b[0;34m\u001b[0m\u001b[0m\n\u001b[0;32m--> 764\u001b[0;31m         \u001b[0mp\u001b[0m \u001b[0;34m=\u001b[0m \u001b[0msre_parse\u001b[0m\u001b[0;34m.\u001b[0m\u001b[0mparse\u001b[0m\u001b[0;34m(\u001b[0m\u001b[0mp\u001b[0m\u001b[0;34m,\u001b[0m \u001b[0mflags\u001b[0m\u001b[0;34m)\u001b[0m\u001b[0;34m\u001b[0m\u001b[0;34m\u001b[0m\u001b[0m\n\u001b[0m\u001b[1;32m    765\u001b[0m     \u001b[0;32melse\u001b[0m\u001b[0;34m:\u001b[0m\u001b[0;34m\u001b[0m\u001b[0;34m\u001b[0m\u001b[0m\n\u001b[1;32m    766\u001b[0m         \u001b[0mpattern\u001b[0m \u001b[0;34m=\u001b[0m \u001b[0;32mNone\u001b[0m\u001b[0;34m\u001b[0m\u001b[0;34m\u001b[0m\u001b[0m\n",
      "\u001b[0;32m/opt/conda/lib/python3.7/sre_parse.py\u001b[0m in \u001b[0;36mparse\u001b[0;34m(str, flags, pattern)\u001b[0m\n\u001b[1;32m    922\u001b[0m \u001b[0;34m\u001b[0m\u001b[0m\n\u001b[1;32m    923\u001b[0m     \u001b[0;32mtry\u001b[0m\u001b[0;34m:\u001b[0m\u001b[0;34m\u001b[0m\u001b[0;34m\u001b[0m\u001b[0m\n\u001b[0;32m--> 924\u001b[0;31m         \u001b[0mp\u001b[0m \u001b[0;34m=\u001b[0m \u001b[0m_parse_sub\u001b[0m\u001b[0;34m(\u001b[0m\u001b[0msource\u001b[0m\u001b[0;34m,\u001b[0m \u001b[0mpattern\u001b[0m\u001b[0;34m,\u001b[0m \u001b[0mflags\u001b[0m \u001b[0;34m&\u001b[0m \u001b[0mSRE_FLAG_VERBOSE\u001b[0m\u001b[0;34m,\u001b[0m \u001b[0;36m0\u001b[0m\u001b[0;34m)\u001b[0m\u001b[0;34m\u001b[0m\u001b[0;34m\u001b[0m\u001b[0m\n\u001b[0m\u001b[1;32m    925\u001b[0m     \u001b[0;32mexcept\u001b[0m \u001b[0mVerbose\u001b[0m\u001b[0;34m:\u001b[0m\u001b[0;34m\u001b[0m\u001b[0;34m\u001b[0m\u001b[0m\n\u001b[1;32m    926\u001b[0m         \u001b[0;31m# the VERBOSE flag was switched on inside the pattern.  to be\u001b[0m\u001b[0;34m\u001b[0m\u001b[0;34m\u001b[0m\u001b[0;34m\u001b[0m\u001b[0m\n",
      "\u001b[0;31mTypeError\u001b[0m: unsupported operand type(s) for &: 'str' and 'int'"
     ]
    }
   ],
   "source": [
    "import sys\n",
    "df['SOC_NAME1'] = 'others'\n",
    "df['SOC_NAME1'][df['SOC_NAME'].str.contains('COMPUTER','SOFTWARE')] = 'it'\n",
    "df['SOC_NAME1'][df['SOC_NAME'].str.contains('CHIEF','MANAGEMENT')] = 'manager'\n",
    "df['SOC_NAME1'][df['SOC_NAME'].str.contains('MECHANICAL')] = 'mechanical'\n",
    "df['SOC_NAME1'][df['SOC_NAME'].str.contains('DATABASE')] = 'database'\n",
    "df['SOC_NAME1'][df['SOC_NAME'].str.contains('SALES','MARKET')] = 'scm'\n",
    "df['SOC_NAME1'][df['SOC_NAME'].str.contains('FINANCIAL')] = 'finance'\n",
    "df['SOC_NAME1'][df['SOC_NAME'].str.contains('PUBLIC','FUNDRAISING')] = 'pr'\n",
    "df['SOC_NAME1'][df['SOC_NAME'].str.contains('EDUCATION','LAW')] = 'administrative'\n",
    "df['SOC_NAME1'][df['SOC_NAME'].str.contains('AUDITORS','COMPLIANCE')] = 'audit'\n",
    "df['SOC_NAME1'][df['SOC_NAME'].str.contains('DISTRIBUTION','LOGISTICS')] = 'scm'\n",
    "df['SOC_NAME1'][df['SOC_NAME'].str.contains('RECRUITERS','HUMAN','human','recruiters')] = 'hr'\n",
    "df['SOC_NAME1'][df['SOC_NAME'].str.contains('AGRICULTURAL','FARM')] = 'agri'\n",
    "df['SOC_NAME1'][df['SOC_NAME'].str.contains('CONSTRUCTION','ARCHITECTURAL')] = 'estate'\n",
    "df['SOC_NAME1'][df['SOC_NAME'].str.contains('FORENCSIC','HEALTH','health','forencsic')] = 'medical'\n",
    "df['SOC_NAME1'][df['SOC_NAME'].str.contains('TEACHERS','teachers')] = 'education'"
   ]
  },
  {
   "cell_type": "code",
   "execution_count": 24,
   "metadata": {
    "execution": {
     "iopub.execute_input": "2021-07-29T12:43:45.055750Z",
     "iopub.status.busy": "2021-07-29T12:43:45.055263Z",
     "iopub.status.idle": "2021-07-29T12:43:45.147870Z",
     "shell.execute_reply": "2021-07-29T12:43:45.146831Z",
     "shell.execute_reply.started": "2021-07-29T12:43:45.055719Z"
    }
   },
   "outputs": [
    {
     "data": {
      "text/plain": [
       "Computer Systems Analysts                           26874\n",
       "Computer Programmers                                22819\n",
       "SOFTWARE DEVELOPERS, APPLICATIONS                   22231\n",
       "Software Developers, Applications                   19922\n",
       "COMPUTER SYSTEMS ANALYSTS                           18618\n",
       "                                                    ...  \n",
       "PROJECT MANAGER                                         1\n",
       "TAX EXAMINERS AND COLLECTORS, AND REVENUE AGENTS        1\n",
       "COST ESTIMATOR                                          1\n",
       "Driver/Sales Workers                                    1\n",
       "ELEMENTARY SCHOOL TEACHERS, EXCEPT SPECIAL ED.          1\n",
       "Name: SOC_NAME, Length: 1525, dtype: int64"
      ]
     },
     "execution_count": 24,
     "metadata": {},
     "output_type": "execute_result"
    }
   ],
   "source": [
    "df.SOC_NAME.value_counts() "
   ]
  },
  {
   "cell_type": "code",
   "execution_count": 25,
   "metadata": {
    "execution": {
     "iopub.execute_input": "2021-07-29T12:43:46.860802Z",
     "iopub.status.busy": "2021-07-29T12:43:46.860429Z",
     "iopub.status.idle": "2021-07-29T12:43:46.942494Z",
     "shell.execute_reply": "2021-07-29T12:43:46.941281Z",
     "shell.execute_reply.started": "2021-07-29T12:43:46.860773Z"
    }
   },
   "outputs": [
    {
     "data": {
      "text/plain": [
       "others            276008\n",
       "it                 52320\n",
       "finance             3331\n",
       "mechanical          2189\n",
       "audit               2137\n",
       "database            1667\n",
       "scm                 1061\n",
       "administrative       627\n",
       "pr                   442\n",
       "manager              218\n",
       "Name: SOC_NAME1, dtype: int64"
      ]
     },
     "execution_count": 25,
     "metadata": {},
     "output_type": "execute_result"
    }
   ],
   "source": [
    "df.SOC_NAME1.value_counts() "
   ]
  },
  {
   "cell_type": "code",
   "execution_count": 26,
   "metadata": {
    "execution": {
     "iopub.execute_input": "2021-07-29T12:43:50.760670Z",
     "iopub.status.busy": "2021-07-29T12:43:50.760130Z",
     "iopub.status.idle": "2021-07-29T12:43:50.776222Z",
     "shell.execute_reply": "2021-07-29T12:43:50.775457Z",
     "shell.execute_reply.started": "2021-07-29T12:43:50.760622Z"
    }
   },
   "outputs": [
    {
     "data": {
      "text/html": [
       "<div>\n",
       "<style scoped>\n",
       "    .dataframe tbody tr th:only-of-type {\n",
       "        vertical-align: middle;\n",
       "    }\n",
       "\n",
       "    .dataframe tbody tr th {\n",
       "        vertical-align: top;\n",
       "    }\n",
       "\n",
       "    .dataframe thead th {\n",
       "        text-align: right;\n",
       "    }\n",
       "</style>\n",
       "<table border=\"1\" class=\"dataframe\">\n",
       "  <thead>\n",
       "    <tr style=\"text-align: right;\">\n",
       "      <th></th>\n",
       "      <th>CASE_STATUS</th>\n",
       "      <th>SOC_NAME</th>\n",
       "      <th>FULL_TIME_POSITION</th>\n",
       "      <th>PREVAILING_WAGE</th>\n",
       "      <th>YEAR</th>\n",
       "      <th>SOC_NAME1</th>\n",
       "    </tr>\n",
       "  </thead>\n",
       "  <tbody>\n",
       "    <tr>\n",
       "      <th>1</th>\n",
       "      <td>CERTIFIED-WITHDRAWN</td>\n",
       "      <td>CHIEF EXECUTIVES</td>\n",
       "      <td>Y</td>\n",
       "      <td>242674.0</td>\n",
       "      <td>2016.0</td>\n",
       "      <td>manager</td>\n",
       "    </tr>\n",
       "    <tr>\n",
       "      <th>3</th>\n",
       "      <td>CERTIFIED-WITHDRAWN</td>\n",
       "      <td>CHIEF EXECUTIVES</td>\n",
       "      <td>Y</td>\n",
       "      <td>220314.0</td>\n",
       "      <td>2016.0</td>\n",
       "      <td>manager</td>\n",
       "    </tr>\n",
       "    <tr>\n",
       "      <th>4</th>\n",
       "      <td>WITHDRAWN</td>\n",
       "      <td>CHIEF EXECUTIVES</td>\n",
       "      <td>Y</td>\n",
       "      <td>157518.4</td>\n",
       "      <td>2016.0</td>\n",
       "      <td>manager</td>\n",
       "    </tr>\n",
       "    <tr>\n",
       "      <th>11</th>\n",
       "      <td>CERTIFIED-WITHDRAWN</td>\n",
       "      <td>CHIEF EXECUTIVES</td>\n",
       "      <td>Y</td>\n",
       "      <td>163717.0</td>\n",
       "      <td>2016.0</td>\n",
       "      <td>manager</td>\n",
       "    </tr>\n",
       "    <tr>\n",
       "      <th>12</th>\n",
       "      <td>CERTIFIED-WITHDRAWN</td>\n",
       "      <td>CHIEF EXECUTIVES</td>\n",
       "      <td>Y</td>\n",
       "      <td>203860.8</td>\n",
       "      <td>2016.0</td>\n",
       "      <td>manager</td>\n",
       "    </tr>\n",
       "  </tbody>\n",
       "</table>\n",
       "</div>"
      ],
      "text/plain": [
       "            CASE_STATUS          SOC_NAME FULL_TIME_POSITION  PREVAILING_WAGE  \\\n",
       "1   CERTIFIED-WITHDRAWN  CHIEF EXECUTIVES                  Y         242674.0   \n",
       "3   CERTIFIED-WITHDRAWN  CHIEF EXECUTIVES                  Y         220314.0   \n",
       "4             WITHDRAWN  CHIEF EXECUTIVES                  Y         157518.4   \n",
       "11  CERTIFIED-WITHDRAWN  CHIEF EXECUTIVES                  Y         163717.0   \n",
       "12  CERTIFIED-WITHDRAWN  CHIEF EXECUTIVES                  Y         203860.8   \n",
       "\n",
       "      YEAR SOC_NAME1  \n",
       "1   2016.0   manager  \n",
       "3   2016.0   manager  \n",
       "4   2016.0   manager  \n",
       "11  2016.0   manager  \n",
       "12  2016.0   manager  "
      ]
     },
     "execution_count": 26,
     "metadata": {},
     "output_type": "execute_result"
    }
   ],
   "source": [
    "df.head()"
   ]
  },
  {
   "cell_type": "code",
   "execution_count": 27,
   "metadata": {
    "execution": {
     "iopub.execute_input": "2021-07-29T12:43:54.996017Z",
     "iopub.status.busy": "2021-07-29T12:43:54.995354Z",
     "iopub.status.idle": "2021-07-29T12:43:55.023936Z",
     "shell.execute_reply": "2021-07-29T12:43:55.023063Z",
     "shell.execute_reply.started": "2021-07-29T12:43:54.995972Z"
    }
   },
   "outputs": [],
   "source": [
    "df['SOC_NAME'] = df['SOC_NAME1']\n",
    "df = df.drop(['SOC_NAME1'], axis = 1)"
   ]
  },
  {
   "cell_type": "code",
   "execution_count": 28,
   "metadata": {
    "execution": {
     "iopub.execute_input": "2021-07-29T12:43:56.155682Z",
     "iopub.status.busy": "2021-07-29T12:43:56.155083Z",
     "iopub.status.idle": "2021-07-29T12:43:56.168218Z",
     "shell.execute_reply": "2021-07-29T12:43:56.167497Z",
     "shell.execute_reply.started": "2021-07-29T12:43:56.155647Z"
    }
   },
   "outputs": [
    {
     "data": {
      "text/html": [
       "<div>\n",
       "<style scoped>\n",
       "    .dataframe tbody tr th:only-of-type {\n",
       "        vertical-align: middle;\n",
       "    }\n",
       "\n",
       "    .dataframe tbody tr th {\n",
       "        vertical-align: top;\n",
       "    }\n",
       "\n",
       "    .dataframe thead th {\n",
       "        text-align: right;\n",
       "    }\n",
       "</style>\n",
       "<table border=\"1\" class=\"dataframe\">\n",
       "  <thead>\n",
       "    <tr style=\"text-align: right;\">\n",
       "      <th></th>\n",
       "      <th>CASE_STATUS</th>\n",
       "      <th>SOC_NAME</th>\n",
       "      <th>FULL_TIME_POSITION</th>\n",
       "      <th>PREVAILING_WAGE</th>\n",
       "      <th>YEAR</th>\n",
       "    </tr>\n",
       "  </thead>\n",
       "  <tbody>\n",
       "    <tr>\n",
       "      <th>1</th>\n",
       "      <td>CERTIFIED-WITHDRAWN</td>\n",
       "      <td>manager</td>\n",
       "      <td>Y</td>\n",
       "      <td>242674.0</td>\n",
       "      <td>2016.0</td>\n",
       "    </tr>\n",
       "    <tr>\n",
       "      <th>3</th>\n",
       "      <td>CERTIFIED-WITHDRAWN</td>\n",
       "      <td>manager</td>\n",
       "      <td>Y</td>\n",
       "      <td>220314.0</td>\n",
       "      <td>2016.0</td>\n",
       "    </tr>\n",
       "    <tr>\n",
       "      <th>4</th>\n",
       "      <td>WITHDRAWN</td>\n",
       "      <td>manager</td>\n",
       "      <td>Y</td>\n",
       "      <td>157518.4</td>\n",
       "      <td>2016.0</td>\n",
       "    </tr>\n",
       "    <tr>\n",
       "      <th>11</th>\n",
       "      <td>CERTIFIED-WITHDRAWN</td>\n",
       "      <td>manager</td>\n",
       "      <td>Y</td>\n",
       "      <td>163717.0</td>\n",
       "      <td>2016.0</td>\n",
       "    </tr>\n",
       "    <tr>\n",
       "      <th>12</th>\n",
       "      <td>CERTIFIED-WITHDRAWN</td>\n",
       "      <td>manager</td>\n",
       "      <td>Y</td>\n",
       "      <td>203860.8</td>\n",
       "      <td>2016.0</td>\n",
       "    </tr>\n",
       "  </tbody>\n",
       "</table>\n",
       "</div>"
      ],
      "text/plain": [
       "            CASE_STATUS SOC_NAME FULL_TIME_POSITION  PREVAILING_WAGE    YEAR\n",
       "1   CERTIFIED-WITHDRAWN  manager                  Y         242674.0  2016.0\n",
       "3   CERTIFIED-WITHDRAWN  manager                  Y         220314.0  2016.0\n",
       "4             WITHDRAWN  manager                  Y         157518.4  2016.0\n",
       "11  CERTIFIED-WITHDRAWN  manager                  Y         163717.0  2016.0\n",
       "12  CERTIFIED-WITHDRAWN  manager                  Y         203860.8  2016.0"
      ]
     },
     "execution_count": 28,
     "metadata": {},
     "output_type": "execute_result"
    }
   ],
   "source": [
    "df.head()"
   ]
  },
  {
   "cell_type": "markdown",
   "metadata": {},
   "source": [
    "# Split data"
   ]
  },
  {
   "cell_type": "code",
   "execution_count": 29,
   "metadata": {
    "execution": {
     "iopub.execute_input": "2021-07-29T12:43:58.790606Z",
     "iopub.status.busy": "2021-07-29T12:43:58.790012Z",
     "iopub.status.idle": "2021-07-29T12:43:58.844543Z",
     "shell.execute_reply": "2021-07-29T12:43:58.843592Z",
     "shell.execute_reply.started": "2021-07-29T12:43:58.790571Z"
    }
   },
   "outputs": [],
   "source": [
    "x = df.iloc[:,1:].values\n",
    "y = df[\"CASE_STATUS\"].values"
   ]
  },
  {
   "cell_type": "code",
   "execution_count": 30,
   "metadata": {
    "execution": {
     "iopub.execute_input": "2021-07-29T12:44:00.315472Z",
     "iopub.status.busy": "2021-07-29T12:44:00.315103Z",
     "iopub.status.idle": "2021-07-29T12:44:00.322000Z",
     "shell.execute_reply": "2021-07-29T12:44:00.320985Z",
     "shell.execute_reply.started": "2021-07-29T12:44:00.315441Z"
    }
   },
   "outputs": [
    {
     "data": {
      "text/plain": [
       "array([['manager', 'Y', 242674.0, 2016.0],\n",
       "       ['manager', 'Y', 220314.0, 2016.0],\n",
       "       ['manager', 'Y', 157518.4, 2016.0],\n",
       "       ...,\n",
       "       ['others', 'Y', 33800.0, 2011.0],\n",
       "       ['others', 'Y', 59800.0, 2011.0],\n",
       "       ['others', 'Y', 59800.0, 2011.0]], dtype=object)"
      ]
     },
     "execution_count": 30,
     "metadata": {},
     "output_type": "execute_result"
    }
   ],
   "source": [
    "x"
   ]
  },
  {
   "cell_type": "code",
   "execution_count": 31,
   "metadata": {
    "execution": {
     "iopub.execute_input": "2021-07-29T12:44:02.500821Z",
     "iopub.status.busy": "2021-07-29T12:44:02.500435Z",
     "iopub.status.idle": "2021-07-29T12:44:02.505892Z",
     "shell.execute_reply": "2021-07-29T12:44:02.505016Z",
     "shell.execute_reply.started": "2021-07-29T12:44:02.500788Z"
    }
   },
   "outputs": [
    {
     "data": {
      "text/plain": [
       "(340000, 4)"
      ]
     },
     "execution_count": 31,
     "metadata": {},
     "output_type": "execute_result"
    }
   ],
   "source": [
    "x.shape"
   ]
  },
  {
   "cell_type": "code",
   "execution_count": 32,
   "metadata": {
    "execution": {
     "iopub.execute_input": "2021-07-29T12:44:03.440436Z",
     "iopub.status.busy": "2021-07-29T12:44:03.440025Z",
     "iopub.status.idle": "2021-07-29T12:44:03.446300Z",
     "shell.execute_reply": "2021-07-29T12:44:03.445401Z",
     "shell.execute_reply.started": "2021-07-29T12:44:03.440399Z"
    }
   },
   "outputs": [
    {
     "data": {
      "text/plain": [
       "array(['CERTIFIED-WITHDRAWN', 'CERTIFIED-WITHDRAWN', 'WITHDRAWN', ...,\n",
       "       'WITHDRAWN', 'WITHDRAWN', 'WITHDRAWN'], dtype=object)"
      ]
     },
     "execution_count": 32,
     "metadata": {},
     "output_type": "execute_result"
    }
   ],
   "source": [
    "y"
   ]
  },
  {
   "cell_type": "code",
   "execution_count": 33,
   "metadata": {
    "execution": {
     "iopub.execute_input": "2021-07-29T12:44:05.580617Z",
     "iopub.status.busy": "2021-07-29T12:44:05.580229Z",
     "iopub.status.idle": "2021-07-29T12:44:05.586465Z",
     "shell.execute_reply": "2021-07-29T12:44:05.585653Z",
     "shell.execute_reply.started": "2021-07-29T12:44:05.580582Z"
    }
   },
   "outputs": [
    {
     "data": {
      "text/plain": [
       "(340000,)"
      ]
     },
     "execution_count": 33,
     "metadata": {},
     "output_type": "execute_result"
    }
   ],
   "source": [
    "y.shape"
   ]
  },
  {
   "cell_type": "code",
   "execution_count": 34,
   "metadata": {
    "execution": {
     "iopub.execute_input": "2021-07-29T12:44:06.380848Z",
     "iopub.status.busy": "2021-07-29T12:44:06.380207Z",
     "iopub.status.idle": "2021-07-29T12:44:07.343489Z",
     "shell.execute_reply": "2021-07-29T12:44:07.342557Z",
     "shell.execute_reply.started": "2021-07-29T12:44:06.380803Z"
    }
   },
   "outputs": [],
   "source": [
    "from sklearn.preprocessing import OneHotEncoder\n",
    "from sklearn.compose import ColumnTransformer"
   ]
  },
  {
   "cell_type": "code",
   "execution_count": 35,
   "metadata": {
    "execution": {
     "iopub.execute_input": "2021-07-29T12:44:09.155669Z",
     "iopub.status.busy": "2021-07-29T12:44:09.155214Z",
     "iopub.status.idle": "2021-07-29T12:44:09.544834Z",
     "shell.execute_reply": "2021-07-29T12:44:09.543957Z",
     "shell.execute_reply.started": "2021-07-29T12:44:09.155635Z"
    }
   },
   "outputs": [],
   "source": [
    "ct = ColumnTransformer([('oh',OneHotEncoder(),[0,1])],remainder='passthrough')\n",
    "x = ct.fit_transform(x)"
   ]
  },
  {
   "cell_type": "code",
   "execution_count": 36,
   "metadata": {
    "execution": {
     "iopub.execute_input": "2021-07-29T12:44:10.715733Z",
     "iopub.status.busy": "2021-07-29T12:44:10.715372Z",
     "iopub.status.idle": "2021-07-29T12:44:10.769365Z",
     "shell.execute_reply": "2021-07-29T12:44:10.768387Z",
     "shell.execute_reply.started": "2021-07-29T12:44:10.715699Z"
    }
   },
   "outputs": [],
   "source": [
    "x = x.toarray()"
   ]
  },
  {
   "cell_type": "code",
   "execution_count": 37,
   "metadata": {
    "execution": {
     "iopub.execute_input": "2021-07-29T12:44:12.695281Z",
     "iopub.status.busy": "2021-07-29T12:44:12.694902Z",
     "iopub.status.idle": "2021-07-29T12:44:12.701511Z",
     "shell.execute_reply": "2021-07-29T12:44:12.700359Z",
     "shell.execute_reply.started": "2021-07-29T12:44:12.695247Z"
    }
   },
   "outputs": [
    {
     "data": {
      "text/plain": [
       "(340000, 14)"
      ]
     },
     "execution_count": 37,
     "metadata": {},
     "output_type": "execute_result"
    }
   ],
   "source": [
    "x.shape"
   ]
  },
  {
   "cell_type": "code",
   "execution_count": 38,
   "metadata": {
    "execution": {
     "iopub.execute_input": "2021-07-29T12:44:15.115354Z",
     "iopub.status.busy": "2021-07-29T12:44:15.114997Z",
     "iopub.status.idle": "2021-07-29T12:44:15.124903Z",
     "shell.execute_reply": "2021-07-29T12:44:15.124145Z",
     "shell.execute_reply.started": "2021-07-29T12:44:15.115324Z"
    }
   },
   "outputs": [
    {
     "name": "stdout",
     "output_type": "stream",
     "text": [
      "[[     0.       0.       0.  ...      1.  242674.    2016. ]\n",
      " [     0.       0.       0.  ...      1.  220314.    2016. ]\n",
      " [     0.       0.       0.  ...      1.  157518.4   2016. ]\n",
      " ...\n",
      " [     0.       0.       0.  ...      1.   33800.    2011. ]\n",
      " [     0.       0.       0.  ...      1.   59800.    2011. ]\n",
      " [     0.       0.       0.  ...      1.   59800.    2011. ]]\n"
     ]
    }
   ],
   "source": [
    "np.set_printoptions(suppress=True)\n",
    "print(x)"
   ]
  },
  {
   "cell_type": "code",
   "execution_count": 39,
   "metadata": {
    "execution": {
     "iopub.execute_input": "2021-07-29T12:44:17.195324Z",
     "iopub.status.busy": "2021-07-29T12:44:17.194958Z",
     "iopub.status.idle": "2021-07-29T12:44:17.201844Z",
     "shell.execute_reply": "2021-07-29T12:44:17.200660Z",
     "shell.execute_reply.started": "2021-07-29T12:44:17.195294Z"
    }
   },
   "outputs": [
    {
     "data": {
      "text/plain": [
       "array(['CERTIFIED-WITHDRAWN', 'CERTIFIED-WITHDRAWN', 'WITHDRAWN', ...,\n",
       "       'WITHDRAWN', 'WITHDRAWN', 'WITHDRAWN'], dtype=object)"
      ]
     },
     "execution_count": 39,
     "metadata": {},
     "output_type": "execute_result"
    }
   ],
   "source": [
    "y"
   ]
  },
  {
   "cell_type": "code",
   "execution_count": 40,
   "metadata": {
    "execution": {
     "iopub.execute_input": "2021-07-29T12:44:18.140360Z",
     "iopub.status.busy": "2021-07-29T12:44:18.139986Z",
     "iopub.status.idle": "2021-07-29T12:44:18.144597Z",
     "shell.execute_reply": "2021-07-29T12:44:18.143686Z",
     "shell.execute_reply.started": "2021-07-29T12:44:18.140329Z"
    }
   },
   "outputs": [],
   "source": [
    "y = y.reshape(y.shape[0],1)"
   ]
  },
  {
   "cell_type": "code",
   "execution_count": 41,
   "metadata": {
    "execution": {
     "iopub.execute_input": "2021-07-29T12:44:21.610575Z",
     "iopub.status.busy": "2021-07-29T12:44:21.610237Z",
     "iopub.status.idle": "2021-07-29T12:44:21.614249Z",
     "shell.execute_reply": "2021-07-29T12:44:21.613500Z",
     "shell.execute_reply.started": "2021-07-29T12:44:21.610547Z"
    }
   },
   "outputs": [],
   "source": [
    "# df['CASE_STATUS'] = df['CASE_STATUS'].map({'CERTIFIED' : 0, 'CERTIFIED-WITHDRAWN' : 1, 'DENIED' : 2,'WITHDRAWN' : 3,'PENDING QUALITY AND COMPLIANCE REVIEW - UNASSIGNED' : 4,'REJECTED' : 5, 'INVALIDATED' : 6})"
   ]
  },
  {
   "cell_type": "code",
   "execution_count": 42,
   "metadata": {
    "execution": {
     "iopub.execute_input": "2021-07-29T12:44:21.995474Z",
     "iopub.status.busy": "2021-07-29T12:44:21.994976Z",
     "iopub.status.idle": "2021-07-29T12:44:21.999621Z",
     "shell.execute_reply": "2021-07-29T12:44:21.998800Z",
     "shell.execute_reply.started": "2021-07-29T12:44:21.995435Z"
    }
   },
   "outputs": [],
   "source": [
    "# y = df[\"CASE_STATUS\"].values"
   ]
  },
  {
   "cell_type": "code",
   "execution_count": 43,
   "metadata": {
    "execution": {
     "iopub.execute_input": "2021-07-29T12:44:24.495620Z",
     "iopub.status.busy": "2021-07-29T12:44:24.495087Z",
     "iopub.status.idle": "2021-07-29T12:44:24.677146Z",
     "shell.execute_reply": "2021-07-29T12:44:24.676453Z",
     "shell.execute_reply.started": "2021-07-29T12:44:24.495587Z"
    }
   },
   "outputs": [],
   "source": [
    "cty = ColumnTransformer([('ohy',OneHotEncoder(),[0])],remainder='passthrough')\n",
    "y = cty.fit_transform(y)"
   ]
  },
  {
   "cell_type": "code",
   "execution_count": 44,
   "metadata": {
    "execution": {
     "iopub.execute_input": "2021-07-29T12:44:25.470478Z",
     "iopub.status.busy": "2021-07-29T12:44:25.469960Z",
     "iopub.status.idle": "2021-07-29T12:44:25.476112Z",
     "shell.execute_reply": "2021-07-29T12:44:25.475137Z",
     "shell.execute_reply.started": "2021-07-29T12:44:25.470444Z"
    }
   },
   "outputs": [
    {
     "data": {
      "text/plain": [
       "(340000, 4)"
      ]
     },
     "execution_count": 44,
     "metadata": {},
     "output_type": "execute_result"
    }
   ],
   "source": [
    "y.shape"
   ]
  },
  {
   "cell_type": "code",
   "execution_count": 45,
   "metadata": {
    "execution": {
     "iopub.execute_input": "2021-07-29T12:44:26.331949Z",
     "iopub.status.busy": "2021-07-29T12:44:26.329864Z",
     "iopub.status.idle": "2021-07-29T12:44:26.339156Z",
     "shell.execute_reply": "2021-07-29T12:44:26.338284Z",
     "shell.execute_reply.started": "2021-07-29T12:44:26.331909Z"
    }
   },
   "outputs": [],
   "source": [
    "y = y.toarray()"
   ]
  },
  {
   "cell_type": "code",
   "execution_count": 46,
   "metadata": {
    "execution": {
     "iopub.execute_input": "2021-07-29T12:44:29.410624Z",
     "iopub.status.busy": "2021-07-29T12:44:29.410271Z",
     "iopub.status.idle": "2021-07-29T12:44:29.417140Z",
     "shell.execute_reply": "2021-07-29T12:44:29.416289Z",
     "shell.execute_reply.started": "2021-07-29T12:44:29.410594Z"
    }
   },
   "outputs": [
    {
     "data": {
      "text/plain": [
       "array([[0., 1., 0., 0.],\n",
       "       [0., 1., 0., 0.],\n",
       "       [0., 0., 0., 1.],\n",
       "       ...,\n",
       "       [0., 0., 0., 1.],\n",
       "       [0., 0., 0., 1.],\n",
       "       [0., 0., 0., 1.]])"
      ]
     },
     "execution_count": 46,
     "metadata": {},
     "output_type": "execute_result"
    }
   ],
   "source": [
    "y"
   ]
  },
  {
   "cell_type": "markdown",
   "metadata": {},
   "source": [
    "# Train and Test"
   ]
  },
  {
   "cell_type": "code",
   "execution_count": 47,
   "metadata": {
    "execution": {
     "iopub.execute_input": "2021-07-29T12:44:34.795346Z",
     "iopub.status.busy": "2021-07-29T12:44:34.794991Z",
     "iopub.status.idle": "2021-07-29T12:44:34.861814Z",
     "shell.execute_reply": "2021-07-29T12:44:34.860762Z",
     "shell.execute_reply.started": "2021-07-29T12:44:34.795316Z"
    }
   },
   "outputs": [],
   "source": [
    "from sklearn.model_selection import train_test_split"
   ]
  },
  {
   "cell_type": "code",
   "execution_count": 48,
   "metadata": {
    "execution": {
     "iopub.execute_input": "2021-07-29T12:44:35.895290Z",
     "iopub.status.busy": "2021-07-29T12:44:35.894932Z",
     "iopub.status.idle": "2021-07-29T12:44:35.963765Z",
     "shell.execute_reply": "2021-07-29T12:44:35.962800Z",
     "shell.execute_reply.started": "2021-07-29T12:44:35.895258Z"
    }
   },
   "outputs": [],
   "source": [
    "x_train,x_test,y_train,y_test = train_test_split(x,y,test_size=0.2,random_state=0)"
   ]
  },
  {
   "cell_type": "code",
   "execution_count": 49,
   "metadata": {
    "execution": {
     "iopub.execute_input": "2021-07-29T12:44:37.515318Z",
     "iopub.status.busy": "2021-07-29T12:44:37.514961Z",
     "iopub.status.idle": "2021-07-29T12:44:37.520889Z",
     "shell.execute_reply": "2021-07-29T12:44:37.520227Z",
     "shell.execute_reply.started": "2021-07-29T12:44:37.515286Z"
    }
   },
   "outputs": [
    {
     "data": {
      "text/plain": [
       "(272000, 14)"
      ]
     },
     "execution_count": 49,
     "metadata": {},
     "output_type": "execute_result"
    }
   ],
   "source": [
    "x_train.shape"
   ]
  },
  {
   "cell_type": "code",
   "execution_count": 50,
   "metadata": {
    "execution": {
     "iopub.execute_input": "2021-07-29T12:44:38.360324Z",
     "iopub.status.busy": "2021-07-29T12:44:38.359947Z",
     "iopub.status.idle": "2021-07-29T12:44:38.367806Z",
     "shell.execute_reply": "2021-07-29T12:44:38.366774Z",
     "shell.execute_reply.started": "2021-07-29T12:44:38.360289Z"
    }
   },
   "outputs": [
    {
     "data": {
      "text/plain": [
       "array([[    0.,     0.,     0., ...,     1., 54434.,  2015.],\n",
       "       [    0.,     0.,     0., ...,     1., 58344.,  2011.],\n",
       "       [    0.,     0.,     0., ...,     1., 74630.,  2013.],\n",
       "       ...,\n",
       "       [    0.,     0.,     0., ...,     1., 98675.,  2014.],\n",
       "       [    0.,     0.,     0., ...,     1., 59155.,  2015.],\n",
       "       [    0.,     0.,     0., ...,     1., 44387.,  2011.]])"
      ]
     },
     "execution_count": 50,
     "metadata": {},
     "output_type": "execute_result"
    }
   ],
   "source": [
    "x_train"
   ]
  },
  {
   "cell_type": "code",
   "execution_count": 51,
   "metadata": {
    "execution": {
     "iopub.execute_input": "2021-07-29T12:44:40.420343Z",
     "iopub.status.busy": "2021-07-29T12:44:40.419958Z",
     "iopub.status.idle": "2021-07-29T12:44:40.426310Z",
     "shell.execute_reply": "2021-07-29T12:44:40.425372Z",
     "shell.execute_reply.started": "2021-07-29T12:44:40.420308Z"
    }
   },
   "outputs": [
    {
     "data": {
      "text/plain": [
       "(68000, 14)"
      ]
     },
     "execution_count": 51,
     "metadata": {},
     "output_type": "execute_result"
    }
   ],
   "source": [
    "x_test.shape"
   ]
  },
  {
   "cell_type": "code",
   "execution_count": 52,
   "metadata": {
    "execution": {
     "iopub.execute_input": "2021-07-29T12:44:41.275381Z",
     "iopub.status.busy": "2021-07-29T12:44:41.274999Z",
     "iopub.status.idle": "2021-07-29T12:44:41.283757Z",
     "shell.execute_reply": "2021-07-29T12:44:41.282761Z",
     "shell.execute_reply.started": "2021-07-29T12:44:41.275346Z"
    }
   },
   "outputs": [
    {
     "data": {
      "text/plain": [
       "array([[    0.,     0.,     0., ...,     1., 53914.,  2013.],\n",
       "       [    0.,     0.,     0., ...,     1., 81286.,  2012.],\n",
       "       [    0.,     0.,     0., ...,     1., 65206.,  2013.],\n",
       "       ...,\n",
       "       [    0.,     0.,     0., ...,     1., 76502.,  2014.],\n",
       "       [    0.,     0.,     0., ...,     0., 62754.,  2016.],\n",
       "       [    0.,     0.,     0., ...,     1., 73133.,  2014.]])"
      ]
     },
     "execution_count": 52,
     "metadata": {},
     "output_type": "execute_result"
    }
   ],
   "source": [
    "x_test"
   ]
  },
  {
   "cell_type": "code",
   "execution_count": 55,
   "metadata": {
    "execution": {
     "iopub.execute_input": "2021-07-29T12:44:44.556153Z",
     "iopub.status.busy": "2021-07-29T12:44:44.555549Z",
     "iopub.status.idle": "2021-07-29T12:44:44.561725Z",
     "shell.execute_reply": "2021-07-29T12:44:44.560981Z",
     "shell.execute_reply.started": "2021-07-29T12:44:44.556117Z"
    }
   },
   "outputs": [
    {
     "data": {
      "text/plain": [
       "(272000, 4)"
      ]
     },
     "execution_count": 55,
     "metadata": {},
     "output_type": "execute_result"
    }
   ],
   "source": [
    "y_train.shape"
   ]
  },
  {
   "cell_type": "code",
   "execution_count": 56,
   "metadata": {
    "execution": {
     "iopub.execute_input": "2021-07-29T12:44:47.810819Z",
     "iopub.status.busy": "2021-07-29T12:44:47.810252Z",
     "iopub.status.idle": "2021-07-29T12:44:47.817081Z",
     "shell.execute_reply": "2021-07-29T12:44:47.816312Z",
     "shell.execute_reply.started": "2021-07-29T12:44:47.810784Z"
    }
   },
   "outputs": [
    {
     "data": {
      "text/plain": [
       "array([[0., 0., 0., 1.],\n",
       "       [0., 0., 1., 0.],\n",
       "       [1., 0., 0., 0.],\n",
       "       ...,\n",
       "       [0., 1., 0., 0.],\n",
       "       [0., 1., 0., 0.],\n",
       "       [0., 0., 0., 1.]])"
      ]
     },
     "execution_count": 56,
     "metadata": {},
     "output_type": "execute_result"
    }
   ],
   "source": [
    "y_train"
   ]
  },
  {
   "cell_type": "code",
   "execution_count": 57,
   "metadata": {
    "execution": {
     "iopub.execute_input": "2021-07-29T12:44:49.137818Z",
     "iopub.status.busy": "2021-07-29T12:44:49.135293Z",
     "iopub.status.idle": "2021-07-29T12:44:49.145887Z",
     "shell.execute_reply": "2021-07-29T12:44:49.144782Z",
     "shell.execute_reply.started": "2021-07-29T12:44:49.137771Z"
    }
   },
   "outputs": [
    {
     "data": {
      "text/plain": [
       "(68000, 4)"
      ]
     },
     "execution_count": 57,
     "metadata": {},
     "output_type": "execute_result"
    }
   ],
   "source": [
    "y_test.shape"
   ]
  },
  {
   "cell_type": "code",
   "execution_count": 58,
   "metadata": {
    "execution": {
     "iopub.execute_input": "2021-07-29T12:44:51.655475Z",
     "iopub.status.busy": "2021-07-29T12:44:51.655092Z",
     "iopub.status.idle": "2021-07-29T12:44:51.661585Z",
     "shell.execute_reply": "2021-07-29T12:44:51.660881Z",
     "shell.execute_reply.started": "2021-07-29T12:44:51.655442Z"
    }
   },
   "outputs": [
    {
     "data": {
      "text/plain": [
       "array([[1., 0., 0., 0.],\n",
       "       [0., 1., 0., 0.],\n",
       "       [0., 0., 1., 0.],\n",
       "       ...,\n",
       "       [1., 0., 0., 0.],\n",
       "       [1., 0., 0., 0.],\n",
       "       [0., 0., 0., 1.]])"
      ]
     },
     "execution_count": 58,
     "metadata": {},
     "output_type": "execute_result"
    }
   ],
   "source": [
    "y_test"
   ]
  },
  {
   "cell_type": "markdown",
   "metadata": {},
   "source": [
    "# Build Model"
   ]
  },
  {
   "cell_type": "code",
   "execution_count": 60,
   "metadata": {
    "execution": {
     "iopub.execute_input": "2021-07-29T12:44:58.245613Z",
     "iopub.status.busy": "2021-07-29T12:44:58.245209Z",
     "iopub.status.idle": "2021-07-29T12:45:04.719212Z",
     "shell.execute_reply": "2021-07-29T12:45:04.718392Z",
     "shell.execute_reply.started": "2021-07-29T12:44:58.245569Z"
    }
   },
   "outputs": [],
   "source": [
    "from tensorflow.keras.models import Sequential\n",
    "from tensorflow.keras.layers import Dense"
   ]
  },
  {
   "cell_type": "code",
   "execution_count": 106,
   "metadata": {
    "execution": {
     "iopub.execute_input": "2021-07-29T13:00:10.740904Z",
     "iopub.status.busy": "2021-07-29T13:00:10.740537Z",
     "iopub.status.idle": "2021-07-29T13:00:10.750050Z",
     "shell.execute_reply": "2021-07-29T13:00:10.749098Z",
     "shell.execute_reply.started": "2021-07-29T13:00:10.740863Z"
    }
   },
   "outputs": [],
   "source": [
    "model = Sequential()"
   ]
  },
  {
   "cell_type": "code",
   "execution_count": 107,
   "metadata": {
    "execution": {
     "iopub.execute_input": "2021-07-29T13:00:11.280520Z",
     "iopub.status.busy": "2021-07-29T13:00:11.280026Z",
     "iopub.status.idle": "2021-07-29T13:00:11.288888Z",
     "shell.execute_reply": "2021-07-29T13:00:11.288195Z",
     "shell.execute_reply.started": "2021-07-29T13:00:11.280488Z"
    }
   },
   "outputs": [],
   "source": [
    "model.add(Dense(units=14,kernel_initializer=\"random_uniform\",activation=\"relu\"))\n",
    "model.add(Dense(units=28,kernel_initializer=\"random_uniform\",activation=\"relu\"))\n",
    "model.add(Dense(units=15,kernel_initializer=\"random_uniform\",activation=\"relu\"))\n",
    "model.add(Dense(units=4,activation='softmax'))"
   ]
  },
  {
   "cell_type": "code",
   "execution_count": 108,
   "metadata": {
    "execution": {
     "iopub.execute_input": "2021-07-29T13:00:12.135513Z",
     "iopub.status.busy": "2021-07-29T13:00:12.134989Z",
     "iopub.status.idle": "2021-07-29T13:00:12.146453Z",
     "shell.execute_reply": "2021-07-29T13:00:12.145669Z",
     "shell.execute_reply.started": "2021-07-29T13:00:12.135478Z"
    }
   },
   "outputs": [],
   "source": [
    "model.compile(optimizer='rmsprop', loss='categorical_crossentropy', metrics=['accuracy'])"
   ]
  },
  {
   "cell_type": "code",
   "execution_count": 109,
   "metadata": {
    "execution": {
     "iopub.execute_input": "2021-07-29T13:00:13.985555Z",
     "iopub.status.busy": "2021-07-29T13:00:13.985038Z",
     "iopub.status.idle": "2021-07-29T13:05:14.013212Z",
     "shell.execute_reply": "2021-07-29T13:05:14.012073Z",
     "shell.execute_reply.started": "2021-07-29T13:00:13.985519Z"
    }
   },
   "outputs": [
    {
     "name": "stdout",
     "output_type": "stream",
     "text": [
      "Epoch 1/500\n",
      "272/272 [==============================] - 1s 3ms/step - loss: 1.9857 - accuracy: 0.2515 - val_loss: 1.3860 - val_accuracy: 0.2391\n",
      "Epoch 2/500\n",
      "272/272 [==============================] - 1s 2ms/step - loss: 1.3931 - accuracy: 0.2534 - val_loss: 1.3787 - val_accuracy: 0.2750\n",
      "Epoch 3/500\n",
      "272/272 [==============================] - 1s 2ms/step - loss: 1.3861 - accuracy: 0.2615 - val_loss: 1.3749 - val_accuracy: 0.2880\n",
      "Epoch 4/500\n",
      "272/272 [==============================] - 1s 2ms/step - loss: 1.3784 - accuracy: 0.2805 - val_loss: 1.3763 - val_accuracy: 0.2787\n",
      "Epoch 5/500\n",
      "272/272 [==============================] - 1s 2ms/step - loss: 1.3750 - accuracy: 0.2852 - val_loss: 1.3726 - val_accuracy: 0.2901\n",
      "Epoch 6/500\n",
      "272/272 [==============================] - 1s 2ms/step - loss: 1.3724 - accuracy: 0.2905 - val_loss: 1.3712 - val_accuracy: 0.2903\n",
      "Epoch 7/500\n",
      "272/272 [==============================] - 1s 2ms/step - loss: 1.3717 - accuracy: 0.2920 - val_loss: 1.3733 - val_accuracy: 0.2873\n",
      "Epoch 8/500\n",
      "272/272 [==============================] - 1s 2ms/step - loss: 1.3712 - accuracy: 0.2921 - val_loss: 1.3725 - val_accuracy: 0.2891\n",
      "Epoch 9/500\n",
      "272/272 [==============================] - 1s 2ms/step - loss: 1.3706 - accuracy: 0.2926 - val_loss: 1.3724 - val_accuracy: 0.2877\n",
      "Epoch 10/500\n",
      "272/272 [==============================] - 1s 2ms/step - loss: 1.3715 - accuracy: 0.2918 - val_loss: 1.3709 - val_accuracy: 0.2933\n",
      "Epoch 11/500\n",
      "272/272 [==============================] - 1s 2ms/step - loss: 1.3693 - accuracy: 0.2946 - val_loss: 1.3755 - val_accuracy: 0.2798\n",
      "Epoch 12/500\n",
      "272/272 [==============================] - 1s 2ms/step - loss: 1.3720 - accuracy: 0.2943 - val_loss: 1.3706 - val_accuracy: 0.2927\n",
      "Epoch 13/500\n",
      "272/272 [==============================] - 1s 2ms/step - loss: 1.3701 - accuracy: 0.2940 - val_loss: 1.3701 - val_accuracy: 0.2927\n",
      "Epoch 14/500\n",
      "272/272 [==============================] - 1s 2ms/step - loss: 1.3699 - accuracy: 0.2942 - val_loss: 1.3716 - val_accuracy: 0.2923\n",
      "Epoch 15/500\n",
      "272/272 [==============================] - 1s 2ms/step - loss: 1.3698 - accuracy: 0.2937 - val_loss: 1.3719 - val_accuracy: 0.2883\n",
      "Epoch 16/500\n",
      "272/272 [==============================] - 1s 2ms/step - loss: 1.3701 - accuracy: 0.2950 - val_loss: 1.3699 - val_accuracy: 0.2938\n",
      "Epoch 17/500\n",
      "272/272 [==============================] - 1s 2ms/step - loss: 1.3689 - accuracy: 0.2974 - val_loss: 1.3727 - val_accuracy: 0.2904\n",
      "Epoch 18/500\n",
      "272/272 [==============================] - 1s 2ms/step - loss: 1.3697 - accuracy: 0.2950 - val_loss: 1.3702 - val_accuracy: 0.2918\n",
      "Epoch 19/500\n",
      "272/272 [==============================] - 1s 2ms/step - loss: 1.3696 - accuracy: 0.2957 - val_loss: 1.3749 - val_accuracy: 0.2860\n",
      "Epoch 20/500\n",
      "272/272 [==============================] - 1s 2ms/step - loss: 1.3696 - accuracy: 0.2955 - val_loss: 1.3700 - val_accuracy: 0.2914\n",
      "Epoch 21/500\n",
      "272/272 [==============================] - 1s 2ms/step - loss: 1.3694 - accuracy: 0.2951 - val_loss: 1.3702 - val_accuracy: 0.2933\n",
      "Epoch 22/500\n",
      "272/272 [==============================] - 1s 2ms/step - loss: 1.3697 - accuracy: 0.2950 - val_loss: 1.3697 - val_accuracy: 0.2945\n",
      "Epoch 23/500\n",
      "272/272 [==============================] - 1s 2ms/step - loss: 1.3693 - accuracy: 0.2967 - val_loss: 1.3695 - val_accuracy: 0.2926\n",
      "Epoch 24/500\n",
      "272/272 [==============================] - 1s 2ms/step - loss: 1.3701 - accuracy: 0.2952 - val_loss: 1.3694 - val_accuracy: 0.2937\n",
      "Epoch 25/500\n",
      "272/272 [==============================] - 1s 2ms/step - loss: 1.3689 - accuracy: 0.2985 - val_loss: 1.3711 - val_accuracy: 0.2942\n",
      "Epoch 26/500\n",
      "272/272 [==============================] - 1s 2ms/step - loss: 1.3695 - accuracy: 0.2971 - val_loss: 1.3701 - val_accuracy: 0.2940\n",
      "Epoch 27/500\n",
      "272/272 [==============================] - 1s 2ms/step - loss: 1.3695 - accuracy: 0.2946 - val_loss: 1.3696 - val_accuracy: 0.2944\n",
      "Epoch 28/500\n",
      "272/272 [==============================] - 1s 2ms/step - loss: 1.3692 - accuracy: 0.2973 - val_loss: 1.3692 - val_accuracy: 0.2932\n",
      "Epoch 29/500\n",
      "272/272 [==============================] - 1s 2ms/step - loss: 1.3691 - accuracy: 0.2954 - val_loss: 1.3694 - val_accuracy: 0.2949\n",
      "Epoch 30/500\n",
      "272/272 [==============================] - 1s 2ms/step - loss: 1.3688 - accuracy: 0.2964 - val_loss: 1.3697 - val_accuracy: 0.2921\n",
      "Epoch 31/500\n",
      "272/272 [==============================] - 1s 2ms/step - loss: 1.3688 - accuracy: 0.2967 - val_loss: 1.3705 - val_accuracy: 0.2929\n",
      "Epoch 32/500\n",
      "272/272 [==============================] - 1s 2ms/step - loss: 1.3697 - accuracy: 0.2966 - val_loss: 1.3703 - val_accuracy: 0.2937\n",
      "Epoch 33/500\n",
      "272/272 [==============================] - 1s 2ms/step - loss: 1.3690 - accuracy: 0.2963 - val_loss: 1.3695 - val_accuracy: 0.2947\n",
      "Epoch 34/500\n",
      "272/272 [==============================] - 1s 2ms/step - loss: 1.3695 - accuracy: 0.2972 - val_loss: 1.3706 - val_accuracy: 0.2946\n",
      "Epoch 35/500\n",
      "272/272 [==============================] - 1s 2ms/step - loss: 1.3689 - accuracy: 0.2959 - val_loss: 1.3702 - val_accuracy: 0.2943\n",
      "Epoch 36/500\n",
      "272/272 [==============================] - 1s 2ms/step - loss: 1.3687 - accuracy: 0.2973 - val_loss: 1.3694 - val_accuracy: 0.2943\n",
      "Epoch 37/500\n",
      "272/272 [==============================] - 1s 2ms/step - loss: 1.3692 - accuracy: 0.2954 - val_loss: 1.3691 - val_accuracy: 0.2940\n",
      "Epoch 38/500\n",
      "272/272 [==============================] - 1s 2ms/step - loss: 1.3686 - accuracy: 0.2982 - val_loss: 1.3691 - val_accuracy: 0.2938\n",
      "Epoch 39/500\n",
      "272/272 [==============================] - 1s 2ms/step - loss: 1.3693 - accuracy: 0.2964 - val_loss: 1.3712 - val_accuracy: 0.2912\n",
      "Epoch 40/500\n",
      "272/272 [==============================] - 1s 2ms/step - loss: 1.3692 - accuracy: 0.2979 - val_loss: 1.3703 - val_accuracy: 0.2933\n",
      "Epoch 41/500\n",
      "272/272 [==============================] - 1s 2ms/step - loss: 1.3686 - accuracy: 0.2969 - val_loss: 1.3706 - val_accuracy: 0.2916\n",
      "Epoch 42/500\n",
      "272/272 [==============================] - 1s 2ms/step - loss: 1.3688 - accuracy: 0.2973 - val_loss: 1.3691 - val_accuracy: 0.2958\n",
      "Epoch 43/500\n",
      "272/272 [==============================] - 1s 2ms/step - loss: 1.3686 - accuracy: 0.2982 - val_loss: 1.3757 - val_accuracy: 0.2806\n",
      "Epoch 44/500\n",
      "272/272 [==============================] - 1s 2ms/step - loss: 1.3690 - accuracy: 0.2962 - val_loss: 1.3698 - val_accuracy: 0.2941\n",
      "Epoch 45/500\n",
      "272/272 [==============================] - 1s 2ms/step - loss: 1.3691 - accuracy: 0.2963 - val_loss: 1.3704 - val_accuracy: 0.2937\n",
      "Epoch 46/500\n",
      "272/272 [==============================] - 1s 3ms/step - loss: 1.3684 - accuracy: 0.2989 - val_loss: 1.3691 - val_accuracy: 0.2947\n",
      "Epoch 47/500\n",
      "272/272 [==============================] - 1s 2ms/step - loss: 1.3687 - accuracy: 0.2997 - val_loss: 1.3710 - val_accuracy: 0.2928\n",
      "Epoch 48/500\n",
      "272/272 [==============================] - 1s 2ms/step - loss: 1.3695 - accuracy: 0.2957 - val_loss: 1.3693 - val_accuracy: 0.2934\n",
      "Epoch 49/500\n",
      "272/272 [==============================] - 1s 2ms/step - loss: 1.3687 - accuracy: 0.2954 - val_loss: 1.3704 - val_accuracy: 0.2897\n",
      "Epoch 50/500\n",
      "272/272 [==============================] - 1s 2ms/step - loss: 1.3692 - accuracy: 0.2953 - val_loss: 1.3694 - val_accuracy: 0.2941\n",
      "Epoch 51/500\n",
      "272/272 [==============================] - 1s 2ms/step - loss: 1.3692 - accuracy: 0.2962 - val_loss: 1.3690 - val_accuracy: 0.2940\n",
      "Epoch 52/500\n",
      "272/272 [==============================] - 1s 2ms/step - loss: 1.3693 - accuracy: 0.2962 - val_loss: 1.3687 - val_accuracy: 0.2950\n",
      "Epoch 53/500\n",
      "272/272 [==============================] - 1s 2ms/step - loss: 1.3678 - accuracy: 0.3000 - val_loss: 1.3694 - val_accuracy: 0.2949\n",
      "Epoch 54/500\n",
      "272/272 [==============================] - 1s 2ms/step - loss: 1.3687 - accuracy: 0.2960 - val_loss: 1.3720 - val_accuracy: 0.2898\n",
      "Epoch 55/500\n",
      "272/272 [==============================] - 1s 2ms/step - loss: 1.3689 - accuracy: 0.2960 - val_loss: 1.3702 - val_accuracy: 0.2903\n",
      "Epoch 56/500\n",
      "272/272 [==============================] - 1s 2ms/step - loss: 1.3687 - accuracy: 0.2970 - val_loss: 1.3689 - val_accuracy: 0.2964\n",
      "Epoch 57/500\n",
      "272/272 [==============================] - 1s 2ms/step - loss: 1.3688 - accuracy: 0.2968 - val_loss: 1.3688 - val_accuracy: 0.2942\n",
      "Epoch 58/500\n",
      "272/272 [==============================] - 1s 2ms/step - loss: 1.3688 - accuracy: 0.2974 - val_loss: 1.3693 - val_accuracy: 0.2957\n",
      "Epoch 59/500\n",
      "272/272 [==============================] - 1s 2ms/step - loss: 1.3684 - accuracy: 0.2972 - val_loss: 1.3698 - val_accuracy: 0.2945\n",
      "Epoch 60/500\n",
      "272/272 [==============================] - 1s 2ms/step - loss: 1.3688 - accuracy: 0.2971 - val_loss: 1.3694 - val_accuracy: 0.2953\n",
      "Epoch 61/500\n",
      "272/272 [==============================] - 1s 2ms/step - loss: 1.3688 - accuracy: 0.2969 - val_loss: 1.3756 - val_accuracy: 0.2860\n",
      "Epoch 62/500\n",
      "272/272 [==============================] - 1s 2ms/step - loss: 1.3681 - accuracy: 0.2990 - val_loss: 1.3714 - val_accuracy: 0.2893\n",
      "Epoch 63/500\n",
      "272/272 [==============================] - 1s 2ms/step - loss: 1.3684 - accuracy: 0.2976 - val_loss: 1.3688 - val_accuracy: 0.2949\n",
      "Epoch 64/500\n",
      "272/272 [==============================] - 1s 2ms/step - loss: 1.3686 - accuracy: 0.2954 - val_loss: 1.3694 - val_accuracy: 0.2930\n",
      "Epoch 65/500\n",
      "272/272 [==============================] - 1s 2ms/step - loss: 1.3680 - accuracy: 0.2976 - val_loss: 1.3760 - val_accuracy: 0.2870\n",
      "Epoch 66/500\n",
      "272/272 [==============================] - 1s 2ms/step - loss: 1.3687 - accuracy: 0.2991 - val_loss: 1.3711 - val_accuracy: 0.2914\n",
      "Epoch 67/500\n",
      "272/272 [==============================] - 1s 2ms/step - loss: 1.3687 - accuracy: 0.2953 - val_loss: 1.3691 - val_accuracy: 0.2954\n",
      "Epoch 68/500\n",
      "272/272 [==============================] - 1s 2ms/step - loss: 1.3684 - accuracy: 0.2978 - val_loss: 1.3687 - val_accuracy: 0.2957\n",
      "Epoch 69/500\n",
      "272/272 [==============================] - 1s 2ms/step - loss: 1.3679 - accuracy: 0.2997 - val_loss: 1.3701 - val_accuracy: 0.2939\n",
      "Epoch 70/500\n",
      "272/272 [==============================] - 1s 2ms/step - loss: 1.3679 - accuracy: 0.2992 - val_loss: 1.3690 - val_accuracy: 0.2952\n",
      "Epoch 71/500\n",
      "272/272 [==============================] - 1s 2ms/step - loss: 1.3679 - accuracy: 0.2987 - val_loss: 1.3691 - val_accuracy: 0.2960\n",
      "Epoch 72/500\n",
      "272/272 [==============================] - 1s 2ms/step - loss: 1.3687 - accuracy: 0.2964 - val_loss: 1.3715 - val_accuracy: 0.2929\n",
      "Epoch 73/500\n",
      "272/272 [==============================] - 1s 2ms/step - loss: 1.3684 - accuracy: 0.2979 - val_loss: 1.3705 - val_accuracy: 0.2953\n",
      "Epoch 74/500\n",
      "272/272 [==============================] - 1s 2ms/step - loss: 1.3678 - accuracy: 0.2996 - val_loss: 1.3694 - val_accuracy: 0.2949\n",
      "Epoch 75/500\n",
      "272/272 [==============================] - 1s 2ms/step - loss: 1.3676 - accuracy: 0.2992 - val_loss: 1.3691 - val_accuracy: 0.2950\n",
      "Epoch 76/500\n",
      "272/272 [==============================] - 1s 2ms/step - loss: 1.3688 - accuracy: 0.2967 - val_loss: 1.3690 - val_accuracy: 0.2958\n",
      "Epoch 77/500\n",
      "272/272 [==============================] - 1s 2ms/step - loss: 1.3685 - accuracy: 0.2969 - val_loss: 1.3688 - val_accuracy: 0.2955\n",
      "Epoch 78/500\n",
      "272/272 [==============================] - 1s 2ms/step - loss: 1.3686 - accuracy: 0.2984 - val_loss: 1.3691 - val_accuracy: 0.2975\n",
      "Epoch 79/500\n",
      "272/272 [==============================] - 1s 2ms/step - loss: 1.3689 - accuracy: 0.2956 - val_loss: 1.3696 - val_accuracy: 0.2947\n",
      "Epoch 80/500\n",
      "272/272 [==============================] - 1s 2ms/step - loss: 1.3693 - accuracy: 0.2965 - val_loss: 1.3686 - val_accuracy: 0.2962\n",
      "Epoch 81/500\n",
      "272/272 [==============================] - 1s 2ms/step - loss: 1.3677 - accuracy: 0.2980 - val_loss: 1.3693 - val_accuracy: 0.2923\n",
      "Epoch 82/500\n",
      "272/272 [==============================] - 1s 2ms/step - loss: 1.3689 - accuracy: 0.2970 - val_loss: 1.3694 - val_accuracy: 0.2920\n",
      "Epoch 83/500\n",
      "272/272 [==============================] - 1s 2ms/step - loss: 1.3678 - accuracy: 0.2983 - val_loss: 1.3689 - val_accuracy: 0.2951\n",
      "Epoch 84/500\n",
      "272/272 [==============================] - 1s 2ms/step - loss: 1.3683 - accuracy: 0.2980 - val_loss: 1.3692 - val_accuracy: 0.2941\n",
      "Epoch 85/500\n",
      "272/272 [==============================] - 1s 2ms/step - loss: 1.3683 - accuracy: 0.2961 - val_loss: 1.3693 - val_accuracy: 0.2947\n",
      "Epoch 86/500\n",
      "272/272 [==============================] - 1s 2ms/step - loss: 1.3690 - accuracy: 0.2952 - val_loss: 1.3702 - val_accuracy: 0.2910\n",
      "Epoch 87/500\n",
      "272/272 [==============================] - 1s 2ms/step - loss: 1.3690 - accuracy: 0.2963 - val_loss: 1.3705 - val_accuracy: 0.2921\n",
      "Epoch 88/500\n",
      "272/272 [==============================] - 1s 2ms/step - loss: 1.3686 - accuracy: 0.2964 - val_loss: 1.3695 - val_accuracy: 0.2956\n",
      "Epoch 89/500\n",
      "272/272 [==============================] - 1s 2ms/step - loss: 1.3689 - accuracy: 0.2967 - val_loss: 1.3689 - val_accuracy: 0.2952\n",
      "Epoch 90/500\n",
      "272/272 [==============================] - 1s 2ms/step - loss: 1.3691 - accuracy: 0.2960 - val_loss: 1.3692 - val_accuracy: 0.2932\n",
      "Epoch 91/500\n",
      "272/272 [==============================] - 1s 2ms/step - loss: 1.3679 - accuracy: 0.2962 - val_loss: 1.3693 - val_accuracy: 0.2966\n",
      "Epoch 92/500\n",
      "272/272 [==============================] - 1s 2ms/step - loss: 1.3683 - accuracy: 0.2980 - val_loss: 1.3699 - val_accuracy: 0.2948\n",
      "Epoch 93/500\n",
      "272/272 [==============================] - 1s 2ms/step - loss: 1.3688 - accuracy: 0.2969 - val_loss: 1.3689 - val_accuracy: 0.2951\n",
      "Epoch 94/500\n",
      "272/272 [==============================] - 1s 2ms/step - loss: 1.3678 - accuracy: 0.2967 - val_loss: 1.3686 - val_accuracy: 0.2959\n",
      "Epoch 95/500\n",
      "272/272 [==============================] - 1s 2ms/step - loss: 1.3683 - accuracy: 0.2976 - val_loss: 1.3703 - val_accuracy: 0.2902\n",
      "Epoch 96/500\n",
      "272/272 [==============================] - 1s 2ms/step - loss: 1.3690 - accuracy: 0.2974 - val_loss: 1.3700 - val_accuracy: 0.2959\n",
      "Epoch 97/500\n",
      "272/272 [==============================] - 1s 2ms/step - loss: 1.3682 - accuracy: 0.2963 - val_loss: 1.3692 - val_accuracy: 0.2952\n",
      "Epoch 98/500\n",
      "272/272 [==============================] - 1s 2ms/step - loss: 1.3683 - accuracy: 0.2982 - val_loss: 1.3683 - val_accuracy: 0.2951\n",
      "Epoch 99/500\n",
      "272/272 [==============================] - 1s 2ms/step - loss: 1.3681 - accuracy: 0.2991 - val_loss: 1.3691 - val_accuracy: 0.2956\n",
      "Epoch 100/500\n",
      "272/272 [==============================] - 1s 2ms/step - loss: 1.3686 - accuracy: 0.2981 - val_loss: 1.3690 - val_accuracy: 0.2954\n",
      "Epoch 101/500\n",
      "272/272 [==============================] - 1s 2ms/step - loss: 1.3676 - accuracy: 0.2990 - val_loss: 1.3699 - val_accuracy: 0.2940\n",
      "Epoch 102/500\n",
      "272/272 [==============================] - 1s 2ms/step - loss: 1.3689 - accuracy: 0.2971 - val_loss: 1.3727 - val_accuracy: 0.2839\n",
      "Epoch 103/500\n",
      "272/272 [==============================] - 1s 2ms/step - loss: 1.3675 - accuracy: 0.2996 - val_loss: 1.3695 - val_accuracy: 0.2945\n",
      "Epoch 104/500\n",
      "272/272 [==============================] - 1s 2ms/step - loss: 1.3685 - accuracy: 0.2976 - val_loss: 1.3694 - val_accuracy: 0.2930\n",
      "Epoch 105/500\n",
      "272/272 [==============================] - 1s 2ms/step - loss: 1.3691 - accuracy: 0.2979 - val_loss: 1.3686 - val_accuracy: 0.2950\n",
      "Epoch 106/500\n",
      "272/272 [==============================] - 1s 2ms/step - loss: 1.3677 - accuracy: 0.2982 - val_loss: 1.3686 - val_accuracy: 0.2955\n",
      "Epoch 107/500\n",
      "272/272 [==============================] - 1s 2ms/step - loss: 1.3681 - accuracy: 0.2986 - val_loss: 1.3684 - val_accuracy: 0.2966\n",
      "Epoch 108/500\n",
      "272/272 [==============================] - 1s 2ms/step - loss: 1.3683 - accuracy: 0.2978 - val_loss: 1.3685 - val_accuracy: 0.2951\n",
      "Epoch 109/500\n",
      "272/272 [==============================] - 1s 2ms/step - loss: 1.3685 - accuracy: 0.2969 - val_loss: 1.3684 - val_accuracy: 0.2955\n",
      "Epoch 110/500\n",
      "272/272 [==============================] - 1s 2ms/step - loss: 1.3680 - accuracy: 0.2980 - val_loss: 1.3686 - val_accuracy: 0.2961\n",
      "Epoch 111/500\n",
      "272/272 [==============================] - 1s 2ms/step - loss: 1.3683 - accuracy: 0.2978 - val_loss: 1.3690 - val_accuracy: 0.2966\n",
      "Epoch 112/500\n",
      "272/272 [==============================] - 1s 2ms/step - loss: 1.3679 - accuracy: 0.2982 - val_loss: 1.3691 - val_accuracy: 0.2949\n",
      "Epoch 113/500\n",
      "272/272 [==============================] - 1s 2ms/step - loss: 1.3685 - accuracy: 0.2984 - val_loss: 1.3690 - val_accuracy: 0.2928\n",
      "Epoch 114/500\n",
      "272/272 [==============================] - 1s 2ms/step - loss: 1.3677 - accuracy: 0.2990 - val_loss: 1.3822 - val_accuracy: 0.2768\n",
      "Epoch 115/500\n",
      "272/272 [==============================] - 1s 2ms/step - loss: 1.3683 - accuracy: 0.2994 - val_loss: 1.3680 - val_accuracy: 0.2980\n",
      "Epoch 116/500\n",
      "272/272 [==============================] - 1s 2ms/step - loss: 1.3678 - accuracy: 0.2972 - val_loss: 1.3687 - val_accuracy: 0.2951\n",
      "Epoch 117/500\n",
      "272/272 [==============================] - 1s 2ms/step - loss: 1.3683 - accuracy: 0.2988 - val_loss: 1.3722 - val_accuracy: 0.2907\n",
      "Epoch 118/500\n",
      "272/272 [==============================] - 1s 2ms/step - loss: 1.3685 - accuracy: 0.2978 - val_loss: 1.3684 - val_accuracy: 0.2957\n",
      "Epoch 119/500\n",
      "272/272 [==============================] - 1s 2ms/step - loss: 1.3675 - accuracy: 0.2978 - val_loss: 1.3681 - val_accuracy: 0.2979\n",
      "Epoch 120/500\n",
      "272/272 [==============================] - 1s 2ms/step - loss: 1.3677 - accuracy: 0.2986 - val_loss: 1.3692 - val_accuracy: 0.2973\n",
      "Epoch 121/500\n",
      "272/272 [==============================] - 1s 2ms/step - loss: 1.3683 - accuracy: 0.2964 - val_loss: 1.3703 - val_accuracy: 0.2928\n",
      "Epoch 122/500\n",
      "272/272 [==============================] - 1s 2ms/step - loss: 1.3679 - accuracy: 0.2976 - val_loss: 1.3685 - val_accuracy: 0.2973\n",
      "Epoch 123/500\n",
      "272/272 [==============================] - 1s 2ms/step - loss: 1.3682 - accuracy: 0.2978 - val_loss: 1.3693 - val_accuracy: 0.2952\n",
      "Epoch 124/500\n",
      "272/272 [==============================] - 1s 2ms/step - loss: 1.3686 - accuracy: 0.2980 - val_loss: 1.3697 - val_accuracy: 0.2942\n",
      "Epoch 125/500\n",
      "272/272 [==============================] - 1s 2ms/step - loss: 1.3679 - accuracy: 0.2975 - val_loss: 1.3716 - val_accuracy: 0.2917\n",
      "Epoch 126/500\n",
      "272/272 [==============================] - 1s 2ms/step - loss: 1.3677 - accuracy: 0.2991 - val_loss: 1.3686 - val_accuracy: 0.2942\n",
      "Epoch 127/500\n",
      "272/272 [==============================] - 1s 2ms/step - loss: 1.3680 - accuracy: 0.2971 - val_loss: 1.3684 - val_accuracy: 0.2959\n",
      "Epoch 128/500\n",
      "272/272 [==============================] - 1s 2ms/step - loss: 1.3678 - accuracy: 0.2991 - val_loss: 1.3705 - val_accuracy: 0.2929\n",
      "Epoch 129/500\n",
      "272/272 [==============================] - 1s 2ms/step - loss: 1.3681 - accuracy: 0.2976 - val_loss: 1.3689 - val_accuracy: 0.2917\n",
      "Epoch 130/500\n",
      "272/272 [==============================] - 1s 2ms/step - loss: 1.3683 - accuracy: 0.2961 - val_loss: 1.3771 - val_accuracy: 0.2828\n",
      "Epoch 131/500\n",
      "272/272 [==============================] - 1s 2ms/step - loss: 1.3674 - accuracy: 0.2978 - val_loss: 1.3686 - val_accuracy: 0.2946\n",
      "Epoch 132/500\n",
      "272/272 [==============================] - 1s 2ms/step - loss: 1.3676 - accuracy: 0.2993 - val_loss: 1.3678 - val_accuracy: 0.2969\n",
      "Epoch 133/500\n",
      "272/272 [==============================] - 1s 2ms/step - loss: 1.3671 - accuracy: 0.3006 - val_loss: 1.3683 - val_accuracy: 0.2927\n",
      "Epoch 134/500\n",
      "272/272 [==============================] - 1s 2ms/step - loss: 1.3672 - accuracy: 0.2990 - val_loss: 1.3694 - val_accuracy: 0.2963\n",
      "Epoch 135/500\n",
      "272/272 [==============================] - 1s 2ms/step - loss: 1.3674 - accuracy: 0.2991 - val_loss: 1.3682 - val_accuracy: 0.2947\n",
      "Epoch 136/500\n",
      "272/272 [==============================] - 1s 2ms/step - loss: 1.3683 - accuracy: 0.2978 - val_loss: 1.3693 - val_accuracy: 0.2969\n",
      "Epoch 137/500\n",
      "272/272 [==============================] - 1s 2ms/step - loss: 1.3672 - accuracy: 0.2985 - val_loss: 1.3696 - val_accuracy: 0.2929\n",
      "Epoch 138/500\n",
      "272/272 [==============================] - 1s 2ms/step - loss: 1.3672 - accuracy: 0.2994 - val_loss: 1.3684 - val_accuracy: 0.2943\n",
      "Epoch 139/500\n",
      "272/272 [==============================] - 1s 2ms/step - loss: 1.3675 - accuracy: 0.2993 - val_loss: 1.3684 - val_accuracy: 0.2973\n",
      "Epoch 140/500\n",
      "272/272 [==============================] - 1s 2ms/step - loss: 1.3669 - accuracy: 0.3008 - val_loss: 1.3699 - val_accuracy: 0.2898\n",
      "Epoch 141/500\n",
      "272/272 [==============================] - 1s 2ms/step - loss: 1.3670 - accuracy: 0.3005 - val_loss: 1.3681 - val_accuracy: 0.2962\n",
      "Epoch 142/500\n",
      "272/272 [==============================] - 1s 2ms/step - loss: 1.3676 - accuracy: 0.2974 - val_loss: 1.3683 - val_accuracy: 0.2970\n",
      "Epoch 143/500\n",
      "272/272 [==============================] - 1s 2ms/step - loss: 1.3670 - accuracy: 0.2995 - val_loss: 1.3679 - val_accuracy: 0.2970\n",
      "Epoch 144/500\n",
      "272/272 [==============================] - 1s 2ms/step - loss: 1.3669 - accuracy: 0.2995 - val_loss: 1.3682 - val_accuracy: 0.2963\n",
      "Epoch 145/500\n",
      "272/272 [==============================] - 1s 2ms/step - loss: 1.3678 - accuracy: 0.2988 - val_loss: 1.3677 - val_accuracy: 0.2968\n",
      "Epoch 146/500\n",
      "272/272 [==============================] - 1s 2ms/step - loss: 1.3670 - accuracy: 0.2995 - val_loss: 1.3674 - val_accuracy: 0.2982\n",
      "Epoch 147/500\n",
      "272/272 [==============================] - 1s 2ms/step - loss: 1.3675 - accuracy: 0.2992 - val_loss: 1.3687 - val_accuracy: 0.2971\n",
      "Epoch 148/500\n",
      "272/272 [==============================] - 1s 2ms/step - loss: 1.3679 - accuracy: 0.2972 - val_loss: 1.3682 - val_accuracy: 0.2940\n",
      "Epoch 149/500\n",
      "272/272 [==============================] - 1s 2ms/step - loss: 1.3669 - accuracy: 0.3002 - val_loss: 1.3693 - val_accuracy: 0.2923\n",
      "Epoch 150/500\n",
      "272/272 [==============================] - 1s 2ms/step - loss: 1.3672 - accuracy: 0.2988 - val_loss: 1.3676 - val_accuracy: 0.2968\n",
      "Epoch 151/500\n",
      "272/272 [==============================] - 1s 2ms/step - loss: 1.3677 - accuracy: 0.2989 - val_loss: 1.3732 - val_accuracy: 0.2881\n",
      "Epoch 152/500\n",
      "272/272 [==============================] - 1s 2ms/step - loss: 1.3664 - accuracy: 0.3003 - val_loss: 1.3686 - val_accuracy: 0.2973\n",
      "Epoch 153/500\n",
      "272/272 [==============================] - 1s 2ms/step - loss: 1.3672 - accuracy: 0.2998 - val_loss: 1.3674 - val_accuracy: 0.2981\n",
      "Epoch 154/500\n",
      "272/272 [==============================] - 1s 2ms/step - loss: 1.3681 - accuracy: 0.2980 - val_loss: 1.3676 - val_accuracy: 0.2973\n",
      "Epoch 155/500\n",
      "272/272 [==============================] - 1s 2ms/step - loss: 1.3661 - accuracy: 0.3008 - val_loss: 1.3686 - val_accuracy: 0.2966\n",
      "Epoch 156/500\n",
      "272/272 [==============================] - 1s 2ms/step - loss: 1.3663 - accuracy: 0.2998 - val_loss: 1.3706 - val_accuracy: 0.2910\n",
      "Epoch 157/500\n",
      "272/272 [==============================] - 1s 2ms/step - loss: 1.3672 - accuracy: 0.3001 - val_loss: 1.3665 - val_accuracy: 0.2968\n",
      "Epoch 158/500\n",
      "272/272 [==============================] - 1s 2ms/step - loss: 1.3658 - accuracy: 0.3020 - val_loss: 1.3677 - val_accuracy: 0.2979\n",
      "Epoch 159/500\n",
      "272/272 [==============================] - 1s 2ms/step - loss: 1.3670 - accuracy: 0.3014 - val_loss: 1.3665 - val_accuracy: 0.2990\n",
      "Epoch 160/500\n",
      "272/272 [==============================] - 1s 2ms/step - loss: 1.3667 - accuracy: 0.3004 - val_loss: 1.3669 - val_accuracy: 0.2958\n",
      "Epoch 161/500\n",
      "272/272 [==============================] - 1s 2ms/step - loss: 1.3661 - accuracy: 0.3003 - val_loss: 1.3661 - val_accuracy: 0.2962\n",
      "Epoch 162/500\n",
      "272/272 [==============================] - 1s 2ms/step - loss: 1.3668 - accuracy: 0.2981 - val_loss: 1.3670 - val_accuracy: 0.2982\n",
      "Epoch 163/500\n",
      "272/272 [==============================] - 1s 2ms/step - loss: 1.3655 - accuracy: 0.3010 - val_loss: 1.3677 - val_accuracy: 0.2915\n",
      "Epoch 164/500\n",
      "272/272 [==============================] - 1s 2ms/step - loss: 1.3662 - accuracy: 0.2989 - val_loss: 1.3666 - val_accuracy: 0.2970\n",
      "Epoch 165/500\n",
      "272/272 [==============================] - 1s 2ms/step - loss: 1.3653 - accuracy: 0.3015 - val_loss: 1.3675 - val_accuracy: 0.2966\n",
      "Epoch 166/500\n",
      "272/272 [==============================] - 1s 2ms/step - loss: 1.3663 - accuracy: 0.2983 - val_loss: 1.3645 - val_accuracy: 0.2969\n",
      "Epoch 167/500\n",
      "272/272 [==============================] - 1s 2ms/step - loss: 1.3660 - accuracy: 0.2996 - val_loss: 1.3676 - val_accuracy: 0.2939\n",
      "Epoch 168/500\n",
      "272/272 [==============================] - 1s 2ms/step - loss: 1.3660 - accuracy: 0.2991 - val_loss: 1.3665 - val_accuracy: 0.2975\n",
      "Epoch 169/500\n",
      "272/272 [==============================] - 1s 2ms/step - loss: 1.3658 - accuracy: 0.3001 - val_loss: 1.3644 - val_accuracy: 0.2987\n",
      "Epoch 170/500\n",
      "272/272 [==============================] - 1s 2ms/step - loss: 1.3653 - accuracy: 0.2985 - val_loss: 1.3714 - val_accuracy: 0.2929\n",
      "Epoch 171/500\n",
      "272/272 [==============================] - 1s 2ms/step - loss: 1.3658 - accuracy: 0.2998 - val_loss: 1.3674 - val_accuracy: 0.2961\n",
      "Epoch 172/500\n",
      "272/272 [==============================] - 1s 2ms/step - loss: 1.3659 - accuracy: 0.2985 - val_loss: 1.3649 - val_accuracy: 0.2989\n",
      "Epoch 173/500\n",
      "272/272 [==============================] - 1s 2ms/step - loss: 1.3654 - accuracy: 0.3003 - val_loss: 1.3849 - val_accuracy: 0.2925\n",
      "Epoch 174/500\n",
      "272/272 [==============================] - 1s 2ms/step - loss: 1.3662 - accuracy: 0.3003 - val_loss: 1.3659 - val_accuracy: 0.2994\n",
      "Epoch 175/500\n",
      "272/272 [==============================] - 1s 2ms/step - loss: 1.3659 - accuracy: 0.2971 - val_loss: 1.3691 - val_accuracy: 0.2982\n",
      "Epoch 176/500\n",
      "272/272 [==============================] - 1s 2ms/step - loss: 1.3659 - accuracy: 0.2975 - val_loss: 1.3673 - val_accuracy: 0.2984\n",
      "Epoch 177/500\n",
      "272/272 [==============================] - 1s 2ms/step - loss: 1.3653 - accuracy: 0.2996 - val_loss: 1.3688 - val_accuracy: 0.2973\n",
      "Epoch 178/500\n",
      "272/272 [==============================] - 1s 2ms/step - loss: 1.3650 - accuracy: 0.2999 - val_loss: 1.3661 - val_accuracy: 0.2935\n",
      "Epoch 179/500\n",
      "272/272 [==============================] - 1s 2ms/step - loss: 1.3655 - accuracy: 0.2982 - val_loss: 1.3659 - val_accuracy: 0.2946\n",
      "Epoch 180/500\n",
      "272/272 [==============================] - 1s 2ms/step - loss: 1.3648 - accuracy: 0.2984 - val_loss: 1.3675 - val_accuracy: 0.2954\n",
      "Epoch 181/500\n",
      "272/272 [==============================] - 1s 2ms/step - loss: 1.3651 - accuracy: 0.2996 - val_loss: 1.3661 - val_accuracy: 0.2944\n",
      "Epoch 182/500\n",
      "272/272 [==============================] - 1s 2ms/step - loss: 1.3641 - accuracy: 0.3001 - val_loss: 1.3649 - val_accuracy: 0.2990\n",
      "Epoch 183/500\n",
      "272/272 [==============================] - 1s 2ms/step - loss: 1.3644 - accuracy: 0.2989 - val_loss: 1.3628 - val_accuracy: 0.2979\n",
      "Epoch 184/500\n",
      "272/272 [==============================] - 1s 2ms/step - loss: 1.3651 - accuracy: 0.2997 - val_loss: 1.3633 - val_accuracy: 0.2983\n",
      "Epoch 185/500\n",
      "272/272 [==============================] - 1s 2ms/step - loss: 1.3650 - accuracy: 0.3006 - val_loss: 1.3763 - val_accuracy: 0.2858\n",
      "Epoch 186/500\n",
      "272/272 [==============================] - 1s 2ms/step - loss: 1.3647 - accuracy: 0.3005 - val_loss: 1.3652 - val_accuracy: 0.3001\n",
      "Epoch 187/500\n",
      "272/272 [==============================] - 1s 2ms/step - loss: 1.3659 - accuracy: 0.2998 - val_loss: 1.3633 - val_accuracy: 0.3004\n",
      "Epoch 188/500\n",
      "272/272 [==============================] - 1s 2ms/step - loss: 1.3647 - accuracy: 0.2993 - val_loss: 1.3616 - val_accuracy: 0.2986\n",
      "Epoch 189/500\n",
      "272/272 [==============================] - 1s 2ms/step - loss: 1.3658 - accuracy: 0.2991 - val_loss: 1.3724 - val_accuracy: 0.2889\n",
      "Epoch 190/500\n",
      "272/272 [==============================] - 1s 2ms/step - loss: 1.3646 - accuracy: 0.2994 - val_loss: 1.3639 - val_accuracy: 0.2967\n",
      "Epoch 191/500\n",
      "272/272 [==============================] - 1s 2ms/step - loss: 1.3659 - accuracy: 0.2986 - val_loss: 1.3627 - val_accuracy: 0.2987\n",
      "Epoch 192/500\n",
      "272/272 [==============================] - 1s 2ms/step - loss: 1.3647 - accuracy: 0.3000 - val_loss: 1.3675 - val_accuracy: 0.2985\n",
      "Epoch 193/500\n",
      "272/272 [==============================] - 1s 2ms/step - loss: 1.3652 - accuracy: 0.3008 - val_loss: 1.3683 - val_accuracy: 0.2962\n",
      "Epoch 194/500\n",
      "272/272 [==============================] - 1s 2ms/step - loss: 1.3652 - accuracy: 0.3010 - val_loss: 1.3621 - val_accuracy: 0.2994\n",
      "Epoch 195/500\n",
      "272/272 [==============================] - 1s 2ms/step - loss: 1.3657 - accuracy: 0.3007 - val_loss: 1.3762 - val_accuracy: 0.2806\n",
      "Epoch 196/500\n",
      "272/272 [==============================] - 1s 2ms/step - loss: 1.3649 - accuracy: 0.2992 - val_loss: 1.3638 - val_accuracy: 0.2966\n",
      "Epoch 197/500\n",
      "272/272 [==============================] - 1s 2ms/step - loss: 1.3651 - accuracy: 0.2991 - val_loss: 1.3633 - val_accuracy: 0.2969\n",
      "Epoch 198/500\n",
      "272/272 [==============================] - 1s 2ms/step - loss: 1.3648 - accuracy: 0.2993 - val_loss: 1.3644 - val_accuracy: 0.2922\n",
      "Epoch 199/500\n",
      "272/272 [==============================] - 1s 2ms/step - loss: 1.3644 - accuracy: 0.3000 - val_loss: 1.3728 - val_accuracy: 0.2859\n",
      "Epoch 200/500\n",
      "272/272 [==============================] - 1s 2ms/step - loss: 1.3654 - accuracy: 0.3010 - val_loss: 1.3662 - val_accuracy: 0.3006\n",
      "Epoch 201/500\n",
      "272/272 [==============================] - 1s 2ms/step - loss: 1.3645 - accuracy: 0.3013 - val_loss: 1.3806 - val_accuracy: 0.2738\n",
      "Epoch 202/500\n",
      "272/272 [==============================] - 1s 2ms/step - loss: 1.3641 - accuracy: 0.3017 - val_loss: 1.3623 - val_accuracy: 0.2989\n",
      "Epoch 203/500\n",
      "272/272 [==============================] - 1s 2ms/step - loss: 1.3648 - accuracy: 0.2995 - val_loss: 1.3604 - val_accuracy: 0.3014\n",
      "Epoch 204/500\n",
      "272/272 [==============================] - 1s 2ms/step - loss: 1.3639 - accuracy: 0.3018 - val_loss: 1.3703 - val_accuracy: 0.2954\n",
      "Epoch 205/500\n",
      "272/272 [==============================] - 1s 2ms/step - loss: 1.3645 - accuracy: 0.2995 - val_loss: 1.3633 - val_accuracy: 0.3012\n",
      "Epoch 206/500\n",
      "272/272 [==============================] - 1s 3ms/step - loss: 1.3641 - accuracy: 0.3007 - val_loss: 1.3641 - val_accuracy: 0.2965\n",
      "Epoch 207/500\n",
      "272/272 [==============================] - 1s 2ms/step - loss: 1.3644 - accuracy: 0.3002 - val_loss: 1.3641 - val_accuracy: 0.3002\n",
      "Epoch 208/500\n",
      "272/272 [==============================] - 1s 2ms/step - loss: 1.3652 - accuracy: 0.2993 - val_loss: 1.3639 - val_accuracy: 0.2981\n",
      "Epoch 209/500\n",
      "272/272 [==============================] - 1s 2ms/step - loss: 1.3652 - accuracy: 0.2976 - val_loss: 1.3653 - val_accuracy: 0.2996\n",
      "Epoch 210/500\n",
      "272/272 [==============================] - 1s 2ms/step - loss: 1.3656 - accuracy: 0.2986 - val_loss: 1.3638 - val_accuracy: 0.2966\n",
      "Epoch 211/500\n",
      "272/272 [==============================] - 1s 2ms/step - loss: 1.3645 - accuracy: 0.2987 - val_loss: 1.3613 - val_accuracy: 0.2983\n",
      "Epoch 212/500\n",
      "272/272 [==============================] - 1s 2ms/step - loss: 1.3634 - accuracy: 0.3009 - val_loss: 1.3908 - val_accuracy: 0.2890\n",
      "Epoch 213/500\n",
      "272/272 [==============================] - 1s 2ms/step - loss: 1.3652 - accuracy: 0.2997 - val_loss: 1.3733 - val_accuracy: 0.2899\n",
      "Epoch 214/500\n",
      "272/272 [==============================] - 1s 2ms/step - loss: 1.3643 - accuracy: 0.3001 - val_loss: 1.3677 - val_accuracy: 0.2955\n",
      "Epoch 215/500\n",
      "272/272 [==============================] - 1s 2ms/step - loss: 1.3642 - accuracy: 0.3001 - val_loss: 1.3618 - val_accuracy: 0.3004\n",
      "Epoch 216/500\n",
      "272/272 [==============================] - 1s 2ms/step - loss: 1.3645 - accuracy: 0.2997 - val_loss: 1.3603 - val_accuracy: 0.3034\n",
      "Epoch 217/500\n",
      "272/272 [==============================] - 1s 2ms/step - loss: 1.3646 - accuracy: 0.2987 - val_loss: 1.3947 - val_accuracy: 0.2931\n",
      "Epoch 218/500\n",
      "272/272 [==============================] - 1s 2ms/step - loss: 1.3640 - accuracy: 0.3020 - val_loss: 1.3628 - val_accuracy: 0.3039\n",
      "Epoch 219/500\n",
      "272/272 [==============================] - 1s 2ms/step - loss: 1.3642 - accuracy: 0.2997 - val_loss: 1.3798 - val_accuracy: 0.2916\n",
      "Epoch 220/500\n",
      "272/272 [==============================] - 1s 2ms/step - loss: 1.3636 - accuracy: 0.3006 - val_loss: 1.3600 - val_accuracy: 0.2998\n",
      "Epoch 221/500\n",
      "272/272 [==============================] - 1s 2ms/step - loss: 1.3639 - accuracy: 0.3018 - val_loss: 1.3632 - val_accuracy: 0.2986\n",
      "Epoch 222/500\n",
      "272/272 [==============================] - 1s 2ms/step - loss: 1.3643 - accuracy: 0.2983 - val_loss: 1.3743 - val_accuracy: 0.2860\n",
      "Epoch 223/500\n",
      "272/272 [==============================] - 1s 2ms/step - loss: 1.3637 - accuracy: 0.3004 - val_loss: 1.3670 - val_accuracy: 0.2955\n",
      "Epoch 224/500\n",
      "272/272 [==============================] - 1s 2ms/step - loss: 1.3636 - accuracy: 0.3006 - val_loss: 1.3640 - val_accuracy: 0.2974\n",
      "Epoch 225/500\n",
      "272/272 [==============================] - 1s 2ms/step - loss: 1.3640 - accuracy: 0.3005 - val_loss: 1.3717 - val_accuracy: 0.2808\n",
      "Epoch 226/500\n",
      "272/272 [==============================] - 1s 2ms/step - loss: 1.3635 - accuracy: 0.3013 - val_loss: 1.3649 - val_accuracy: 0.2982\n",
      "Epoch 227/500\n",
      "272/272 [==============================] - 1s 2ms/step - loss: 1.3642 - accuracy: 0.2982 - val_loss: 1.3670 - val_accuracy: 0.2972\n",
      "Epoch 228/500\n",
      "272/272 [==============================] - 1s 2ms/step - loss: 1.3640 - accuracy: 0.2993 - val_loss: 1.3598 - val_accuracy: 0.2969\n",
      "Epoch 229/500\n",
      "272/272 [==============================] - 1s 2ms/step - loss: 1.3641 - accuracy: 0.3000 - val_loss: 1.3615 - val_accuracy: 0.2966\n",
      "Epoch 230/500\n",
      "272/272 [==============================] - 1s 2ms/step - loss: 1.3639 - accuracy: 0.2995 - val_loss: 1.3623 - val_accuracy: 0.2999\n",
      "Epoch 231/500\n",
      "272/272 [==============================] - 1s 2ms/step - loss: 1.3630 - accuracy: 0.2998 - val_loss: 1.3591 - val_accuracy: 0.3031\n",
      "Epoch 232/500\n",
      "272/272 [==============================] - 1s 2ms/step - loss: 1.3651 - accuracy: 0.2997 - val_loss: 1.3688 - val_accuracy: 0.2947\n",
      "Epoch 233/500\n",
      "272/272 [==============================] - 1s 2ms/step - loss: 1.3643 - accuracy: 0.2986 - val_loss: 1.3681 - val_accuracy: 0.2942\n",
      "Epoch 234/500\n",
      "272/272 [==============================] - 1s 2ms/step - loss: 1.3636 - accuracy: 0.2997 - val_loss: 1.3607 - val_accuracy: 0.3027\n",
      "Epoch 235/500\n",
      "272/272 [==============================] - 1s 2ms/step - loss: 1.3627 - accuracy: 0.3024 - val_loss: 1.3636 - val_accuracy: 0.2951\n",
      "Epoch 236/500\n",
      "272/272 [==============================] - 1s 2ms/step - loss: 1.3625 - accuracy: 0.3022 - val_loss: 1.3733 - val_accuracy: 0.2921\n",
      "Epoch 237/500\n",
      "272/272 [==============================] - 1s 2ms/step - loss: 1.3631 - accuracy: 0.3007 - val_loss: 1.3624 - val_accuracy: 0.3011\n",
      "Epoch 238/500\n",
      "272/272 [==============================] - 1s 2ms/step - loss: 1.3633 - accuracy: 0.2994 - val_loss: 1.3736 - val_accuracy: 0.2935\n",
      "Epoch 239/500\n",
      "272/272 [==============================] - 1s 2ms/step - loss: 1.3641 - accuracy: 0.2994 - val_loss: 1.3693 - val_accuracy: 0.2929\n",
      "Epoch 240/500\n",
      "272/272 [==============================] - 1s 2ms/step - loss: 1.3631 - accuracy: 0.3013 - val_loss: 1.3728 - val_accuracy: 0.2912\n",
      "Epoch 241/500\n",
      "272/272 [==============================] - 1s 2ms/step - loss: 1.3634 - accuracy: 0.3013 - val_loss: 1.3612 - val_accuracy: 0.3023\n",
      "Epoch 242/500\n",
      "272/272 [==============================] - 1s 2ms/step - loss: 1.3617 - accuracy: 0.3021 - val_loss: 1.3684 - val_accuracy: 0.2934\n",
      "Epoch 243/500\n",
      "272/272 [==============================] - 1s 2ms/step - loss: 1.3630 - accuracy: 0.3015 - val_loss: 1.3639 - val_accuracy: 0.2968\n",
      "Epoch 244/500\n",
      "272/272 [==============================] - 1s 2ms/step - loss: 1.3635 - accuracy: 0.3024 - val_loss: 1.3602 - val_accuracy: 0.3034\n",
      "Epoch 245/500\n",
      "272/272 [==============================] - 1s 2ms/step - loss: 1.3630 - accuracy: 0.2999 - val_loss: 1.3618 - val_accuracy: 0.2980\n",
      "Epoch 246/500\n",
      "272/272 [==============================] - 1s 2ms/step - loss: 1.3632 - accuracy: 0.3022 - val_loss: 1.3647 - val_accuracy: 0.2972\n",
      "Epoch 247/500\n",
      "272/272 [==============================] - 1s 2ms/step - loss: 1.3625 - accuracy: 0.3025 - val_loss: 1.3750 - val_accuracy: 0.2759\n",
      "Epoch 248/500\n",
      "272/272 [==============================] - 1s 2ms/step - loss: 1.3633 - accuracy: 0.3003 - val_loss: 1.3641 - val_accuracy: 0.2995\n",
      "Epoch 249/500\n",
      "272/272 [==============================] - 1s 2ms/step - loss: 1.3621 - accuracy: 0.3018 - val_loss: 1.3662 - val_accuracy: 0.2951\n",
      "Epoch 250/500\n",
      "272/272 [==============================] - 1s 2ms/step - loss: 1.3640 - accuracy: 0.3004 - val_loss: 1.3680 - val_accuracy: 0.2940\n",
      "Epoch 251/500\n",
      "272/272 [==============================] - 1s 2ms/step - loss: 1.3638 - accuracy: 0.3013 - val_loss: 1.3609 - val_accuracy: 0.3001\n",
      "Epoch 252/500\n",
      "272/272 [==============================] - 1s 2ms/step - loss: 1.3631 - accuracy: 0.3028 - val_loss: 1.3594 - val_accuracy: 0.3005\n",
      "Epoch 253/500\n",
      "272/272 [==============================] - 1s 2ms/step - loss: 1.3622 - accuracy: 0.3026 - val_loss: 1.3648 - val_accuracy: 0.2994\n",
      "Epoch 254/500\n",
      "272/272 [==============================] - 1s 2ms/step - loss: 1.3627 - accuracy: 0.2997 - val_loss: 1.3586 - val_accuracy: 0.2998\n",
      "Epoch 255/500\n",
      "272/272 [==============================] - 1s 2ms/step - loss: 1.3649 - accuracy: 0.2992 - val_loss: 1.3599 - val_accuracy: 0.2993\n",
      "Epoch 256/500\n",
      "272/272 [==============================] - 1s 2ms/step - loss: 1.3625 - accuracy: 0.3011 - val_loss: 1.3737 - val_accuracy: 0.2903\n",
      "Epoch 257/500\n",
      "272/272 [==============================] - 1s 2ms/step - loss: 1.3663 - accuracy: 0.3002 - val_loss: 1.3697 - val_accuracy: 0.2938\n",
      "Epoch 258/500\n",
      "272/272 [==============================] - 1s 2ms/step - loss: 1.3633 - accuracy: 0.2980 - val_loss: 1.3629 - val_accuracy: 0.3005\n",
      "Epoch 259/500\n",
      "272/272 [==============================] - 1s 2ms/step - loss: 1.3618 - accuracy: 0.3037 - val_loss: 1.3652 - val_accuracy: 0.2951\n",
      "Epoch 260/500\n",
      "272/272 [==============================] - 1s 2ms/step - loss: 1.3627 - accuracy: 0.3013 - val_loss: 1.3685 - val_accuracy: 0.2956\n",
      "Epoch 261/500\n",
      "272/272 [==============================] - 1s 3ms/step - loss: 1.3657 - accuracy: 0.2972 - val_loss: 1.3622 - val_accuracy: 0.2981\n",
      "Epoch 262/500\n",
      "272/272 [==============================] - 1s 2ms/step - loss: 1.3619 - accuracy: 0.3016 - val_loss: 1.3597 - val_accuracy: 0.3004\n",
      "Epoch 263/500\n",
      "272/272 [==============================] - 1s 2ms/step - loss: 1.3631 - accuracy: 0.3013 - val_loss: 1.3668 - val_accuracy: 0.2973\n",
      "Epoch 264/500\n",
      "272/272 [==============================] - 1s 2ms/step - loss: 1.3639 - accuracy: 0.3007 - val_loss: 1.3638 - val_accuracy: 0.2993\n",
      "Epoch 265/500\n",
      "272/272 [==============================] - 1s 2ms/step - loss: 1.3644 - accuracy: 0.3007 - val_loss: 1.3638 - val_accuracy: 0.2981\n",
      "Epoch 266/500\n",
      "272/272 [==============================] - 1s 2ms/step - loss: 1.3631 - accuracy: 0.3017 - val_loss: 1.3638 - val_accuracy: 0.2979\n",
      "Epoch 267/500\n",
      "272/272 [==============================] - 1s 2ms/step - loss: 1.3624 - accuracy: 0.3012 - val_loss: 1.3696 - val_accuracy: 0.2834\n",
      "Epoch 268/500\n",
      "272/272 [==============================] - 1s 2ms/step - loss: 1.3692 - accuracy: 0.2952 - val_loss: 1.3697 - val_accuracy: 0.2875\n",
      "Epoch 269/500\n",
      "272/272 [==============================] - 1s 2ms/step - loss: 1.3653 - accuracy: 0.2975 - val_loss: 1.3647 - val_accuracy: 0.3026\n",
      "Epoch 270/500\n",
      "272/272 [==============================] - 1s 2ms/step - loss: 1.3646 - accuracy: 0.3021 - val_loss: 1.3645 - val_accuracy: 0.3004\n",
      "Epoch 271/500\n",
      "272/272 [==============================] - 1s 2ms/step - loss: 1.3639 - accuracy: 0.3024 - val_loss: 1.3591 - val_accuracy: 0.2975\n",
      "Epoch 272/500\n",
      "272/272 [==============================] - 1s 2ms/step - loss: 1.3626 - accuracy: 0.3009 - val_loss: 1.3655 - val_accuracy: 0.2975\n",
      "Epoch 273/500\n",
      "272/272 [==============================] - 1s 2ms/step - loss: 1.3623 - accuracy: 0.3023 - val_loss: 1.3592 - val_accuracy: 0.3033\n",
      "Epoch 274/500\n",
      "272/272 [==============================] - 1s 2ms/step - loss: 1.3633 - accuracy: 0.3025 - val_loss: 1.3653 - val_accuracy: 0.2981\n",
      "Epoch 275/500\n",
      "272/272 [==============================] - 1s 2ms/step - loss: 1.3621 - accuracy: 0.3017 - val_loss: 1.3628 - val_accuracy: 0.2984\n",
      "Epoch 276/500\n",
      "272/272 [==============================] - 1s 2ms/step - loss: 1.3633 - accuracy: 0.3020 - val_loss: 1.3627 - val_accuracy: 0.3001\n",
      "Epoch 277/500\n",
      "272/272 [==============================] - 1s 2ms/step - loss: 1.3633 - accuracy: 0.3030 - val_loss: 1.3599 - val_accuracy: 0.2999\n",
      "Epoch 278/500\n",
      "272/272 [==============================] - 1s 2ms/step - loss: 1.3667 - accuracy: 0.3006 - val_loss: 1.3636 - val_accuracy: 0.3002\n",
      "Epoch 279/500\n",
      "272/272 [==============================] - 1s 2ms/step - loss: 1.3622 - accuracy: 0.3013 - val_loss: 1.3608 - val_accuracy: 0.2989\n",
      "Epoch 280/500\n",
      "272/272 [==============================] - 1s 2ms/step - loss: 1.3625 - accuracy: 0.3017 - val_loss: 1.3583 - val_accuracy: 0.3001\n",
      "Epoch 281/500\n",
      "272/272 [==============================] - 1s 2ms/step - loss: 1.3623 - accuracy: 0.3012 - val_loss: 1.3585 - val_accuracy: 0.3013\n",
      "Epoch 282/500\n",
      "272/272 [==============================] - 1s 2ms/step - loss: 1.3638 - accuracy: 0.2999 - val_loss: 1.3608 - val_accuracy: 0.2996\n",
      "Epoch 283/500\n",
      "272/272 [==============================] - 1s 2ms/step - loss: 1.3679 - accuracy: 0.2985 - val_loss: 1.3624 - val_accuracy: 0.2979\n",
      "Epoch 284/500\n",
      "272/272 [==============================] - 1s 2ms/step - loss: 1.3625 - accuracy: 0.3023 - val_loss: 1.3683 - val_accuracy: 0.2974\n",
      "Epoch 285/500\n",
      "272/272 [==============================] - 1s 2ms/step - loss: 1.3632 - accuracy: 0.2999 - val_loss: 1.3595 - val_accuracy: 0.2994\n",
      "Epoch 286/500\n",
      "272/272 [==============================] - 1s 2ms/step - loss: 1.3633 - accuracy: 0.3017 - val_loss: 1.3660 - val_accuracy: 0.2969\n",
      "Epoch 287/500\n",
      "272/272 [==============================] - 1s 2ms/step - loss: 1.3622 - accuracy: 0.3033 - val_loss: 1.3590 - val_accuracy: 0.3019\n",
      "Epoch 288/500\n",
      "272/272 [==============================] - 1s 2ms/step - loss: 1.3620 - accuracy: 0.3027 - val_loss: 1.3594 - val_accuracy: 0.3010\n",
      "Epoch 289/500\n",
      "272/272 [==============================] - 1s 2ms/step - loss: 1.3631 - accuracy: 0.3007 - val_loss: 1.3679 - val_accuracy: 0.2950\n",
      "Epoch 290/500\n",
      "272/272 [==============================] - 1s 2ms/step - loss: 1.3617 - accuracy: 0.3030 - val_loss: 1.3611 - val_accuracy: 0.2994\n",
      "Epoch 291/500\n",
      "272/272 [==============================] - 1s 2ms/step - loss: 1.3776 - accuracy: 0.2994 - val_loss: 1.3654 - val_accuracy: 0.2982\n",
      "Epoch 292/500\n",
      "272/272 [==============================] - 1s 2ms/step - loss: 1.3625 - accuracy: 0.3005 - val_loss: 1.3694 - val_accuracy: 0.2962\n",
      "Epoch 293/500\n",
      "272/272 [==============================] - 1s 2ms/step - loss: 1.3644 - accuracy: 0.3005 - val_loss: 1.3597 - val_accuracy: 0.3017\n",
      "Epoch 294/500\n",
      "272/272 [==============================] - 1s 2ms/step - loss: 1.3656 - accuracy: 0.3002 - val_loss: 1.3634 - val_accuracy: 0.3008\n",
      "Epoch 295/500\n",
      "272/272 [==============================] - 1s 2ms/step - loss: 1.3687 - accuracy: 0.2984 - val_loss: 1.3614 - val_accuracy: 0.3024\n",
      "Epoch 296/500\n",
      "272/272 [==============================] - 1s 2ms/step - loss: 1.3665 - accuracy: 0.2976 - val_loss: 1.3633 - val_accuracy: 0.2987\n",
      "Epoch 297/500\n",
      "272/272 [==============================] - 1s 2ms/step - loss: 1.3676 - accuracy: 0.3021 - val_loss: 1.3591 - val_accuracy: 0.2990\n",
      "Epoch 298/500\n",
      "272/272 [==============================] - 1s 2ms/step - loss: 1.3623 - accuracy: 0.3024 - val_loss: 1.3687 - val_accuracy: 0.2950\n",
      "Epoch 299/500\n",
      "272/272 [==============================] - 1s 2ms/step - loss: 1.3640 - accuracy: 0.2991 - val_loss: 1.3713 - val_accuracy: 0.2914\n",
      "Epoch 300/500\n",
      "272/272 [==============================] - 1s 2ms/step - loss: 1.3624 - accuracy: 0.3023 - val_loss: 1.3598 - val_accuracy: 0.3000\n",
      "Epoch 301/500\n",
      "272/272 [==============================] - 1s 2ms/step - loss: 1.3620 - accuracy: 0.3000 - val_loss: 1.3610 - val_accuracy: 0.2984\n",
      "Epoch 302/500\n",
      "272/272 [==============================] - 1s 2ms/step - loss: 1.3625 - accuracy: 0.3009 - val_loss: 1.3633 - val_accuracy: 0.3013\n",
      "Epoch 303/500\n",
      "272/272 [==============================] - 1s 2ms/step - loss: 1.3670 - accuracy: 0.3021 - val_loss: 1.3588 - val_accuracy: 0.3020\n",
      "Epoch 304/500\n",
      "272/272 [==============================] - 1s 2ms/step - loss: 1.3627 - accuracy: 0.2993 - val_loss: 1.3678 - val_accuracy: 0.2899\n",
      "Epoch 305/500\n",
      "272/272 [==============================] - 1s 2ms/step - loss: 1.3641 - accuracy: 0.2996 - val_loss: 1.3591 - val_accuracy: 0.2995\n",
      "Epoch 306/500\n",
      "272/272 [==============================] - 1s 2ms/step - loss: 1.3649 - accuracy: 0.3002 - val_loss: 1.3786 - val_accuracy: 0.2803\n",
      "Epoch 307/500\n",
      "272/272 [==============================] - 1s 2ms/step - loss: 1.3666 - accuracy: 0.2969 - val_loss: 1.3701 - val_accuracy: 0.2935\n",
      "Epoch 308/500\n",
      "272/272 [==============================] - 1s 2ms/step - loss: 1.3671 - accuracy: 0.2963 - val_loss: 1.3714 - val_accuracy: 0.2933\n",
      "Epoch 309/500\n",
      "272/272 [==============================] - 1s 2ms/step - loss: 1.3616 - accuracy: 0.3023 - val_loss: 1.3603 - val_accuracy: 0.2998\n",
      "Epoch 310/500\n",
      "272/272 [==============================] - 1s 2ms/step - loss: 1.3613 - accuracy: 0.3031 - val_loss: 1.3587 - val_accuracy: 0.3000\n",
      "Epoch 311/500\n",
      "272/272 [==============================] - 1s 2ms/step - loss: 1.3634 - accuracy: 0.3020 - val_loss: 1.3801 - val_accuracy: 0.2803\n",
      "Epoch 312/500\n",
      "272/272 [==============================] - 1s 2ms/step - loss: 1.3662 - accuracy: 0.2986 - val_loss: 1.3678 - val_accuracy: 0.2977\n",
      "Epoch 313/500\n",
      "272/272 [==============================] - 1s 2ms/step - loss: 1.3643 - accuracy: 0.2989 - val_loss: 1.3598 - val_accuracy: 0.3002\n",
      "Epoch 314/500\n",
      "272/272 [==============================] - 1s 2ms/step - loss: 1.3642 - accuracy: 0.2994 - val_loss: 1.3588 - val_accuracy: 0.3011\n",
      "Epoch 315/500\n",
      "272/272 [==============================] - 1s 3ms/step - loss: 1.3622 - accuracy: 0.3032 - val_loss: 1.3685 - val_accuracy: 0.2981\n",
      "Epoch 316/500\n",
      "272/272 [==============================] - 1s 2ms/step - loss: 1.3617 - accuracy: 0.3032 - val_loss: 1.3691 - val_accuracy: 0.2946\n",
      "Epoch 317/500\n",
      "272/272 [==============================] - 1s 2ms/step - loss: 1.3645 - accuracy: 0.2999 - val_loss: 1.3625 - val_accuracy: 0.3007\n",
      "Epoch 318/500\n",
      "272/272 [==============================] - 1s 2ms/step - loss: 1.3701 - accuracy: 0.2989 - val_loss: 1.3682 - val_accuracy: 0.2949\n",
      "Epoch 319/500\n",
      "272/272 [==============================] - 1s 2ms/step - loss: 1.3608 - accuracy: 0.3049 - val_loss: 1.3585 - val_accuracy: 0.2996\n",
      "Epoch 320/500\n",
      "272/272 [==============================] - 1s 2ms/step - loss: 1.3616 - accuracy: 0.3039 - val_loss: 1.3587 - val_accuracy: 0.3005\n",
      "Epoch 321/500\n",
      "272/272 [==============================] - 1s 2ms/step - loss: 1.3611 - accuracy: 0.3025 - val_loss: 1.3583 - val_accuracy: 0.3008\n",
      "Epoch 322/500\n",
      "272/272 [==============================] - 1s 2ms/step - loss: 1.3616 - accuracy: 0.3026 - val_loss: 1.3587 - val_accuracy: 0.2993\n",
      "Epoch 323/500\n",
      "272/272 [==============================] - 1s 2ms/step - loss: 1.3620 - accuracy: 0.3036 - val_loss: 1.3585 - val_accuracy: 0.3008\n",
      "Epoch 324/500\n",
      "272/272 [==============================] - 1s 2ms/step - loss: 1.3616 - accuracy: 0.3017 - val_loss: 1.4066 - val_accuracy: 0.2857\n",
      "Epoch 325/500\n",
      "272/272 [==============================] - 1s 2ms/step - loss: 1.3659 - accuracy: 0.3010 - val_loss: 1.3579 - val_accuracy: 0.3015\n",
      "Epoch 326/500\n",
      "272/272 [==============================] - 1s 2ms/step - loss: 1.3635 - accuracy: 0.3035 - val_loss: 1.3704 - val_accuracy: 0.2925\n",
      "Epoch 327/500\n",
      "272/272 [==============================] - 1s 2ms/step - loss: 1.3621 - accuracy: 0.3027 - val_loss: 1.3666 - val_accuracy: 0.2970\n",
      "Epoch 328/500\n",
      "272/272 [==============================] - 1s 2ms/step - loss: 1.3621 - accuracy: 0.3018 - val_loss: 1.3598 - val_accuracy: 0.2992\n",
      "Epoch 329/500\n",
      "272/272 [==============================] - 1s 2ms/step - loss: 1.3611 - accuracy: 0.3043 - val_loss: 1.3596 - val_accuracy: 0.2975\n",
      "Epoch 330/500\n",
      "272/272 [==============================] - 1s 2ms/step - loss: 1.3621 - accuracy: 0.3026 - val_loss: 1.3677 - val_accuracy: 0.2980\n",
      "Epoch 331/500\n",
      "272/272 [==============================] - 1s 2ms/step - loss: 1.3631 - accuracy: 0.3020 - val_loss: 1.3716 - val_accuracy: 0.2892\n",
      "Epoch 332/500\n",
      "272/272 [==============================] - 1s 2ms/step - loss: 1.3617 - accuracy: 0.3028 - val_loss: 1.3600 - val_accuracy: 0.3011\n",
      "Epoch 333/500\n",
      "272/272 [==============================] - 1s 2ms/step - loss: 1.3615 - accuracy: 0.3027 - val_loss: 1.3978 - val_accuracy: 0.2920\n",
      "Epoch 334/500\n",
      "272/272 [==============================] - 1s 2ms/step - loss: 1.3636 - accuracy: 0.3009 - val_loss: 1.3623 - val_accuracy: 0.2988\n",
      "Epoch 335/500\n",
      "272/272 [==============================] - 1s 2ms/step - loss: 1.3669 - accuracy: 0.3004 - val_loss: 1.3601 - val_accuracy: 0.2968\n",
      "Epoch 336/500\n",
      "272/272 [==============================] - 1s 2ms/step - loss: 1.3623 - accuracy: 0.3010 - val_loss: 1.3600 - val_accuracy: 0.3001\n",
      "Epoch 337/500\n",
      "272/272 [==============================] - 1s 2ms/step - loss: 1.3612 - accuracy: 0.3027 - val_loss: 1.3677 - val_accuracy: 0.3013\n",
      "Epoch 338/500\n",
      "272/272 [==============================] - 1s 2ms/step - loss: 1.3636 - accuracy: 0.3017 - val_loss: 1.3581 - val_accuracy: 0.2991\n",
      "Epoch 339/500\n",
      "272/272 [==============================] - 1s 2ms/step - loss: 1.3628 - accuracy: 0.3026 - val_loss: 1.3698 - val_accuracy: 0.2911\n",
      "Epoch 340/500\n",
      "272/272 [==============================] - 1s 2ms/step - loss: 1.3614 - accuracy: 0.3026 - val_loss: 1.3627 - val_accuracy: 0.3021\n",
      "Epoch 341/500\n",
      "272/272 [==============================] - 1s 2ms/step - loss: 1.3627 - accuracy: 0.3017 - val_loss: 1.3699 - val_accuracy: 0.2951\n",
      "Epoch 342/500\n",
      "272/272 [==============================] - 1s 2ms/step - loss: 1.3633 - accuracy: 0.3007 - val_loss: 1.3632 - val_accuracy: 0.2973\n",
      "Epoch 343/500\n",
      "272/272 [==============================] - 1s 2ms/step - loss: 1.3660 - accuracy: 0.3018 - val_loss: 1.3587 - val_accuracy: 0.2993\n",
      "Epoch 344/500\n",
      "272/272 [==============================] - 1s 2ms/step - loss: 1.3604 - accuracy: 0.3041 - val_loss: 1.3692 - val_accuracy: 0.2903\n",
      "Epoch 345/500\n",
      "272/272 [==============================] - 1s 2ms/step - loss: 1.3620 - accuracy: 0.3029 - val_loss: 1.3662 - val_accuracy: 0.3000\n",
      "Epoch 346/500\n",
      "272/272 [==============================] - 1s 2ms/step - loss: 1.3608 - accuracy: 0.3035 - val_loss: 1.3690 - val_accuracy: 0.2967\n",
      "Epoch 347/500\n",
      "272/272 [==============================] - 1s 2ms/step - loss: 1.3617 - accuracy: 0.3033 - val_loss: 1.3612 - val_accuracy: 0.2978\n",
      "Epoch 348/500\n",
      "272/272 [==============================] - 1s 2ms/step - loss: 1.3621 - accuracy: 0.3003 - val_loss: 1.3709 - val_accuracy: 0.2957\n",
      "Epoch 349/500\n",
      "272/272 [==============================] - 1s 2ms/step - loss: 1.3640 - accuracy: 0.3019 - val_loss: 1.3593 - val_accuracy: 0.2995\n",
      "Epoch 350/500\n",
      "272/272 [==============================] - 1s 2ms/step - loss: 1.3613 - accuracy: 0.3032 - val_loss: 1.3705 - val_accuracy: 0.2952\n",
      "Epoch 351/500\n",
      "272/272 [==============================] - 1s 2ms/step - loss: 1.3713 - accuracy: 0.2953 - val_loss: 1.3673 - val_accuracy: 0.2976\n",
      "Epoch 352/500\n",
      "272/272 [==============================] - 1s 2ms/step - loss: 1.3619 - accuracy: 0.3005 - val_loss: 1.3580 - val_accuracy: 0.3012\n",
      "Epoch 353/500\n",
      "272/272 [==============================] - 1s 2ms/step - loss: 1.3624 - accuracy: 0.3008 - val_loss: 1.3584 - val_accuracy: 0.2991\n",
      "Epoch 354/500\n",
      "272/272 [==============================] - 1s 2ms/step - loss: 1.3620 - accuracy: 0.3025 - val_loss: 1.3687 - val_accuracy: 0.2947\n",
      "Epoch 355/500\n",
      "272/272 [==============================] - 1s 2ms/step - loss: 1.3659 - accuracy: 0.2976 - val_loss: 1.3609 - val_accuracy: 0.2957\n",
      "Epoch 356/500\n",
      "272/272 [==============================] - 1s 2ms/step - loss: 1.3630 - accuracy: 0.3018 - val_loss: 1.3632 - val_accuracy: 0.2991\n",
      "Epoch 357/500\n",
      "272/272 [==============================] - 1s 2ms/step - loss: 1.3672 - accuracy: 0.2975 - val_loss: 1.3695 - val_accuracy: 0.2922\n",
      "Epoch 358/500\n",
      "272/272 [==============================] - 1s 2ms/step - loss: 1.3632 - accuracy: 0.2987 - val_loss: 1.3775 - val_accuracy: 0.2896\n",
      "Epoch 359/500\n",
      "272/272 [==============================] - 1s 2ms/step - loss: 1.3617 - accuracy: 0.3015 - val_loss: 1.3600 - val_accuracy: 0.2960\n",
      "Epoch 360/500\n",
      "272/272 [==============================] - 1s 2ms/step - loss: 1.3617 - accuracy: 0.3002 - val_loss: 1.3622 - val_accuracy: 0.2925\n",
      "Epoch 361/500\n",
      "272/272 [==============================] - 1s 2ms/step - loss: 1.3613 - accuracy: 0.3013 - val_loss: 1.3593 - val_accuracy: 0.2982\n",
      "Epoch 362/500\n",
      "272/272 [==============================] - 1s 2ms/step - loss: 1.3633 - accuracy: 0.2990 - val_loss: 1.3616 - val_accuracy: 0.2962\n",
      "Epoch 363/500\n",
      "272/272 [==============================] - 1s 2ms/step - loss: 1.3678 - accuracy: 0.2957 - val_loss: 1.3597 - val_accuracy: 0.2990\n",
      "Epoch 364/500\n",
      "272/272 [==============================] - 1s 2ms/step - loss: 1.3609 - accuracy: 0.3021 - val_loss: 1.3675 - val_accuracy: 0.2960\n",
      "Epoch 365/500\n",
      "272/272 [==============================] - 1s 2ms/step - loss: 1.3623 - accuracy: 0.3004 - val_loss: 1.3595 - val_accuracy: 0.2979\n",
      "Epoch 366/500\n",
      "272/272 [==============================] - 1s 2ms/step - loss: 1.3607 - accuracy: 0.3012 - val_loss: 1.3659 - val_accuracy: 0.2971\n",
      "Epoch 367/500\n",
      "272/272 [==============================] - 1s 2ms/step - loss: 1.3619 - accuracy: 0.3012 - val_loss: 1.3690 - val_accuracy: 0.2941\n",
      "Epoch 368/500\n",
      "272/272 [==============================] - 1s 2ms/step - loss: 1.3607 - accuracy: 0.3014 - val_loss: 1.3592 - val_accuracy: 0.2997\n",
      "Epoch 369/500\n",
      "272/272 [==============================] - 1s 2ms/step - loss: 1.3604 - accuracy: 0.3026 - val_loss: 1.3606 - val_accuracy: 0.2957\n",
      "Epoch 370/500\n",
      "272/272 [==============================] - 1s 3ms/step - loss: 1.3627 - accuracy: 0.3007 - val_loss: 1.3607 - val_accuracy: 0.2983\n",
      "Epoch 371/500\n",
      "272/272 [==============================] - 1s 2ms/step - loss: 1.3614 - accuracy: 0.3013 - val_loss: 1.3730 - val_accuracy: 0.2822\n",
      "Epoch 372/500\n",
      "272/272 [==============================] - 1s 2ms/step - loss: 1.3665 - accuracy: 0.2966 - val_loss: 1.3673 - val_accuracy: 0.2980\n",
      "Epoch 373/500\n",
      "272/272 [==============================] - 1s 2ms/step - loss: 1.3622 - accuracy: 0.2973 - val_loss: 1.3705 - val_accuracy: 0.2907\n",
      "Epoch 374/500\n",
      "272/272 [==============================] - 1s 2ms/step - loss: 1.3628 - accuracy: 0.2998 - val_loss: 1.3699 - val_accuracy: 0.2899\n",
      "Epoch 375/500\n",
      "272/272 [==============================] - 1s 2ms/step - loss: 1.3679 - accuracy: 0.2945 - val_loss: 1.3587 - val_accuracy: 0.2976\n",
      "Epoch 376/500\n",
      "272/272 [==============================] - 1s 2ms/step - loss: 1.3618 - accuracy: 0.3006 - val_loss: 1.3593 - val_accuracy: 0.2981\n",
      "Epoch 377/500\n",
      "272/272 [==============================] - 1s 2ms/step - loss: 1.3608 - accuracy: 0.3019 - val_loss: 1.3607 - val_accuracy: 0.2988\n",
      "Epoch 378/500\n",
      "272/272 [==============================] - 1s 2ms/step - loss: 1.3617 - accuracy: 0.3014 - val_loss: 1.3700 - val_accuracy: 0.2948\n",
      "Epoch 379/500\n",
      "272/272 [==============================] - 1s 2ms/step - loss: 1.3681 - accuracy: 0.2986 - val_loss: 1.3605 - val_accuracy: 0.2954\n",
      "Epoch 380/500\n",
      "272/272 [==============================] - 1s 2ms/step - loss: 1.3609 - accuracy: 0.3013 - val_loss: 1.3596 - val_accuracy: 0.2950\n",
      "Epoch 381/500\n",
      "272/272 [==============================] - 1s 2ms/step - loss: 1.3632 - accuracy: 0.2999 - val_loss: 1.3868 - val_accuracy: 0.2945\n",
      "Epoch 382/500\n",
      "272/272 [==============================] - 1s 2ms/step - loss: 1.3620 - accuracy: 0.2984 - val_loss: 1.3695 - val_accuracy: 0.2960\n",
      "Epoch 383/500\n",
      "272/272 [==============================] - 1s 2ms/step - loss: 1.3619 - accuracy: 0.2992 - val_loss: 1.3687 - val_accuracy: 0.2944\n",
      "Epoch 384/500\n",
      "272/272 [==============================] - 1s 2ms/step - loss: 1.3631 - accuracy: 0.3000 - val_loss: 1.3667 - val_accuracy: 0.2966\n",
      "Epoch 385/500\n",
      "272/272 [==============================] - 1s 2ms/step - loss: 1.3611 - accuracy: 0.3007 - val_loss: 1.3698 - val_accuracy: 0.2950\n",
      "Epoch 386/500\n",
      "272/272 [==============================] - 1s 2ms/step - loss: 1.3618 - accuracy: 0.3016 - val_loss: 1.3590 - val_accuracy: 0.2996\n",
      "Epoch 387/500\n",
      "272/272 [==============================] - 1s 2ms/step - loss: 1.3603 - accuracy: 0.3014 - val_loss: 1.3634 - val_accuracy: 0.2985\n",
      "Epoch 388/500\n",
      "272/272 [==============================] - 1s 2ms/step - loss: 1.3602 - accuracy: 0.3022 - val_loss: 1.3692 - val_accuracy: 0.2961\n",
      "Epoch 389/500\n",
      "272/272 [==============================] - 1s 2ms/step - loss: 1.3627 - accuracy: 0.3017 - val_loss: 1.3654 - val_accuracy: 0.2929\n",
      "Epoch 390/500\n",
      "272/272 [==============================] - 1s 2ms/step - loss: 1.3624 - accuracy: 0.2991 - val_loss: 1.3696 - val_accuracy: 0.2926\n",
      "Epoch 391/500\n",
      "272/272 [==============================] - 1s 2ms/step - loss: 1.3666 - accuracy: 0.2981 - val_loss: 1.3695 - val_accuracy: 0.2935\n",
      "Epoch 392/500\n",
      "272/272 [==============================] - 1s 2ms/step - loss: 1.3654 - accuracy: 0.2974 - val_loss: 1.3690 - val_accuracy: 0.2933\n",
      "Epoch 393/500\n",
      "272/272 [==============================] - 1s 2ms/step - loss: 1.3614 - accuracy: 0.3001 - val_loss: 1.3600 - val_accuracy: 0.2984\n",
      "Epoch 394/500\n",
      "272/272 [==============================] - 1s 2ms/step - loss: 1.3624 - accuracy: 0.3007 - val_loss: 1.3692 - val_accuracy: 0.2945\n",
      "Epoch 395/500\n",
      "272/272 [==============================] - 1s 2ms/step - loss: 1.3676 - accuracy: 0.2978 - val_loss: 1.3695 - val_accuracy: 0.2883\n",
      "Epoch 396/500\n",
      "272/272 [==============================] - 1s 2ms/step - loss: 1.3617 - accuracy: 0.3001 - val_loss: 1.3598 - val_accuracy: 0.2976\n",
      "Epoch 397/500\n",
      "272/272 [==============================] - 1s 2ms/step - loss: 1.3606 - accuracy: 0.3007 - val_loss: 1.3625 - val_accuracy: 0.2993\n",
      "Epoch 398/500\n",
      "272/272 [==============================] - 1s 2ms/step - loss: 1.3621 - accuracy: 0.3011 - val_loss: 1.3592 - val_accuracy: 0.2970\n",
      "Epoch 399/500\n",
      "272/272 [==============================] - 1s 2ms/step - loss: 1.3620 - accuracy: 0.3007 - val_loss: 1.3704 - val_accuracy: 0.2951\n",
      "Epoch 400/500\n",
      "272/272 [==============================] - 1s 2ms/step - loss: 1.3659 - accuracy: 0.2997 - val_loss: 1.3607 - val_accuracy: 0.2969\n",
      "Epoch 401/500\n",
      "272/272 [==============================] - 1s 2ms/step - loss: 1.3613 - accuracy: 0.3008 - val_loss: 1.3617 - val_accuracy: 0.2973\n",
      "Epoch 402/500\n",
      "272/272 [==============================] - 1s 2ms/step - loss: 1.3624 - accuracy: 0.2991 - val_loss: 1.3699 - val_accuracy: 0.2948\n",
      "Epoch 403/500\n",
      "272/272 [==============================] - 1s 2ms/step - loss: 1.3638 - accuracy: 0.2971 - val_loss: 1.3587 - val_accuracy: 0.2987\n",
      "Epoch 404/500\n",
      "272/272 [==============================] - 1s 2ms/step - loss: 1.3607 - accuracy: 0.3005 - val_loss: 1.3595 - val_accuracy: 0.2981\n",
      "Epoch 405/500\n",
      "272/272 [==============================] - 1s 2ms/step - loss: 1.3593 - accuracy: 0.3029 - val_loss: 1.3674 - val_accuracy: 0.2966\n",
      "Epoch 406/500\n",
      "272/272 [==============================] - 1s 2ms/step - loss: 1.3600 - accuracy: 0.3014 - val_loss: 1.3609 - val_accuracy: 0.2928\n",
      "Epoch 407/500\n",
      "272/272 [==============================] - 1s 2ms/step - loss: 1.3610 - accuracy: 0.3025 - val_loss: 1.3590 - val_accuracy: 0.2996\n",
      "Epoch 408/500\n",
      "272/272 [==============================] - 1s 2ms/step - loss: 1.3628 - accuracy: 0.2996 - val_loss: 1.3596 - val_accuracy: 0.2989\n",
      "Epoch 409/500\n",
      "272/272 [==============================] - 1s 2ms/step - loss: 1.3604 - accuracy: 0.3007 - val_loss: 1.3596 - val_accuracy: 0.2953\n",
      "Epoch 410/500\n",
      "272/272 [==============================] - 1s 2ms/step - loss: 1.3618 - accuracy: 0.3010 - val_loss: 1.3693 - val_accuracy: 0.2979\n",
      "Epoch 411/500\n",
      "272/272 [==============================] - 1s 2ms/step - loss: 1.3654 - accuracy: 0.3000 - val_loss: 1.3595 - val_accuracy: 0.2950\n",
      "Epoch 412/500\n",
      "272/272 [==============================] - 1s 2ms/step - loss: 1.3652 - accuracy: 0.2997 - val_loss: 1.3693 - val_accuracy: 0.2960\n",
      "Epoch 413/500\n",
      "272/272 [==============================] - 1s 2ms/step - loss: 1.3616 - accuracy: 0.3008 - val_loss: 1.3606 - val_accuracy: 0.2969\n",
      "Epoch 414/500\n",
      "272/272 [==============================] - 1s 2ms/step - loss: 1.3624 - accuracy: 0.2998 - val_loss: 1.3606 - val_accuracy: 0.2979\n",
      "Epoch 415/500\n",
      "272/272 [==============================] - 1s 2ms/step - loss: 1.3598 - accuracy: 0.3007 - val_loss: 1.3601 - val_accuracy: 0.2973\n",
      "Epoch 416/500\n",
      "272/272 [==============================] - 1s 2ms/step - loss: 1.3601 - accuracy: 0.2999 - val_loss: 1.3589 - val_accuracy: 0.2981\n",
      "Epoch 417/500\n",
      "272/272 [==============================] - 1s 2ms/step - loss: 1.3608 - accuracy: 0.3027 - val_loss: 1.3597 - val_accuracy: 0.2906\n",
      "Epoch 418/500\n",
      "272/272 [==============================] - 1s 2ms/step - loss: 1.3609 - accuracy: 0.3005 - val_loss: 1.3661 - val_accuracy: 0.2974\n",
      "Epoch 419/500\n",
      "272/272 [==============================] - 1s 2ms/step - loss: 1.3608 - accuracy: 0.3005 - val_loss: 1.3695 - val_accuracy: 0.2957\n",
      "Epoch 420/500\n",
      "272/272 [==============================] - 1s 2ms/step - loss: 1.3621 - accuracy: 0.3007 - val_loss: 1.3589 - val_accuracy: 0.2976\n",
      "Epoch 421/500\n",
      "272/272 [==============================] - 1s 2ms/step - loss: 1.3679 - accuracy: 0.2970 - val_loss: 1.3695 - val_accuracy: 0.2951\n",
      "Epoch 422/500\n",
      "272/272 [==============================] - 1s 2ms/step - loss: 1.3639 - accuracy: 0.3004 - val_loss: 1.3627 - val_accuracy: 0.2985\n",
      "Epoch 423/500\n",
      "272/272 [==============================] - 1s 2ms/step - loss: 1.3601 - accuracy: 0.3022 - val_loss: 1.3607 - val_accuracy: 0.2986\n",
      "Epoch 424/500\n",
      "272/272 [==============================] - 1s 2ms/step - loss: 1.3607 - accuracy: 0.3008 - val_loss: 1.3711 - val_accuracy: 0.2893\n",
      "Epoch 425/500\n",
      "272/272 [==============================] - 1s 2ms/step - loss: 1.3620 - accuracy: 0.3008 - val_loss: 1.3588 - val_accuracy: 0.2994\n",
      "Epoch 426/500\n",
      "272/272 [==============================] - 1s 2ms/step - loss: 1.3629 - accuracy: 0.2986 - val_loss: 1.3595 - val_accuracy: 0.2976\n",
      "Epoch 427/500\n",
      "272/272 [==============================] - 1s 2ms/step - loss: 1.3608 - accuracy: 0.3001 - val_loss: 1.3690 - val_accuracy: 0.2961\n",
      "Epoch 428/500\n",
      "272/272 [==============================] - 1s 2ms/step - loss: 1.3609 - accuracy: 0.3014 - val_loss: 1.3594 - val_accuracy: 0.2953\n",
      "Epoch 429/500\n",
      "272/272 [==============================] - 1s 2ms/step - loss: 1.3643 - accuracy: 0.2966 - val_loss: 1.3669 - val_accuracy: 0.2958\n",
      "Epoch 430/500\n",
      "272/272 [==============================] - 1s 2ms/step - loss: 1.3596 - accuracy: 0.3009 - val_loss: 1.3702 - val_accuracy: 0.2945\n",
      "Epoch 431/500\n",
      "272/272 [==============================] - 1s 2ms/step - loss: 1.3657 - accuracy: 0.2988 - val_loss: 1.3651 - val_accuracy: 0.2965\n",
      "Epoch 432/500\n",
      "272/272 [==============================] - 1s 2ms/step - loss: 1.3609 - accuracy: 0.3001 - val_loss: 1.3586 - val_accuracy: 0.2974\n",
      "Epoch 433/500\n",
      "272/272 [==============================] - 1s 2ms/step - loss: 1.3596 - accuracy: 0.3015 - val_loss: 1.3596 - val_accuracy: 0.2975\n",
      "Epoch 434/500\n",
      "272/272 [==============================] - 1s 2ms/step - loss: 1.3607 - accuracy: 0.2991 - val_loss: 1.3600 - val_accuracy: 0.3002\n",
      "Epoch 435/500\n",
      "272/272 [==============================] - 1s 2ms/step - loss: 1.3603 - accuracy: 0.3012 - val_loss: 1.3733 - val_accuracy: 0.2935\n",
      "Epoch 436/500\n",
      "272/272 [==============================] - 1s 2ms/step - loss: 1.3612 - accuracy: 0.2994 - val_loss: 1.3688 - val_accuracy: 0.2994\n",
      "Epoch 437/500\n",
      "272/272 [==============================] - 1s 2ms/step - loss: 1.3598 - accuracy: 0.3029 - val_loss: 1.3594 - val_accuracy: 0.2993\n",
      "Epoch 438/500\n",
      "272/272 [==============================] - 1s 2ms/step - loss: 1.3602 - accuracy: 0.3018 - val_loss: 1.3613 - val_accuracy: 0.2958\n",
      "Epoch 439/500\n",
      "272/272 [==============================] - 1s 2ms/step - loss: 1.3592 - accuracy: 0.3008 - val_loss: 1.3589 - val_accuracy: 0.2971\n",
      "Epoch 440/500\n",
      "272/272 [==============================] - 1s 2ms/step - loss: 1.3596 - accuracy: 0.3017 - val_loss: 1.3597 - val_accuracy: 0.2977\n",
      "Epoch 441/500\n",
      "272/272 [==============================] - 1s 2ms/step - loss: 1.3616 - accuracy: 0.2999 - val_loss: 1.3592 - val_accuracy: 0.2984\n",
      "Epoch 442/500\n",
      "272/272 [==============================] - 1s 2ms/step - loss: 1.3638 - accuracy: 0.2984 - val_loss: 1.3598 - val_accuracy: 0.2977\n",
      "Epoch 443/500\n",
      "272/272 [==============================] - 1s 2ms/step - loss: 1.3602 - accuracy: 0.3014 - val_loss: 1.3597 - val_accuracy: 0.2980\n",
      "Epoch 444/500\n",
      "272/272 [==============================] - 1s 2ms/step - loss: 1.3593 - accuracy: 0.3013 - val_loss: 1.3713 - val_accuracy: 0.2915\n",
      "Epoch 445/500\n",
      "272/272 [==============================] - 1s 2ms/step - loss: 1.3624 - accuracy: 0.3006 - val_loss: 1.3586 - val_accuracy: 0.2982\n",
      "Epoch 446/500\n",
      "272/272 [==============================] - 1s 2ms/step - loss: 1.3610 - accuracy: 0.3008 - val_loss: 1.3690 - val_accuracy: 0.2965\n",
      "Epoch 447/500\n",
      "272/272 [==============================] - 1s 2ms/step - loss: 1.3615 - accuracy: 0.3003 - val_loss: 1.3600 - val_accuracy: 0.2973\n",
      "Epoch 448/500\n",
      "272/272 [==============================] - 1s 2ms/step - loss: 1.3609 - accuracy: 0.3003 - val_loss: 1.3618 - val_accuracy: 0.2969\n",
      "Epoch 449/500\n",
      "272/272 [==============================] - 1s 2ms/step - loss: 1.3588 - accuracy: 0.3022 - val_loss: 1.3593 - val_accuracy: 0.2988\n",
      "Epoch 450/500\n",
      "272/272 [==============================] - 1s 2ms/step - loss: 1.3599 - accuracy: 0.3014 - val_loss: 1.3593 - val_accuracy: 0.2964\n",
      "Epoch 451/500\n",
      "272/272 [==============================] - 1s 2ms/step - loss: 1.3610 - accuracy: 0.3014 - val_loss: 1.3599 - val_accuracy: 0.2977\n",
      "Epoch 452/500\n",
      "272/272 [==============================] - 1s 2ms/step - loss: 1.3607 - accuracy: 0.2989 - val_loss: 1.3586 - val_accuracy: 0.2978\n",
      "Epoch 453/500\n",
      "272/272 [==============================] - 1s 2ms/step - loss: 1.3609 - accuracy: 0.2992 - val_loss: 1.3590 - val_accuracy: 0.2975\n",
      "Epoch 454/500\n",
      "272/272 [==============================] - 1s 2ms/step - loss: 1.3607 - accuracy: 0.3012 - val_loss: 1.3611 - val_accuracy: 0.2986\n",
      "Epoch 455/500\n",
      "272/272 [==============================] - 1s 2ms/step - loss: 1.3604 - accuracy: 0.3015 - val_loss: 1.3692 - val_accuracy: 0.2968\n",
      "Epoch 456/500\n",
      "272/272 [==============================] - 1s 2ms/step - loss: 1.3599 - accuracy: 0.3010 - val_loss: 1.3601 - val_accuracy: 0.2977\n",
      "Epoch 457/500\n",
      "272/272 [==============================] - 1s 2ms/step - loss: 1.3593 - accuracy: 0.3027 - val_loss: 1.3594 - val_accuracy: 0.2986\n",
      "Epoch 458/500\n",
      "272/272 [==============================] - 1s 2ms/step - loss: 1.3598 - accuracy: 0.3002 - val_loss: 1.3592 - val_accuracy: 0.2993\n",
      "Epoch 459/500\n",
      "272/272 [==============================] - 1s 2ms/step - loss: 1.3602 - accuracy: 0.3010 - val_loss: 1.3685 - val_accuracy: 0.2937\n",
      "Epoch 460/500\n",
      "272/272 [==============================] - 1s 2ms/step - loss: 1.3604 - accuracy: 0.3023 - val_loss: 1.3707 - val_accuracy: 0.2933\n",
      "Epoch 461/500\n",
      "272/272 [==============================] - 1s 2ms/step - loss: 1.3616 - accuracy: 0.2994 - val_loss: 1.3680 - val_accuracy: 0.2967\n",
      "Epoch 462/500\n",
      "272/272 [==============================] - 1s 2ms/step - loss: 1.3598 - accuracy: 0.3014 - val_loss: 1.3598 - val_accuracy: 0.3001\n",
      "Epoch 463/500\n",
      "272/272 [==============================] - 1s 2ms/step - loss: 1.3606 - accuracy: 0.3006 - val_loss: 1.3610 - val_accuracy: 0.2981\n",
      "Epoch 464/500\n",
      "272/272 [==============================] - 1s 2ms/step - loss: 1.3606 - accuracy: 0.3007 - val_loss: 1.3595 - val_accuracy: 0.2965\n",
      "Epoch 465/500\n",
      "272/272 [==============================] - 1s 2ms/step - loss: 1.3616 - accuracy: 0.3010 - val_loss: 1.3599 - val_accuracy: 0.2973\n",
      "Epoch 466/500\n",
      "272/272 [==============================] - 1s 2ms/step - loss: 1.3594 - accuracy: 0.3026 - val_loss: 1.3611 - val_accuracy: 0.2990\n",
      "Epoch 467/500\n",
      "272/272 [==============================] - 1s 2ms/step - loss: 1.3629 - accuracy: 0.2996 - val_loss: 1.3613 - val_accuracy: 0.2969\n",
      "Epoch 468/500\n",
      "272/272 [==============================] - 1s 2ms/step - loss: 1.3598 - accuracy: 0.3012 - val_loss: 1.3583 - val_accuracy: 0.2986\n",
      "Epoch 469/500\n",
      "272/272 [==============================] - 1s 2ms/step - loss: 1.3599 - accuracy: 0.3018 - val_loss: 1.3589 - val_accuracy: 0.2999\n",
      "Epoch 470/500\n",
      "272/272 [==============================] - 1s 2ms/step - loss: 1.3601 - accuracy: 0.3011 - val_loss: 1.3710 - val_accuracy: 0.2947\n",
      "Epoch 471/500\n",
      "272/272 [==============================] - 1s 2ms/step - loss: 1.3663 - accuracy: 0.2987 - val_loss: 1.3604 - val_accuracy: 0.2991\n",
      "Epoch 472/500\n",
      "272/272 [==============================] - 1s 2ms/step - loss: 1.3607 - accuracy: 0.3028 - val_loss: 1.3584 - val_accuracy: 0.2986\n",
      "Epoch 473/500\n",
      "272/272 [==============================] - 1s 2ms/step - loss: 1.3603 - accuracy: 0.3004 - val_loss: 1.3605 - val_accuracy: 0.2995\n",
      "Epoch 474/500\n",
      "272/272 [==============================] - 1s 2ms/step - loss: 1.3617 - accuracy: 0.3018 - val_loss: 1.3664 - val_accuracy: 0.2939\n",
      "Epoch 475/500\n",
      "272/272 [==============================] - 1s 2ms/step - loss: 1.3599 - accuracy: 0.3009 - val_loss: 1.3736 - val_accuracy: 0.2841\n",
      "Epoch 476/500\n",
      "272/272 [==============================] - 1s 2ms/step - loss: 1.3642 - accuracy: 0.2995 - val_loss: 1.3609 - val_accuracy: 0.2954\n",
      "Epoch 477/500\n",
      "272/272 [==============================] - 1s 2ms/step - loss: 1.3595 - accuracy: 0.3028 - val_loss: 1.3696 - val_accuracy: 0.2970\n",
      "Epoch 478/500\n",
      "272/272 [==============================] - 1s 2ms/step - loss: 1.3606 - accuracy: 0.3020 - val_loss: 1.3594 - val_accuracy: 0.2965\n",
      "Epoch 479/500\n",
      "272/272 [==============================] - 1s 2ms/step - loss: 1.3601 - accuracy: 0.3006 - val_loss: 1.3599 - val_accuracy: 0.2968\n",
      "Epoch 480/500\n",
      "272/272 [==============================] - 1s 2ms/step - loss: 1.3600 - accuracy: 0.3019 - val_loss: 1.3594 - val_accuracy: 0.2985\n",
      "Epoch 481/500\n",
      "272/272 [==============================] - 1s 2ms/step - loss: 1.3654 - accuracy: 0.2990 - val_loss: 1.3693 - val_accuracy: 0.2912\n",
      "Epoch 482/500\n",
      "272/272 [==============================] - 1s 2ms/step - loss: 1.3641 - accuracy: 0.2981 - val_loss: 1.3588 - val_accuracy: 0.2993\n",
      "Epoch 483/500\n",
      "272/272 [==============================] - 1s 2ms/step - loss: 1.3595 - accuracy: 0.3011 - val_loss: 1.3623 - val_accuracy: 0.2955\n",
      "Epoch 484/500\n",
      "272/272 [==============================] - 1s 2ms/step - loss: 1.3602 - accuracy: 0.3014 - val_loss: 1.3686 - val_accuracy: 0.2970\n",
      "Epoch 485/500\n",
      "272/272 [==============================] - 1s 2ms/step - loss: 1.3655 - accuracy: 0.2976 - val_loss: 1.3603 - val_accuracy: 0.2966\n",
      "Epoch 486/500\n",
      "272/272 [==============================] - 1s 2ms/step - loss: 1.3599 - accuracy: 0.2997 - val_loss: 1.3608 - val_accuracy: 0.2948\n",
      "Epoch 487/500\n",
      "272/272 [==============================] - 1s 2ms/step - loss: 1.3594 - accuracy: 0.3010 - val_loss: 1.3689 - val_accuracy: 0.2959\n",
      "Epoch 488/500\n",
      "272/272 [==============================] - 1s 2ms/step - loss: 1.3615 - accuracy: 0.2994 - val_loss: 1.3610 - val_accuracy: 0.2958\n",
      "Epoch 489/500\n",
      "272/272 [==============================] - 1s 2ms/step - loss: 1.3608 - accuracy: 0.2995 - val_loss: 1.3588 - val_accuracy: 0.2978\n",
      "Epoch 490/500\n",
      "272/272 [==============================] - 1s 2ms/step - loss: 1.3602 - accuracy: 0.3028 - val_loss: 1.3587 - val_accuracy: 0.2964\n",
      "Epoch 491/500\n",
      "272/272 [==============================] - 1s 2ms/step - loss: 1.3608 - accuracy: 0.3005 - val_loss: 1.3592 - val_accuracy: 0.2982\n",
      "Epoch 492/500\n",
      "272/272 [==============================] - 1s 2ms/step - loss: 1.3599 - accuracy: 0.3014 - val_loss: 1.3596 - val_accuracy: 0.2977\n",
      "Epoch 493/500\n",
      "272/272 [==============================] - 1s 2ms/step - loss: 1.3604 - accuracy: 0.3011 - val_loss: 1.3737 - val_accuracy: 0.2841\n",
      "Epoch 494/500\n",
      "272/272 [==============================] - 1s 2ms/step - loss: 1.3604 - accuracy: 0.3011 - val_loss: 1.3595 - val_accuracy: 0.2990\n",
      "Epoch 495/500\n",
      "272/272 [==============================] - 1s 2ms/step - loss: 1.3615 - accuracy: 0.3024 - val_loss: 1.3710 - val_accuracy: 0.2929\n",
      "Epoch 496/500\n",
      "272/272 [==============================] - 1s 2ms/step - loss: 1.3645 - accuracy: 0.2994 - val_loss: 1.3594 - val_accuracy: 0.2994\n",
      "Epoch 497/500\n",
      "272/272 [==============================] - 1s 2ms/step - loss: 1.3595 - accuracy: 0.3036 - val_loss: 1.3712 - val_accuracy: 0.2846\n",
      "Epoch 498/500\n",
      "272/272 [==============================] - 1s 2ms/step - loss: 1.3603 - accuracy: 0.2997 - val_loss: 1.3604 - val_accuracy: 0.2980\n",
      "Epoch 499/500\n",
      "272/272 [==============================] - 1s 2ms/step - loss: 1.3592 - accuracy: 0.3022 - val_loss: 1.3613 - val_accuracy: 0.2972\n",
      "Epoch 500/500\n",
      "272/272 [==============================] - 1s 2ms/step - loss: 1.3598 - accuracy: 0.3009 - val_loss: 1.3595 - val_accuracy: 0.2978\n"
     ]
    }
   ],
   "source": [
    "history = model.fit(x_train,y_train,batch_size=1000,epochs=500,validation_data=(x_test,y_test))"
   ]
  },
  {
   "cell_type": "markdown",
   "metadata": {},
   "source": [
    "# Predict"
   ]
  },
  {
   "cell_type": "code",
   "execution_count": 125,
   "metadata": {
    "execution": {
     "iopub.execute_input": "2021-07-29T13:05:58.841387Z",
     "iopub.status.busy": "2021-07-29T13:05:58.841018Z",
     "iopub.status.idle": "2021-07-29T13:05:58.859939Z",
     "shell.execute_reply": "2021-07-29T13:05:58.858593Z",
     "shell.execute_reply.started": "2021-07-29T13:05:58.841355Z"
    }
   },
   "outputs": [],
   "source": [
    "# Import Librariesyp = model.predict(ct.transform([[\"database\",\"Y\",75000.0,2015.0]]))"
   ]
  },
  {
   "cell_type": "code",
   "execution_count": 126,
   "metadata": {
    "execution": {
     "iopub.execute_input": "2021-07-29T13:05:59.220860Z",
     "iopub.status.busy": "2021-07-29T13:05:59.220511Z",
     "iopub.status.idle": "2021-07-29T13:05:59.226933Z",
     "shell.execute_reply": "2021-07-29T13:05:59.226226Z",
     "shell.execute_reply.started": "2021-07-29T13:05:59.220831Z"
    }
   },
   "outputs": [
    {
     "data": {
      "text/plain": [
       "array([[0.31991032, 0.252552  , 0.13487628, 0.29266134]], dtype=float32)"
      ]
     },
     "execution_count": 126,
     "metadata": {},
     "output_type": "execute_result"
    }
   ],
   "source": [
    "yp"
   ]
  },
  {
   "cell_type": "code",
   "execution_count": 127,
   "metadata": {
    "execution": {
     "iopub.execute_input": "2021-07-29T13:05:59.560494Z",
     "iopub.status.busy": "2021-07-29T13:05:59.560133Z",
     "iopub.status.idle": "2021-07-29T13:05:59.565517Z",
     "shell.execute_reply": "2021-07-29T13:05:59.564728Z",
     "shell.execute_reply.started": "2021-07-29T13:05:59.560463Z"
    }
   },
   "outputs": [],
   "source": [
    "index = yp.argmax()"
   ]
  },
  {
   "cell_type": "code",
   "execution_count": 128,
   "metadata": {
    "execution": {
     "iopub.execute_input": "2021-07-29T13:06:02.680487Z",
     "iopub.status.busy": "2021-07-29T13:06:02.679974Z",
     "iopub.status.idle": "2021-07-29T13:06:02.684679Z",
     "shell.execute_reply": "2021-07-29T13:06:02.683588Z",
     "shell.execute_reply.started": "2021-07-29T13:06:02.680454Z"
    }
   },
   "outputs": [],
   "source": [
    "prediction = {0 : 'CERTIFIED' , 1: 'CERTIFIED-WITHDRAWN' , 2: 'DENIED' , 3: 'WITHDRAWN'}"
   ]
  },
  {
   "cell_type": "code",
   "execution_count": 129,
   "metadata": {
    "execution": {
     "iopub.execute_input": "2021-07-29T13:06:04.760496Z",
     "iopub.status.busy": "2021-07-29T13:06:04.760004Z",
     "iopub.status.idle": "2021-07-29T13:06:04.764981Z",
     "shell.execute_reply": "2021-07-29T13:06:04.764376Z",
     "shell.execute_reply.started": "2021-07-29T13:06:04.760463Z"
    }
   },
   "outputs": [
    {
     "data": {
      "text/plain": [
       "'CERTIFIED'"
      ]
     },
     "execution_count": 129,
     "metadata": {},
     "output_type": "execute_result"
    }
   ],
   "source": [
    "prediction[index]"
   ]
  },
  {
   "cell_type": "code",
   "execution_count": 130,
   "metadata": {
    "execution": {
     "iopub.execute_input": "2021-07-29T13:06:12.981098Z",
     "iopub.status.busy": "2021-07-29T13:06:12.980604Z",
     "iopub.status.idle": "2021-07-29T13:06:12.995257Z",
     "shell.execute_reply": "2021-07-29T13:06:12.994281Z",
     "shell.execute_reply.started": "2021-07-29T13:06:12.981065Z"
    },
    "scrolled": true
   },
   "outputs": [
    {
     "data": {
      "text/html": [
       "<div>\n",
       "<style scoped>\n",
       "    .dataframe tbody tr th:only-of-type {\n",
       "        vertical-align: middle;\n",
       "    }\n",
       "\n",
       "    .dataframe tbody tr th {\n",
       "        vertical-align: top;\n",
       "    }\n",
       "\n",
       "    .dataframe thead th {\n",
       "        text-align: right;\n",
       "    }\n",
       "</style>\n",
       "<table border=\"1\" class=\"dataframe\">\n",
       "  <thead>\n",
       "    <tr style=\"text-align: right;\">\n",
       "      <th></th>\n",
       "      <th>CASE_STATUS</th>\n",
       "      <th>SOC_NAME</th>\n",
       "      <th>FULL_TIME_POSITION</th>\n",
       "      <th>PREVAILING_WAGE</th>\n",
       "      <th>YEAR</th>\n",
       "    </tr>\n",
       "  </thead>\n",
       "  <tbody>\n",
       "    <tr>\n",
       "      <th>1</th>\n",
       "      <td>CERTIFIED-WITHDRAWN</td>\n",
       "      <td>manager</td>\n",
       "      <td>Y</td>\n",
       "      <td>242674.0</td>\n",
       "      <td>2016.0</td>\n",
       "    </tr>\n",
       "    <tr>\n",
       "      <th>3</th>\n",
       "      <td>CERTIFIED-WITHDRAWN</td>\n",
       "      <td>manager</td>\n",
       "      <td>Y</td>\n",
       "      <td>220314.0</td>\n",
       "      <td>2016.0</td>\n",
       "    </tr>\n",
       "    <tr>\n",
       "      <th>4</th>\n",
       "      <td>WITHDRAWN</td>\n",
       "      <td>manager</td>\n",
       "      <td>Y</td>\n",
       "      <td>157518.4</td>\n",
       "      <td>2016.0</td>\n",
       "    </tr>\n",
       "    <tr>\n",
       "      <th>11</th>\n",
       "      <td>CERTIFIED-WITHDRAWN</td>\n",
       "      <td>manager</td>\n",
       "      <td>Y</td>\n",
       "      <td>163717.0</td>\n",
       "      <td>2016.0</td>\n",
       "    </tr>\n",
       "    <tr>\n",
       "      <th>12</th>\n",
       "      <td>CERTIFIED-WITHDRAWN</td>\n",
       "      <td>manager</td>\n",
       "      <td>Y</td>\n",
       "      <td>203860.8</td>\n",
       "      <td>2016.0</td>\n",
       "    </tr>\n",
       "  </tbody>\n",
       "</table>\n",
       "</div>"
      ],
      "text/plain": [
       "            CASE_STATUS SOC_NAME FULL_TIME_POSITION  PREVAILING_WAGE    YEAR\n",
       "1   CERTIFIED-WITHDRAWN  manager                  Y         242674.0  2016.0\n",
       "3   CERTIFIED-WITHDRAWN  manager                  Y         220314.0  2016.0\n",
       "4             WITHDRAWN  manager                  Y         157518.4  2016.0\n",
       "11  CERTIFIED-WITHDRAWN  manager                  Y         163717.0  2016.0\n",
       "12  CERTIFIED-WITHDRAWN  manager                  Y         203860.8  2016.0"
      ]
     },
     "execution_count": 130,
     "metadata": {},
     "output_type": "execute_result"
    }
   ],
   "source": [
    "df.head()"
   ]
  },
  {
   "cell_type": "markdown",
   "metadata": {},
   "source": [
    "# Save Model"
   ]
  },
  {
   "cell_type": "code",
   "execution_count": 131,
   "metadata": {
    "execution": {
     "iopub.execute_input": "2021-07-29T13:06:20.301343Z",
     "iopub.status.busy": "2021-07-29T13:06:20.300963Z",
     "iopub.status.idle": "2021-07-29T13:06:20.328866Z",
     "shell.execute_reply": "2021-07-29T13:06:20.328001Z",
     "shell.execute_reply.started": "2021-07-29T13:06:20.301309Z"
    }
   },
   "outputs": [],
   "source": [
    "model.save(\"VisaPredModel.h5\")"
   ]
  },
  {
   "cell_type": "code",
   "execution_count": 132,
   "metadata": {
    "execution": {
     "iopub.execute_input": "2021-07-29T13:06:30.321305Z",
     "iopub.status.busy": "2021-07-29T13:06:30.320956Z",
     "iopub.status.idle": "2021-07-29T13:06:30.329146Z",
     "shell.execute_reply": "2021-07-29T13:06:30.328331Z",
     "shell.execute_reply.started": "2021-07-29T13:06:30.321273Z"
    }
   },
   "outputs": [
    {
     "data": {
      "text/plain": [
       "['columntransform']"
      ]
     },
     "execution_count": 132,
     "metadata": {},
     "output_type": "execute_result"
    }
   ],
   "source": [
    "import joblib\n",
    "joblib.dump(ct,'columntransform')"
   ]
  },
  {
   "cell_type": "code",
   "execution_count": null,
   "metadata": {},
   "outputs": [],
   "source": []
  }
 ],
 "metadata": {
  "kernelspec": {
   "display_name": "Python 3",
   "language": "python",
   "name": "python3"
  },
  "language_info": {
   "codemirror_mode": {
    "name": "ipython",
    "version": 3
   },
   "file_extension": ".py",
   "mimetype": "text/x-python",
   "name": "python",
   "nbconvert_exporter": "python",
   "pygments_lexer": "ipython3",
   "version": "3.7.10"
  }
 },
 "nbformat": 4,
 "nbformat_minor": 4
}
